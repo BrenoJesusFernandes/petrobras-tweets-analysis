{
  "nbformat": 4,
  "nbformat_minor": 0,
  "metadata": {
    "colab": {
      "provenance": [],
      "private_outputs": true,
      "authorship_tag": "ABX9TyNLRZAKu62YSfmqeEyZ8dRz",
      "include_colab_link": true
    },
    "kernelspec": {
      "name": "python3",
      "display_name": "Python 3"
    },
    "language_info": {
      "name": "python"
    },
    "accelerator": "GPU",
    "gpuClass": "standard"
  },
  "cells": [
    {
      "cell_type": "markdown",
      "metadata": {
        "id": "view-in-github",
        "colab_type": "text"
      },
      "source": [
        "<a href=\"https://colab.research.google.com/github/BrenoJesusFernandes/petrobras-tweets-analysis/blob/main/Breno_de_Jesus_Fernandes.ipynb\" target=\"_parent\"><img src=\"https://colab.research.google.com/assets/colab-badge.svg\" alt=\"Open In Colab\"/></a>"
      ]
    },
    {
      "cell_type": "markdown",
      "source": [
        "<img src=\"http://meusite.mackenzie.br/rogerio/mackenzie_logo/UPM.2_horizontal_vermelho.jpg\"  width=300, align=\"right\">\n",
        "<br>\n",
        "<br>\n",
        "<br>\n",
        "<br>\n",
        "<br>\n",
        "\n",
        "# **Analise de sentimentos utilizando um LLM especializado em textos financeiros (FinBERT)**\n",
        "---"
      ],
      "metadata": {
        "id": "hzzCHtl4zGRK"
      }
    },
    {
      "cell_type": "code",
      "source": [
        "#@title **Identificação do Grupo**\n",
        "\n",
        "#@markdown Integrantes do Grupo, nome completo em orgem alfabética\n",
        "Aluno1 = '41890590, Breno de Jesus Fernandes' #@param {type:\"string\"} \n",
        "Aluno2 = '31895204, Fernando Goncalves dos Santos' #@param {type:\"string\"}\n",
        "Aluno3 = '31725279, Gustavo Businhani da silva' #@param {type:\"string\"}\n",
        "Aluno4 = 'None' #@param {type:\"string\"}\n",
        "Aluno5 = 'None' #@param {type:\"string\"}\n",
        "\n"
      ],
      "metadata": {
        "cellView": "form",
        "id": "58DR2O6MjNk3"
      },
      "execution_count": null,
      "outputs": []
    },
    {
      "cell_type": "markdown",
      "source": [
        "# **Resumo**"
      ],
      "metadata": {
        "id": "rD4p7oCKjitR"
      }
    },
    {
      "cell_type": "markdown",
      "source": [
        "Neste artigo introduzimos ao leitor o atual estado da arte no que se referente análise de sentimento em textos financeiros com Deep Learning. Em nosso refencial teorico explicamos a evolucao das estrategias e seus devidos empecilhos, para que assim saiba em detalhes como finbert funciona e suas aplicacoes. Em seguida, abordamos exemplos descritos e demonstrados em codigo de análise de sentimento com um pequeno projeto desenvolvido mostrando a utilidade da criacao dessa feature e sua correlacao com acoes projetadas ao longo de uma serie historica. Encontramos correlacoes interessantes que podem ser estudadas mais a fundo em futuros estudos, porém destacamos limitacoes por consumir um alto custo de processamento."
      ],
      "metadata": {
        "id": "ppo-Hk9Orp35"
      }
    },
    {
      "cell_type": "markdown",
      "source": [
        "# **Referencial Teórico**\n",
        "\n"
      ],
      "metadata": {
        "id": "W3AagueAjp49"
      }
    },
    {
      "cell_type": "markdown",
      "source": [
        "## **Abordagem Classica**\n",
        "\n",
        "\n",
        "\n"
      ],
      "metadata": {
        "id": "mN4w9lCpBu2n"
      }
    },
    {
      "cell_type": "markdown",
      "source": [
        "Uma grande parte da literatura financeira e contábil explorou a utilizacao do processamento de linguagem natural (NLP) para analisar textos financeiros. Porém, a maioria desses estudos dependem de algoritmos de que assumem uma estrutura de **\"Bag of Words\"**. Essa estrategia ignora o contexto e analisa o texto como uma coleção de palavras individuais tratadas\n",
        "independentemente, sem considerar a gramática ou a ordem das palavras ([HUANG; WANG; YANG, 2022, p.3](#scrollTo=tEeYTbLjrMzc)). \n"
      ],
      "metadata": {
        "id": "WhCXy16P96nn"
      }
    },
    {
      "cell_type": "markdown",
      "source": [
        "<img width=\"50%\" height=\"85%\" src=\"https://www.researchgate.net/profile/Mateusz-Malinowski/publication/308884219/figure/download/fig2/AS:413667188330499@1475637351707/Bag-Of-Words-BOW-representation-of-the-input-that-is-next-follow-by-Softmax.png\">\n",
        "\n",
        "Figura 1 – Representação do input de uma sentenca utilizando a estrutura Bag-Of-Words seguida pela funcao de ativacao \"Softmax\" ([MALINOWSKI; FRITZ, 2016, p. 8](#scrollTo=YDYUgvDkWPh0)) "
      ],
      "metadata": {
        "id": "P_fpiCQw9p13"
      }
    },
    {
      "cell_type": "markdown",
      "source": [
        "## **Redes Neurais e Algoritmos de Deep Learning**\n",
        "\n"
      ],
      "metadata": {
        "id": "d_FmxdvZteh2"
      }
    },
    {
      "cell_type": "markdown",
      "source": [
        "Nos últimos anos, pesquisadores de NPL introduziram técnicas baseadas em Redes Neurais e Deep Learning para aprimorar a análise de textos financeiros. Os algoritmos de deep learning pertencem a uma classe de algoritmos de machine learning chamados de redes neurais. Possuem uma camada de entrada e uma camada de saída conectadas por uma ou mais camadas ocultas. A camada de entrada recebe os dados brutos iniciais (por exemplo, texto em tarefas de NLP) e os envia para as camadas ocultas, que processa os dados usando funções de ativacao não lineares com determinados parâmetros e, em sequencia, alimenta a próxima camada ([HUANG; WANG; YANG, 2022, p.10](#scrollTo=tEeYTbLjrMzc)).\n",
        "\n"
      ],
      "metadata": {
        "id": "MoQImQv-162o"
      }
    },
    {
      "cell_type": "markdown",
      "source": [
        "Os algoritmos de rede neural geralmente especificam uma função não linear e usam dados de treinamento para encontrar parâmetros que minimizam os erros de previsão (ou seja, a diferença entre a previsão da camada de saída e o valor real) ([HUANG; WANG; YANG, 2022, p.11](#scrollTo=tEeYTbLjrMzc)). \n",
        "\n",
        "\n",
        "\n"
      ],
      "metadata": {
        "id": "CqQO9-xq1_yE"
      }
    },
    {
      "cell_type": "markdown",
      "source": [
        "<img width=\"50%\" height=\"85%\" src=\"https://www.researchgate.net/profile/Mateusz-Malinowski/publication/308884219/figure/fig8/AS:668879525257225@1536484714368/Recurrent-Neural-Network.jpg\">\n",
        "\n",
        "Figura 2 – Recurrent Neural Network\n",
        " ([MALINOWSKI; FRITZ, 2016, p. 9](#scrollTo=YDYUgvDkWPh0)) "
      ],
      "metadata": {
        "id": "3oHPyI5qcIa1"
      }
    },
    {
      "cell_type": "markdown",
      "source": [
        "## **Transformers** "
      ],
      "metadata": {
        "id": "oeIxgRzexSQh"
      }
    },
    {
      "cell_type": "markdown",
      "source": [
        "Nos últimos anos, os pesquisadores de NPL introduziram os transformers que\n",
        "têm embeddings contextualizados (ou seja, eles representam palavras usando diferentes vetores, dependendo do seu contexto). Os Embeendings contextualizados melhoraram substancialmente a tarefa de NPL na representação de textos. Os ultimos mais famosos utilizados sao: ELMo, OpenAI GPT, e o modelo BERT. ([HUANG; WANG; YANG, 2022, p.12](#scrollTo=tEeYTbLjrMzc)). \n",
        "\n",
        "\n",
        "\n",
        "\n",
        "\n"
      ],
      "metadata": {
        "id": "fxM-Fpv53LD4"
      }
    },
    {
      "cell_type": "markdown",
      "source": [
        "<img width=\"50%\" height=\"85%\" src=\"https://wiki.tum.de/download/attachments/808649513/%E6%88%AA%E5%9C%96%202021-06-08%2001.31.25.png\">\n",
        "\n",
        "Figura 3 – Arquitetura do Transformer ([DEVLIN et al., 2018](#scrollTo=o5lcInodcxOX)) "
      ],
      "metadata": {
        "id": "lgqTzg40xRFj"
      }
    },
    {
      "cell_type": "markdown",
      "source": [
        "\n",
        "\n",
        "No entanto, os transformers também têm várias desvantagens em comparação com as abordagens mais simples. Primeiro, o enorme número de parâmetros pode ser difícil e caro para treinar e utilizar, tambem exige quantidades substanciais de dados textuais, recursos de computação (por exemplo, armazenamento e processadores de alta capacidade, como uma unidade de processamento gráfico [GPU] ou servidores em nuvem), energia\n",
        "consumo e tempo de treinamento ([HUANG; WANG; YANG, 2022, p.13](#scrollTo=tEeYTbLjrMzc)).\n",
        "\n"
      ],
      "metadata": {
        "id": "bKuNqs9wuGzj"
      }
    },
    {
      "cell_type": "markdown",
      "source": [
        "Mesmo os pesquisadores de linguística computacional questionam se\n",
        "LLMs recentemente desenvolvidos são muito complexos com muito pouca melhoria para justificar seu aumento\n",
        "custos de implementação ([STRUBELL; GANESH; MCCALLUM, 2019](#scrollTo=12jzuFD0fjkI))."
      ],
      "metadata": {
        "id": "02TzqqYm537_"
      }
    },
    {
      "cell_type": "markdown",
      "source": [
        "## **GPT-3**\n",
        "\n"
      ],
      "metadata": {
        "id": "4NSelW-lbLRa"
      }
    },
    {
      "cell_type": "markdown",
      "source": [
        "O modelo GPT-3, desenvolvido pela OpenAI, e o modelo de linguagem com mais parâmetros, a maior escala e as capacidades mais fortes. Usando uma grande quantidade de dados de texto da Internet e milhares de livros para treinamento de modelos.\n",
        "Apesar de seus poderosos recursos de modelagem e descrição, existem problemas e limitações significativos. Em primeiro lugar, o modelo GPT-3 não entende a geração de linguagem natural bem e às vezes gera conteúdo incontrolável. Em segundo lugar, o treinamento do modelo GPT-3 requer uma grande quantidade de poder de computação, dados e investimento de capital, e libera emissões significativas de dióxido de carbono. O desenvolvimento de modelos semelhantes só é possível em laboratórios com recursos adequados.\n",
        "Além disso, como o modelo GPT-3 é treinado com dados de texto da Internet repletos de mensagens de erro e preconceitos, muitas vezes produz capítulos e parágrafos com tendências tendenciosas ([ZHANG; LI, 2021 ](#scrollTo=EQrqVweHh5Lz))."
      ],
      "metadata": {
        "id": "-YQoOa3hbYlf"
      }
    },
    {
      "cell_type": "markdown",
      "source": [
        "<img width=\"50%\" height=\"85%\" src=\"https://miro.medium.com/max/640/1*Pxb0c3F7vb0bHOpN29_Prg.png\">\n",
        "\n",
        "Figura 4 – Tendência do número de parâmetros dos modelos de NLP estado da arte ao longo dos anos\n",
        " ([NARAYANAN et al., 2021, p. 1](#scrollTo=YS4TXuthjlwR)) "
      ],
      "metadata": {
        "id": "rzZej5DnjqYm"
      }
    },
    {
      "cell_type": "markdown",
      "source": [
        "## **BERT (Bidirectional Encoder Representations from Transformers)**"
      ],
      "metadata": {
        "id": "IrIoIl-QEXRH"
      }
    },
    {
      "cell_type": "markdown",
      "source": [
        "E um novo modelo de representação de linguagem desenvolvida pela google. O BERT foi projetado para pré-treinar representações bidirecionais profundas de\n",
        "texto não rotulado por condicionamento conjunto em ambos\n",
        "contexto esquerdo e direito em todas as camadas. Como resultado, o modelo BERT pré-treinado pode ser ajustado com apenas uma camada de saída adicional\n",
        "para criar modelos de última geração para uma ampla\n",
        "gama de tarefas, como responder a perguntas e\n",
        "inferência de linguagem, sem modificações substanciais na arquitetura específica da tarefa ([DEVLIN et al., 2018](#scrollTo=o5lcInodcxOX))."
      ],
      "metadata": {
        "id": "GtpzzK7CeYDi"
      }
    },
    {
      "cell_type": "markdown",
      "source": [
        "Pesquisadores que desejam usar transformers para tarefas específicas de NPL\n",
        "podem ajustar um modelo de linguagem pré-treinado usando uma amostra de treinamento muito menor. Este processo de duas etapas, também conhecido como aprendizado de transferência, pode alcançar alto desempenho sem\n",
        "incorrendo em custos substanciais de implementação ([HUANG; WANG; YANG, 2022](#scrollTo=tEeYTbLjrMzc))."
      ],
      "metadata": {
        "id": "f2sBDA7O7Jjc"
      }
    },
    {
      "cell_type": "markdown",
      "source": [
        "## **FinBERT**\n",
        "\n",
        "FinBERT é um modelo de linguagem estado da arte adaptado ao dominio financeiro. Ele incorpora conhecimento financeiro e pode resumir melhor as informações contextuais em textos financeiros ([HUANG; WANG; YANG, 2022](#scrollTo=tEeYTbLjrMzc))."
      ],
      "metadata": {
        "id": "82a4pSIXA_6b"
      }
    },
    {
      "cell_type": "markdown",
      "source": [
        "\n",
        "\n",
        "\n",
        "### **Como funciona?**\n",
        "  \n",
        "São feitas duas etapas: uma chamada de pré-treinamento, que é a etapa que demanda muito texto e capacidade computacional e o “fine-tunning”, em que são “colados” no BERT as camadas para o uso do modelo para a tarefa e feito o treinamento. Esse treinamento, ao menos em relação ao pré-treinamento, é menos custoso computacionalmente.\n",
        "\n"
      ],
      "metadata": {
        "id": "_aPdQzeSz09z"
      }
    },
    {
      "cell_type": "markdown",
      "source": [
        "\n",
        "Para o treinamento do BERT são utilizadas duas técnicas: MLM (Masked Language Model) e NSP (Next Sentence Prediction). No MLM, o modelo é levado a descobrir qual palavra foi mascarada no texto, já o NSP, visa que o modelo decida se a próxima frase é a sequência da anterior ou não.\n"
      ],
      "metadata": {
        "id": "6G6AoN4FFIYN"
      }
    },
    {
      "cell_type": "markdown",
      "source": [
        "### **Idiomas Suportados**\n",
        "\n",
        "Originalmente o FinBERT foi treinado apenas em textos em inglês, assim como o BERT. No entanto, posteriormente os pesquisadores lançaram versoes treinadas em outros idiomas inclusive no portugues brasileiro, feito pelo grupo de inteligencia artifical da USP ([Hugging Face - Turing USP](#scrollTo=CoN00EMTf0jJ))."
      ],
      "metadata": {
        "id": "d7e5PVRM-z0w"
      }
    },
    {
      "cell_type": "markdown",
      "source": [
        "![finbertptbr.png](data:image/png;base64,iVBORw0KGgoAAAANSUhEUgAABiYAAAJGCAYAAADf4z2eAAAAAXNSR0IArs4c6QAAAARnQU1BAACxjwv8YQUAAAAJcEhZcwAADsMAAA7DAcdvqGQAAP+lSURBVHhe7J0HYBTF28afdEihd0GaAir4V2yAfmBDxYKiiIpgL9gVG3ZRUOy9i2DDhiiooIgKFsACqCACUqWGHtJzueSbd3bnbnZzl1wgQdDnp5Nnnvedmd2b3buE3dvduJKSklIgDoASKpVKpVKpVCqVSqVSqVQqlUqlUqnUalT3xEQYk44G88wzHx3mmWc+Oswzz3x0mGee+egwzzzz0WGeeeajwzzzzEeHeeZ3hXy8dqGmcW4t7P3KvKMOzPuVeUcdmPcr8446MO9X5h11YN6vzDvqwLxfmXfUgXm/Mu+oA/N+Zd5RB+b9yryjDsz7lXlHHZj3K/OOOjDvV+YdjZczFHKegkqlUqlUKpVKpVKpVCqVSqVSqVQqtbrVdysnOV9hWXpV6MPQ09OHoaenD0NPTx+Gnp4+DD09fRh6evow9PT0Yf673r1iwlhzxoKe3vlJ70Dv/KR3oHd+0jvQOz/pHeidn/QO9M5Pegd65ye9A73zk96B3vlJ70Dv/KR3oHd+0jv823y8nKOQMxVUKpVKpVKpVCqVSqVSqVQqlUqlUqnVrsFgSal2pcoqLZVTFq73K/PMM182zryjzDPPfNk4844yzzzzZePMO8o888yXjTPvKPPMM182zryjzDPPfNn47pj3PWOCEEIIIYQQQgghhBBCCCGk+oiXMxRyZsKcnaCnp6end6Cnp6end6Cnp6end6Cnp6end6Cnp6ffUe+7YsJcWxEN5plnPjrM70r53Nx85BcWobi4WH/g/ZeQy+ISExNRMyUZaWk1TVSVnTf/ZWGeeeajwzzzzEeHeeaZjw7zzDMfHeaZZz46zDO/a+Q9z5igUqnU3V2DJUFszcpBYkIC0lJrICkpEXFypH43Y826jWjWpIHrKkdpaSkCgWLk5hWgOBhEnVrpSEhMKHfeqFQqlUqlUqlUKpVKpVKp1J2lfMYEIeRfxcbNWahZIwXpoSsFdk925MSETY5cOVJQiAb1arsRQgghhBBCCCGEEEL+WXjFBJVK/deo3L6puDiIunUyVGD3pqpOTAhbtmYjMVGuIKkZ0zxSqVQqlUqlUqlUKpVKpVKp1anVfsVEcM18FM/7AsG/f0VJ1loVKUV87WZI2PMAJHY8HgnN9nUakl2QIPJzA4ivUQMpCW5oR1kwEn17X4pxi1vj4g9/wCt9mrgJQnYcuVqidkYakpOT3MjuS1WemCgqCiArO5dXTRBCCCGEEEIIIYSQXYJ4uRe5fhJ2qBjv18rnC78fjYIvHkfx6vkoTUhGXL2WukhdYgVfPIaC716z+nr7e7X684V//oB3PvgcX/1ZGDHv9f+B/Nb1WPb3Rmz25NdiTL94xMeXX4bPiDz+2jkTMW6x7HrLMPKdr7HWly+7XhXlo61PM+zX+xo8990Wt120/hWNv/35te/0ddal3xj1OsvmHY0+n832PxlXPzMdW0J9Z2B4hHaRy3BML3f8aPMT6/qU//rlmQ7bU8qOG3n8aHl50LU8U4J4kTlxHgJe/vwxz3xkZd7rmfcq817PvFeZ93rmvcq81zPvVea9nnmvMu/1zHuVea9n3qvMe/0/m4+HPiAI5/IJrcb7tXL5gokPAUkpSGjXHQntVenQA4m6HKlVx9r3UG3jUfDZA2X6l1X1/+ZV+HPuauREy0eMx57fvDEL+UWFWL9xc8S81//78zm5hQgmp6CeHOe18lKvEGscR52uTbqei4v3kgatcfE5R6OJLx9uH7l/2bgklJZhHf789Dlc02M/XPvpVt3G38+r1ZBXoomWdzXc0Mu6eRPx/HVH4ODrJ2KrNIvSLhrljx99fipan5OHzUCBamfaOxrur1Vx1gXXYMi9j0QsUQmNV8H4ZdTJy4eanOCoiN/nLcCPP/+GTZvVa7dYtXpdmdi/Aeekj6648xV5/srGmXeU+chx5h1lPnKceUeZjxxn3lHmI8eZd5T5yHHmHWU+cpx5R5mPHGfeUeYjx5l3dOfm4+WeTnK8yqNSsb1fpWJ7nxZ88QSCmX8hsdFeKF3zJ4IrfkVw5VwU//27LlIPKi1Zo9rs0RHB9UtQOPmJ8DhSETXe6LplmDl3GdZIwI77VSq296tUbO9qk27H4OxeR+P0rk0j5kMqFdv7VSq296tUbO9Xqdjer1KxvV+lYnu/SsX2fpVKaT625geRnFobyb68U1Gc+RZWB0sQLFHFVlVuPyzc3qMtT8fLC6XNErwst3Hy50WlYnu/SsXyIYb+EFp+MHMK7u8iwXV47tkPscxqXzXzY3m/SsV4g/GiUrF8CHv9CzdjytCuOrzsmbvw2hxp2hW3m7yUkjV4q69uAvRV28Ka/2DwDuiXH238cuYn1Me0l3Gt9Zlxz9V4Xq+PwuoXUl0BWrfaEyPuvTliiYrpL2q8X6Vie1srID+/AE89/zp+m7cAK1evVfXR+iTFX0uW4+5hT+LD8Z/j5VHv6jbSNiJz38DVD01UM+ewbvpIPDb+TwTE+HK7HDJPMlFmviKpVGzvV6nY3q9Ssb1fpWJ7v0rF9n6Viu39KhXb+1UqtverVGzvV6nY3q9Ssb1fpWJ7v0rF9n6Viu39KhXb+1UqtverVGzvV6nY3q9Ssb1fpWJ7v0rF9n6Viu39KhXb+1UqtverVGzvV6nY3q9Ssb1fpWJ7v0rF9n6Viu39KhXb+1UqtverVGzvV6nY3q9Ssb1fpWJ7v0rF9n6Viu39KhXb+1UqtverVGzvV6nY3q9Ssb1fpWJ7v0rF9n6Viu39KhXb+1UqtverVGzvV6nY3q9Ssb1fpWJ7v0rF9n6Viu39KhXb+1UqtverVGzvV6nY3q9Ssb1fpWJ7v0rF9n6Viu39KhXb+1UqtverVGzvV6nY3q9Ssb1fpWJ7v0rF9n6Viu39KhXb+1UqtverVGzvV6nY3q9Ssb1fpWJ7v0rF9n6Viu39KhXb+1UqtverVGzvV6nY3q9Ssb1fpWJ7v0rF9n6Viu39KhXb+1UqtverVGzvV6nY3q9Ssb1fpWJ7v0rF9n6Viu39KhXb+1UqtverVGzvV6nY3q9Ssb1fpWJ7v0rF9n6Viu39KhXb+1UqtverVGzvV6nY3q9Ssb1fpWJ7v0rF9n6Viu39KhXb+1UqtverVGzvV6nY3q9Ssb1fpWJ7v0rF9n6Viu39KhXb+1UqtverVGzvV6nY3q9Ssb1fpWJ7v0rF9n6Viu39KhXb+1UqtverVGzvV6nY3q9Ssb1fpWJ7v0rF9n6Viu39KhXb+1UqtverVGzvV6nY3q9Ssb1fpWJ7v0rF9n6Viu39KhXb+1UqtverVGzvV6nY3q9Ssb1fpWJ7v6oSr89UKC9nKUTDZy4sL2J7HbC8iKvBNX8g8NsnavQSXeJr1EJyp+ORtE8PJO7dBUmqJHbojuT9T0Bcel21EqodSnSfktV/OOPpAZ3xjEpM7pGuQzrgxO18yOuA5UVsrwOWFxFNSEHNehlIMVcI+PPG64DlRWyvA5YXsb0OWF7E9jpgeRHb64DlRWyvA5YXsb0OWF7E9lLJ24a8QBJSayWXyTsVFzde6fFtL2J7HbC8iO11IOw9mHzDo3F0LyeEL9ch02pf2fG1tb0OWF7E9joArFu+TCKa8vp7MPmkOjh64FXoo4NzMGPBulD7iP0tH9P45cyPp48bj/Otz3R7fURc1V5XwuTm5mHMBxPKLRMmTnEam/6ixovYXgcsL2J8BchJh/07tsfAs09D39NOwHVXXoDPvpiKsR9/rutSbrtxkG7z8qj33F4VUFiM/KJi1+xMgtg6+1uMeftjjH73E4x8/yvMWhV0c1GQedIT5s6XqzHPr6gOWF7E9jpgeRHb64DlRWyvA5YXsb0OWF7E9jpgeRHb64DlRWyvA5YXsb0OWF7E9jpgeRHb64DlRWyvA5YXsb0OWF7E9jpgeRHb64DlRWyvA5YXsb0OWF7E9jpgeRHb64DlRWyvA5YXsb0OWF7E9jpgeRHb64DlRWyvA5YXsb0OWF7E9jpgeRHb64DlRWyvA5YXsb0OWF7E9jpgeRHb64DlRWyvA5YXsb0OWF7E9jpgeRHb64DlRWyvA5YXsb0OWF7E9jpgeRHb64DlRWyvA5YXsb0OWF7E9jpgeRHb64DlRWyvA5YXsb0OWF7E9jpgeRHb64DlRWyvA5YXsb0OWF7E9jpgeRHb64DlRWyvA5YXsb0OWF7E9jpgeRHb64DlRWyvA5YXsb0OWF7E9jpgeRHb64DlRWyvA5YXsb0OWF7E9jpgeRHb64DlRWyvA5YXsb0OWF7E9jpgeRHb64DlRWyvA5YXsb0OWF7E9jpgeRHb64DlRWyvA5YXsb0OWF7E9jpgeRHb64DlRWyvA5YXsb0OWF7E9jpgeRHb64DlRWyvA5YXsb0OWF7E9jpgeRHb64DlRWyvA5YXsb0OWF7E9jpgeRHb64DlRWyvA5YXsb0OWF7E9jpgeRHb64DlRWyvA5YXsb0OWF7E9jpgeRHb64DlRWyvA5YXsb0OWF7E9jpgeRHb64DlRWyvA5YXsb0OWF7E9jpgeRHb64DlRWyvA5YXsb0OWF7E9jpgeRHb64DlRWyvA5YXsb0OWF7E9jpgeRHb64DlRWyvA5YXsb0OWF7E9jpgeRHb64DlRWyvA5YXsb0OWF7E9jpgeRHb64DlRWyvA5YXsb0OWF7E9jpgeRHb64DlRWyvA5YXsb0OWF7E9jpgeRHb64DlRWyvA5YXsb0OWF7E9jpgeRHb64DlRWyvA5YXsb0OWF7E9jpgeRHb64DlRWyvA5YXsb0OWF7E9jpgeRHb64DlRWyvA5YXsb0OWF7E9jpgeRHb64DlRWyvA5YXsb0OWF7E9jpgeRHb64DlRWyvSrycnpAzFObeTsb7Nda8POjaRj9bIiUNJWv/QsnK3xH8+zeUrFsEJNdw1sA5T6IJSF93HK+uxa9TpuLrlYUqsBkzPpiIt1V565tlTn7d7xiv/PifNvr6LcM0Nx5e/6WYqmLTFpai+O9f8dnYT/Da2xPx/VKVXzhTjzt1obV8FXvrg5lYUhrElrkzMUG3H483xk7FjCV5oXah8TcsxNRPJuIN1ea1MZ8462mKWd/Q+oVV91evY4JqF+l1yDp74sXbsHz6VLz7nlqOWtbr732JST+uQHax6bcBsz6biAk/bUDxuj/1Or2u2o169xOMm7IIW0PtHPVv38JtBShKTEbt1LL50CZzvT/v19CzFlRJsPSMd9ZF6D9dP0chlF82Djed2Nbp3+5kXDNqtn7GgenndFZqsOKhcBMgxY6LbpmPcfdfiiPauc9QaHc4Lrl/HP5Ug3vauevjXf++eGdlKfL/HIObzbrdP123n3F/uN1Bd8xRAyg+GIBmup/pPxwzQuOrH6IGK15qPXB83OKl4bhHJeto5LwkpIGLnXciZeYnUnu9faz1mbF8Tah9KG95m/ETp+D3P+RNFZ2PP/sSmRv8+31Yy9u/REP5cjC3aTqqu75URFO/Xh1cf+UFukjdIG02bd6i+1REk6Mux51ndsJOf9z2opn4RH2UHnDSKbjgbFW6tkaj2hU8pd7Mk09jnt8oyjzztvcr88zb3q/MM297vzLPvO39yjzztvcr88zb3q/MM297vzLPvO39ynzV5q1nTFSNBv/+VRmXErWQvM0ozlyE+AatkNBkH13iG+6FYOZilObIgUi5YsIh+Pec6OMjCTUT47XWqVsbjaRkOCc34koDKCpSRb607OkXQH6ZuHy7OYDNq3/ER9+tQH5qPTRv3AzNm6h8sTNOvt1exzZj3sQv8NGCbNRs1gYHta6N5MIs/PnzHCwtsZa37leMnbwAS4P10KX7kTi1a0vUh+ofiHfW2axvaP18GvPrKMHa6d/j62XZSG22F7p2aof/taiBnGV/4o/M0lC/osIANi37Ge9+vQybazbGAZ32wj51k7A180989MV8FERbj7gibMorRkKNdGREyDuntqQuJVJ/nyqJhI5HaG+IW/U2rjm8Lx7/3L3yYPFEPH/xwRj4qvJ2+3CXcHzTN/hmkhPqevOJONBqH7diDAbs1xF97xmJGfpB3IrFM/DaPX3Rcb+BeGeF8lb7iGyahFuOGRBeN7US0ZpGxB7f7mfF46wvv/fZq0047lHJOho5Lwlp4GLi5cxPLOvTtVWzcDyS+th/v/bof2bvqKVRwwZYv35T9PFi1XLILyhA/Xp1XRemZs0auviRmPSpiE3fv4TbP5zrOi/rvnoJI8b8DPXKFDlY9uVI3HP7UFx963CMUH3ydXx7KMDcvzYgtdX/sG8d52REQos2aJGhq9HxzxeVSqVSqVQqlUqlUqlUKpX6D2joiomy37jePl+yda0yDqWlQZRsWYXiuZ/rWzwhqQaQkIjiVXMR+G0SSjevVB3CRztLtq4pM57jm+J/xxyOQxrLd5LT0UHVe0o5SJ4FofLS2eDvbzDeDW5duwHp/+uJvr26qbEOQMuaVnvdzm4fQHZJc5zUpyd6dt0X+3c9EifslQoEN2LJovDyls9fiWzUxiE9u6Bd89qo12p/nHBoU9QsDaDmntb6uu3N+CGvJIQ/b9B+M1ZsCAB12uCEI/ZFh0774H9d/w99+xyDLs3ch9yGSg107HkC+hxzEPbvtB+6HNcTRzeJVxOwArPkALwZXxVHlS/ORl5RPFIz0iPm9bjCBwOwh+dKAFfvn+Fp3/jsseFnG6x4y70dkDuMyjvtwu0N4z7aihN/zPU9EwGY+MI4zLHbmy73HB5ej0bH4q6ZJ2Lwh/Pw6fUH6jZO+6UYeeUAyMUYTQa8gl8yg874uUsw9uquwLoxGHDLGKwLte8Seq7D6rdP14sRZk9ahl4/5qm42//Orrp91ztdr8r3Q93G8vwHN+a0vwNdQ+NLxWmmUV7HA1vx9ZvP4SMdPBDdOjQJtXfU6RrqG/LlbK+Y5sdqLyiv4zGvj+u3l2jjxerLYe+2rZCXn6+fJ1ERpo30qYhAfgG25cpZQy/5c9/A07+1wAVnH4L6yq/7aiSentsUl953D5598Cocmz0Ro2dVfOIjMhuxNbcGmjVPxaZFf2L+b4uxcpN+ykX5+OeLnp6enp6enp6enp6enp6enp7+H/DWFRP6ZIV15mJ7vYwuSEANHy8PbIjXC0ZJMYpX/IKSjcsQVxJQ4QTdRrc1lBnP8pJXP8vkddzFbm8njDfBOm1wZMdU7cu0t70brN9mfzTWz55w2tdp7DwUuqigyG2n6sUlQM0MNEtzvI63rIM6KMHmjRvddhHW33glIfx5g/ZJSJZzNDkb8Of6Yicv7VNU0LQ3Jbk2WjRUcyx5HUtAq7aN1boHsHb1Rh0M9dcah5JN+SiIT0G63NkmQl6PWxFWe29//b9Ga5m8yQKnX3ERerWo6YQaHo3+V7gnBn5djnVZVvtwFx8T8fitd2PMrK26jW6/5Bu887nkTsej912MAxu6y6/ZGqcPdp+hMHYMJi4Jj++o/t9lGZr2ugontrCvgNFVr5emgvFaI7xeUeGew5GQkKBKPBJS6uHYe2bocOvbHsGVB4bbe/tLC0cj56UiDSIRYX7s9tHW55r7cVHU9XH99hJtvFh9BcizJd585+Nyb9EkOWkjbbebdRPx1IdAvytOhJwHlH1mxg8F6H7GiWiuPxLr4OCDmuKPP/6U5HaQi5yiAJb99C1+2hgECtfgu88nY+qiip4xsYPzS09PT09PT09PT09PT09PT09PXwXeumKiajS+djNdR0kRSosLkNjhKCR36oWEZvsAwQDiMxohaa9uSDrgZCTuc7RqU6jiRbpPfB2nr3SPqEpUJUrcxY7bCSuuSUxEDbudUcEX11hea0oCUpTk528LxdNrJqlANtbIM7pNuxVbsVVJei150LeqbF6M76f8gC9Vmezq9/OznPYqHcL0N2rQvjY6d94TdYJZmD1lIt75ZCZ+W7oVxXZ7+aHVqdrx0oZpkHMO2dmbvXFXN+UXIa5GKur7+7kaWlF9JYC5QsDSO7tG7OdouLvWMnmTVdVE5zIWE68hB3Q1a7E122pvugz9IbwehZvwy3OnA4vH4ZpDB+C1v9z2G9bha914HAa0ca/wkCsIRNsMcK8ImIh1G8qul1kM0BpN1eSUyUdrX0E7a2APTTqeiCuf+h6/DDta7avR+ktLRyPnJSENFLHMj93eT4fTcf+H8/DLkyeijjV+RFWMuPdmp1IZ/ONUViug+R5NcNmFZ+uHYEc6OSExyUkbabtdFP6F0S/+jEz1WbBNfbQ5bMWmrAJ8O+oh3H6fWz5ai1ppoZ16O4hHs/8diV7dOmLfQ7vjxLZJWGI9cD0i/vmiUqlUKpVKpVKpVCqVSqVS/wF1v0qvAlWkCXseqOpq8PxsFP3yIYIrf0Vw9TwEF36L4kXfIr52UyAxBaW5W1G6dS0CC6eitNg5euf09Y7nUU20uMGfN1hxjeU96lQ9cY3lTUgTjjc9cC80TczCz1/+hBWZ25C96k98+fNa5Kc2R+cOcnWI7hAFfzI8rjfl+j0ORJ+zjsYJHRojtSATs2dMwxsfzcTSbNPeqFMNeyuu8ce3IrsAqJlaxxf3q1MtG69I/fjz/kYxxD0p1yfWxYGnnO7eNmoiJv6S6WtXEWZcSz1EyPvV4I9HVIU+cVCCYImc4CnB6t8/xTNXd0OdiO2NWkTMGzW4Pur8WO3d9dk0/ip5PjawYC3QvE0F62N0e/GPU1mtmGgnJ6rkpISQVYAGZ9yIW48rxkfvz3CfI+E8x6L7hbfigbutckYnna089VA/VfaT8MOu66TX8NwaLzL++aJSqVQqlUqlUqlUKpVKpVJ3vjr3WJIzFVWkiR2Pc6p5WShZNQ/Fy39B8bKfUPz3HJRkLkFp9gbE1chAfP09EdegFRKbH+De7kn6Hh8aJ6JqosUN/rzBimss71Gn6olrLG9CGiteszbqJCspzcL3U6di7PRlyKnTDr1PPAiNEtx2ddvicP2MDHm2haOH71Pb6e/BbR9SgxWPz0DTzoehd99T0Hf/ukjOz8T3Py8N57U61bBXP9bn6qs4MmrV88ZFN+cjHynIaOCLl1GnWjZekfrx5/2NYoh7UhXEGzTBUdr3wVtL5MBuhCs+lN7exfS31EOEvF8N/nhENfjjFalFxLxRQ+XjdU4ejPtPkPoM3HXP21jmaRdNtxf/OJXV2PCfnKiykxJCo044uVM6mhx1Bo7e/DXenpOjgvvgkP8B07/5GdvM8/6LCxAIP/u/kjREuxYpWLNkoXviIw/zV2ahTp2K1t0/X1QqlUqlUqlUKpVKpVKpVOrO1/AVE3JjJ9Ed9AnN9kPSgb2VVaPreLiUlgRQ9OcUFP34FgJzxqN48Q/O7ZuSaiDpgN5I2GO/MuN5vCYPWeuV2PkaSZDvDeflZTte4iqfPz8Tm6SJYLfXWF40lJe6FOPdoO3dkIPrVX7rL3PwZ0lzHN2nJ849+1RceNaJ6HPMPqgv93zy94/k7ddh5T2vw7QvcedX+3hkdGqPtjWBYHGxEw/1l7oU44uwaGGm+pmEpns0cJJWfmNOAUpTaqCetXw7H/JuNeQrah/yfvx5fyMrb+MfP4Trg1mY8+k499ZMTdC5dVMnvtfR6N9LYh/hpntHYs7GQiceV4itCyfigXMvw2sLC5R3xzHjVbT88tobr0Ou+n0I18cyvvYuOuZWdN1V40O4Ptr8RGzfGv1vuNG5auLzu/D4p/JMCtPO1ajLqyxu/4rGj+pjxz45UamTEvXqoP7GOfhoppzeK4f45jilz95Y+NE4/JoPtDvjXJxS+DXuudO5ldPN972ET5eWfWh2rNTpfDAOwGK89+5nePPdrzAr2BL/d4ic5CwP/3zR09PT09PT09PT09PT09PT09PvfO9eMWGKJHbcpxx3AxJaHSrGS2kJUJirb+NUkrMRJdsyEVz3JxIa7Y2UnteH+kcbPyO1hvKFWPHXSuTn5GLTBjkRoXJ1GqBRChDMXIiv/1yD7M0bsGL61xg3PxsJ+k4nZgy3rrG8Z3kSsr0btL3UQ7je5As2YN58WYetqmQhe4vSHOcZGp7+kXydhuHXocfYiBUz7NchqHarZmHse59jwvRl2FoQ1N+8Xj/rTyzJV0PUaxQeT/2PglX4ctIsLPpb1mctFk39Bj9sLEFyw3Y4pIU7Xqh9DnILS1EjtQ4STH9P3nhRp+p4UyL7de+coZ/hoEtL8xwH4KNzmzkPVlbxvu+sDbX3Ysay4yZm6jroPqzZXU5yPRx81TgdbjLgWVx0mGnXChc9+xbOaQKse/NSHNw41V23VNTf92Tc9e5I3PXwRKwLjT8dD7jrvse5znj6+RR7usuR5d0/XbU17UWdsk/Hi3VrfDAAe7hjOOs3HDMirb/G6RtpvMjeReram5wU40UVMc2P1V4jXu0Txw7Go33Fr8Pz9zyHGfl2e1Msb5GWWhNfTZ2O24Y+ErUsW7ESbVrJDmnGkiK9K+srhzk5UakrJfbojTvvuwoXHChPalHz1/M6PHue3IZO0ek8PHvric5JHKFdPzxy33k4oKaqxzdH98tvxRP3XIUhN1yFB+67Dn322oFnTCTUQ6deJ+GCU7vjtJNPwMCT90ej8J2douCfL3p6enp6enp6enp6enp6enp6+p3v3Ssm5FSFc6aiqnzNfo/oqyDKIPdAlwdeB/JRmrMRpYEi1Dj5NpXw9o/kkzvtg45pQPaK2Xh3/BRMmPon1up8MxxycHPUiSvEijk/Y+yk6fh6bSq69jwIrZLcMXQ7U3fVeM/ypGr7UDDsdd5gfBzqHLoP2iSadZimylRHx0/CqLHfYPYauW9LuL387/VNfa/jB9/rEFS7pu1wSKtU5C3/HR+N+xSj3vsCny3IQkqz/XCsHCy1x6/VFPskbcAP38n6/IQf1hQio/E+OOnovZAseXv527KRF0xCzTpydFPivnzIizpVx0vFxCN4p1IBdnsbiUvMjrteh4yWxXl49BTMeu10NLHbt+6Pt/74A2OHXoyjOppDyK3R9cyr8MiHf+APf/sKkTZWe3d96/R5BN8/1B/7RDzebbfXARfxEjDxirxFxLzRskSdH0978RJoij6D74c+/P7rXRj+1nKrvVREbR/m1JN64oF7b0L/vr2jlteeHYG0tFTV2vQXld6V81ItlQ+5SiAnJGI+KeGSVLMOasqVUNtDSjpqZaQj9JbeUWpmICO9/NFkTvQ0+eaLnp6enp6enp6enp6enp6enp7+n/BxwWCw1InIwbyq1+CaeSieNxnBv2ejZOtaFYO+fVPCngcgseMJSGi2r24X63hAEEXbclAYjENKrVpIlmc3mHywCPnb8lGcUBMZtZLD8Z2iQayY+gW+3toYJ53YERm5aj3cfNHGRfjm57XIzmiNvqd0Qka54yiN+XUUI39Lrl5OYlot1NRnGkx+A2aOm44/0Ry9Tz8I9Qu2ITu/FIk101Gzhpx4KDte9uoVWFGYir3bNEJKhDyVuqvrpi1ZqJ2RhuTkKjvs/4+xZt1GNGsit1vbcYqKAsjKzkX9urWUi30+qVQqlUqlUqlUKpVKpVKp1OrQuGCwpDSGdtSKNPcPfPbxYiTsfwpO6OTcISuc34iZH/6AP+Nbos9pB6BOeeNUmaplfqSWWdocvc84CPUrbJ+PVUvWIK9mM7Tbo2Y57ajUXVdz5YRgcRB162SowO5NVZ6Y2LI1G4mJCfq2WrHMI5VKpVKpVCqVSqVSqVQqlVqdmnD3PXffG0M7akWatA0r5m5AZgBo07oBkp2bZKl8CXLmzcbM1QXIaH0ADmiWUv44VaZ5WP3nSmxELbTfpynkFvflti/cgsxNJajZqD5qJ5XTjkrdhTUpKRG5eQX61kW7+1UT2Tl5yEiX21vtGDm5+SgKBFC7VlrM80ilUqlUKpVKpVKpVCqVSqVWpzpXTBhMxkBfKZ/921RM+CMLRQnxqFOrHtLjC7EpKxv5xUmov9eBOOmwptB3njJU8fK93rpiQm7lJKHy2hcXIrcISElNQehxvJVanoKefhfwwWAQW7flIDFBrhCooU9WxOn72O1e7MgVE3JiJhAo1idpitV81KmVjoTEhO2azxD09PRh6Onpw9DT04ehp6cPQ09PH4aenj6M5eOKg8FS8QaJm7ytBuYryBdlYfWStcgOuIGatdGqZVPUlEdFKCrsrwrzzDO/4/m8vAIUFBahuLhYHvT/n0LOwyQmJiIlJRnpqTXcaOXmj3nmmWee+TDMM88888wzzzzzzDPPfBjmma+KPJ8xQaVSqVQqlUqlUqlUKpVKpVKpVCp1p2noiokY21OpVCqVSqVSqVQqlUqlUqlUKpVKpW63ep8xoTGpaDDPPPPRYZ555qPDPPPMR4d55pmPDvPMMx8d5plnPjrMM898dJhn/p/P84oJKpVKpVKpVCqVSqVSqVQqlUqlUqk7Tb1XTJhMNJhnnvnoMM8889Fhnnnmo8M888xHh3nmmY8O88wzHx3mmWc+Oswzv4vk9RUTTtVFnDSIBvPMMx8d5plnPjrMM898dJhnnvnoMM8889Fhnnnmo8M888xHh3nmd4F8XFCfmJCWpgeVSqVSqVQqlUqlUqlUKpVKpVKpVGr1aNkrJgghhBBCCCGEEEIIIYQQQqoJ64oJgzlzYaCnpw9DT08fhp6ePgw9PX0Yenr6MPT09GHo6enD0NPTxxUXB0t13OSpVCqVSqVSqVQqlUqlUqlUKpVKpVKrSfWtnOKsSKn6j56enp6enp6enp6enp6enp6enp6enp6evjp82WdMOPnoMM8889Fhnnnmo8M888xHh3nmmY8O88wzHx3mmWc+Oswzz3x0mGd+F8hbz5gwPahUKpVKpVKpVCqVSqVSqVQqlUqlUqtH+YwJKpVKpVKpVCqVSqVSqVQqlUqlUqk7Td1nTBhv7vFUdT5YEkQwWKJLaalECYmNuLg4JCTEI1GVuHhVIuxf3P+qFjPnusQnlJnPWHxpSQmKOee7BVWxvYMoQaH6KRrUGbIzSVDbIQHxSEGirld2+4lXb1WUFMdDfVyq96wK7ETULoj4hFIkJKp6fGzrG4svKVH7ZlDtlUrlc4ifRf9t5LNOSny8+5m3nZ939PT09PT09PT09PT09FXnq/WKiUBxsT44mZSUiET1j8F49Y9BnTeY9oaq8nKkg+z2lLgHuAOBYiTExyMpOdHdvqrEoJ79T+178WoMUj6eOVdzlpQoRwtVIob5Fg0UqTlXY3DOdw92dHvnIYAiBJUhuwLJSEAqkmLefqLFgTgEi8X88yQkliIxWa1UOetbkRYHg+r1qH1S/R2QmJigf3fIwWg5KE3+u8iJKX2ySj7zZP9QO0tCQoLeR8rbn6hUKpVKpVKpVCqVWn0qX0NX/+sfVapFgYDWtJopSE5K8B6gVG08VLUn/wpkn0lOSkRaag19UKmoKKC3dXn7ndHQ/qf6yhg8QB4bnjm35tH5v3yV7SPbiXO++7Aj2zuXJyV2OWR7yHaxt1N5GijadU5KCLIugUL1ueFbz1i0tKQUheozSA4+p6QkI1X/7ZGoT7jxpASRfUD2BdknZN9ISU7W+0pRodpnSuX7Od79iUqlUqlUKpVKpVKp1a/OFRMGFdRnLAzb6eXbt3IcIEW+4a4bmIY7SeMSlJJ/G4WFAf2tR/k2vsZsdoPrnf0vDikpSU6cbDeeOY8y3wLn/N9BQWGR3qYVbe+8OJ6U2JXxXDlh8G3PXelKCT+eKycM5eyPcmWcnFSTzx991Q8hMSJXVsrvueTkJH11TYhy9jcNPT19GHp6+jD09PRh6Onpw9BH9foZE051h8bRiJfL5IuKipFW8x88QMkTE/9acvMKkJzsfBu/3P0vtYYTJDuMmXM5aBPp/S+3A+Kc/3uoaHsXowQ5KNIxsuuSoU9PhA+02p+X6i2LQMGufUVTco0SxMVwnFhOSsiJ0Rop6vUm7NqvieyayD4kJ2XlhKzZh6LtbwZ6evow9PT0Yejp6cPQ09OHoY/uw0eelOrqDvpgcQmSk9Q/7ORBk/9UIf9a5MCBHEQob/8LXVFBqgQ952peI823/DDP8SD/Dira3rxSYvdAHkgeafsJJbvolRI2+mqOKOtvfEmwVN9CjiclyI4g+47sQ7Ivye2dou1v9NrR09O7qqGnd1VDT++qhp7eVQ09vasaeo93nzGh0GqM1+uQ5TWW1yHXyzfWE+J1xE38A0r+tcgDlfWJCbWto+1/0oZUHXrO1bxGe//L9uCc/3vwb2/1v2d7yxUTZNcnKNspwvYTSoJuZRdGr6NZZa3GhL3chkdu38STEmRHkX1I9iW5+sbsX+7/Hq+xvA5ZXmN5HbK8xvI6ZHmN5XXI8hrL65DlNZbXIctrLK9DltdYXocsr7G8DlleY3kdsrzG8jpkeY3ldcjyGsvrkOU1ltchy2ssr0OW11hehyyvsbwOWV5jeR2yvMbyOmR5jeV1yPIay+uQ5TWW1yHLayyvQ5bXWF6HLK+xvA5ZXmN5HbK8xvI6ZHmN5XXI8hrL65DlNZbXIctrLK9DltdYXocsr7G8DlleY3kdsrzG8jpkeY3ldcjyGsvrkOU1ltchy2ssr0OW11hehyyvsbwOWV5jeR2yvMbyOmR5jeV1yPIay+uQ5TWW1yHLayyvQ5bXWF6HLK+xvA5ZXmN5HbK8xvI6ZHmN5XXI8hrL65DlNZbXIctrLK9DltdYXocsr7G8DlleY3kdsrzG8jpkeY3ldcjyGsvrkOU1ltchy2ssr0OW11hehyyvsbwOWV5jeR2yvMbyOmR5jeV1yPIay+uQ5TWW1yHLayyvQ5bXWF6HLK+xvA5ZXmN5HbK8xvI6ZHmN5XXI8hrL65DlNZbXIctrLK9DltdYXocsr7G8DlleY3kdsrzG8jpkeY3ldcjyGsvrkOU1ltchy2ssr0OW11hehyyvsbwOWV5jeR2yvMbyOmR5jeV1yPIay+uQ5TWW1yHLayyvQ5bXWF6HLK+xvA5ZXmN5HbK8xvI6ZHmN5XXI8hrL65DlNZbXIctrLK9DltdYXocsr7G8DlleY3kdsrzG8jpkeW09z5ioAvILCpFeM9E58yELqYwGCx1NSvHES7MzEZfRuOL+RhN4n/t/Mzm5+ahZQ+0jEdD7X1pN11WOwM/fIumQ7q4jNtUy55vnAZt+der1DwDqdXTq5B+nvO29Na7ArZFdnTqlkW+vVpi/exzIT6kZ/SRYcTCobyMXbT8lZHuQ32dyq8jEBN4SlBBCCCGEEEKqG88zJqqC/Hz3xMR2EHjiOK1JN0xG6dIfEdfmMBR/dAdKZryOpDtnIa5WY52vkHiemIhGUU4uUDMNybvxv7n1QdOaUQ6Sy/63HQfJi74aj9wn70TdT+a6EWJTpXOevQz48ECgRWcg3f2syCkGVs4GzpgDZLR2YrsZ/4b3lqG87b0VlTsxkRMoxEu/T8P0NUt0XUhPSkHPlvtiwD5ddJ1UD3UQ5cRE3m5yYiI1+omJwsIipCRX7hZO30//CXu22EMXQiIhVwAWFql9KyXZjRBCCCGEEEIIqS4S7r77nnvdepVQXBxEcqJcurAd5Gchrkl7xJWWIvBiX8iTL+NbHgSk1kHC/3q7jWIgvpwjg8EAsrMLUFQYKFtKk5FSXec01HLXLPgNC1cXIKVeXaS6q7jpo9tw9BeNcUmXGE+6xEr+Qoy5901s2q8rWqUrH8zEF7dejKtHf4dvNrdE9+wxeOj7ejj8fw1QVcdRi+aPxX0vbcL+3Vsi1Y1VB0WBYiQlRj75pfe/5MptRHNSIvmYU5Hc5WgEZn6N0i0bEd94Ow5e+favuKRkVHjcbKftk3Px9NFPIvP4Y9Fe9olKUGVzLldJzLkOaFkM1FoPJG1yStoWoGFdYMVvKr4vULOR26ECypu7eDV3O+Mkge+91eeQKn4v/wOUt70L4tS2i5ElWzfgqq/fRvP0eigqCeLgxq3QtnZDJCckIjk+EU/P+VrH6tVIc3vEQGEuthUEUFgkJQ4p/4YzQdVEjdLI21A/v6FCluCd/X/FxtNbo3UlPy+qisTEyN+bkCsl5FkAKTF+7nz2+RT0638pXnzlDV1WrlqNjvvtg9q1a7ktYiOYk4XCYBKS5DlaNnlLMXXSr9haqzWaZLgx4qHa/tapYuLj5RZhQcTHxSFOFUIIIYQQQggh1Yd+xkSVlhDmgELsmnDU1apchbjWhyHhuBsRf8BpiEtvgLg6coA49nHKZfM0PHP1TbhKysUXoedZg5y6lLcXuo0qx9xXr8CYcr5on/3rGFzdewAGvzoN0z94Auf1uQJPz8h1s9VFEYo258L5frJi4SS8tO5MvDL2BbxxZScgPxeb8orc5PZR5nUX5WBTfmiJ1UukfU9KJbFPSqRdP8yJzfwawaULdL3S/Dras0+d1/ssnDf0O6wp73nB1bBPVguR5ltKrARygE+6Aw3+BJLy3aCFxOr97LSRtrEw/4PwXF2g5q7/NSH/zNdb3UbVjP+99W8h0raWEiNydcQt341FWlIKujVri8zcbRj0vx66/L5xFQbu2wX7N2yu25grKWJh1vsD0P32G3HJMCmXocvlg3Df9Ew3W3nWf/8Q7vt+J+0rO5tI20/KP8HG+Xhx6Hxsc21MRFp3VfSzhBIrPiElV0j0PuM8DLzwavy9crUbBca89xEOOPQYPPTYs8jaFvsaLfn+G3wyZ7PrbEoQDKjiOlK96L+pTjoLZw9Un/knXYvRs6L/PVU0V7XtMxDn9T0LPa8Yg0Ux/GqRfUv2sUj7HgsLCwsLCwsLCwsLC0vVlbhAcXGpfuiES6n6b0e8vt98iutF5DyBXw1R8sUf34n4vf8P8R2PR/EHt6Dkl/eQNGQ64uruEVN/JEa+fUUZZr2CLqOa47Nne6G+G9oe5j55Or75v3G49iA3YLN6AgZfPANHvvwgeu/pxjaswpqazdEs3fkW4Ukr+mPm9dV8QLOKXqtNua+7GrHvfx9x/4vxtkJy8mHbdWd6TkrYyEmLhNbtkdCmgxuJAf88BzMx4borMPWYF/B4nxi+KVoN2ymMXDExBq3GqH2xiRuKETPnkd7/BQVFsc356LrA/9QcJOZjyIt7oGn9AK47c71OnT+8FU7smoWzjt6iBm2k5mERcGGWzsXKTnsv+anWbfbPUN72zoqL7STCo79M1to4rRa+XDEfuYFCfbWEsCRrgz4ZsX+D5tpLXE5YxMKsN/vghaYv4tVj3ffT+vG4ZMgMnPTwCPRp4IQqw/opQ3A7bgiP9y+idmlKme0nPrZnTMgVEyvQ5MujcVRVTE3mbxgxFLjk+f8h1s2UXDMYef2LAvpqifJu4zT3jz/R49g+rovO4V0PwSfj3nRd+Sz6/GP8Wutw9Ovm7Mckdqrs87loGcY8OQsHX94X7Wor/7f6G+uyJej/0Q042P9rKH8mHu0zHu1Gqt956s/H5W9ei8HZV2Hcle3dBpFxbucUQHJyYsT9z0BPT09voKenpzfQ09PTG+hj8/E6KHG3hLxge7dUlNfYdYPtrXzJn1NQ/Ep/lOZu1L50WyZKZr6JksXfaZ/YZziSrvrIOSlhqGj8HSFnGSYMuxYnnXA6eva9B2PmOt/E2/T1E7h02HfI1k75z4bh0pdmYMrQKzDkc+CTB6/AeQMfxtQNbgOXuR+8jeW9LwiflBAaOiclIrFp1gQ8esVF6Hm0LH8YJiwLuBlgzZdqHU46HV1OGIjBj32H5fpL57lYNEr9g1+tb5eTrsU9o+a667gQY8z6bJiCBx6cAiwegxsGOlc5bPr8YZz3qvVt/Ky5GHvHtXq53fvchtGznG8QR16frZga6XXPHYPzhk7BJt1TYc2ljPn016vchELavjoXaz53X5Na96cr+61ltc0j7n8xUFqYj5zh1yGx48ERT0oIBePfRO5Td7luO0lojMOPaY/pK9aj6NfRnn1IkP1o8HvLXBeFWOZxwjCVPwuj3StY1nz9PAb3OQtdjj5LLXOSu684FC2bgkcvHojukntspmd9ysWeb9vHSkKyPimBZTn6BISciDBcf+Z6dG6XB/yl1iZuffm3Y6sEsp8/8PkqzH1e9u178MWGXCz/ejSG9Hde/0kXP49fQl+AlvfMGMz9W83PBe7c2fOTo/LXST/1XrhgGMbIeyTCe0vek8s/Uvu1zL/7Xg1fMeMuY/Uk3KPyPZ+X96AT+2XhJGe5qs89EzLV2LMxWpYnY4xaiPD1Tdb4J12EIVauzOtVry3y50YM2NvbLZXZ3vJMiT57HYiB+3TRz5Po2rStfqaEFFN/pHtfDNq/B6avXeL22g4adcFJbRfib/eiiW1zR+PGG/qh2UX9MPDpsZgX+ob0Vnz1wkP4avVcvHiHyj82BTM/HISLP1yIXybcg35DBmHUX6rZlim4b8jbmOd0Ukg/NyeUrMLEl67BKTcMQI9rB+l+/YaocbcA89R4nqsv/nob/V6YAuf0myJvKT5SfXtc3gddbrhbjRn+pvff05/AwCv6oNnlA3DV69/ib3P+Z8ssvPjwheiiXk+Pu57AV6HBKibi9pN6Jcia9xteHTAJl3X5AvcMm4+NoX25BNt++gmPnxoh9/svuH30Mmz8ZCqu7zIJH4xT/rI1WDp7HR4/Z4rKrXAblk+09S8tLdW33CmPTvvtgwkfvlFhee6pEW6PHWEppr7/FWaFLtwJYM2sb/H+Ox9j5FsfY8xnc7BGfbypHQArp3+DMRJ/+xN8+PVSmLfj1p++wsczV2DJ159jtOoz8p3JmLHcPM8liPU/q35vy3if4P3Pf3fHU2xciMkff6KXM/qDbzBrlbsRgpmY+/UvWBLtA36d+p0/7EacrX//XoR7xq7yfo5MmItfnnf+trD/FkKwvM9QRXAVpj8W/pvk0QnhcVG0FXNH3aOX2b2P9++baH97lSG5Nfrf4p6UEPbshINrr8eaSOex587G2ANOxFHun4+tTuiFVhO+RTkXuGpk35J9rNz3j+3dwrzrBdu7hXnXC7Z3C/OuF2zvFuZdL9jeLcy7XrC9W5h3vWB7tzDvesH2bmHe9YLt3cK86wXbu4V51wu2dwvzrhds75b/St75uqFcZWCKEEkrlVcVUyTo94FCBJ48AcFvnkPpllUoWfYTkKX+Ra/ycbUaIen2n5B46v1O+4RExLU40Nvf1KP57SYTX9wxBFM73ILPPh+HL0eeio3DXsYv+UD9o/uj74Zn8dI09Y/lnJkY9Txw7pld0f3GW3DhnsDxVz6K5569Ct3quUNpMrFscQBHHlb+t/PCBLBmdRJ6D38NX349DuOuTMOjwyZhjaQ2TMKjz6fg8vfGYebnb+KmXs3RTL4d+OsYXDKrK175TMUnPIhzuzWCc4vrImxcvQXb5BhFvR645sou6h/wp+LOZx9F331VLH8LFuW4hwvy5+LFy4Zh+oHqdX85Dt+OvgzdmtRRiWjrUwfdIr3uolws2mAONLhz2fIGvKvW7dvRZwIv3YhHZf4EaTv2eYzGmXhugprrOztg6mMfY5GTjQ2zqc1mr8SmD/69BCXr1yDthuFupCypl96qr6oIro7tIFpkcrHwj6Xo1rIRkjt1xeGzJuKbdW5KzdEPkxZi/07lPew5hnn8Us1j1rkq/x4uUNt204TbcPZLSeg/8j3M/Po9DD29g7OvaBZi7CSg7wtv4tuPbkWn75/Dh/PdVEXY821rrATdg2yt03GgnITwsXfzQvXDvUF7SezPMSgXtZ//MuoJfNPhDnz55VAc33ALlm/YH9eOVq9fzc1zRyzA4JdmugfO5D0zHo+MUvPzspo73/zMHXU3fvm/R1U/tb8+dS4OlvdIhPfWpgnDcOnUFrh5tBrjsxfRP2EUzn7QXsYUPPJqLs5V+S8vl88GZ7lPj0/HhbLNXj4T2U/ehvOeV/vNfWo937sMzd57EhPc81fO+G0xdKxqO+EZ9bn0EJ7+3n3f+V9vMMrnRizY29mUSpBbXIgZa5fgrT9nYu6GVVift03fwkmK1CUmOWmTqfx2k7cMc/9ujz0bA4ULXlbzugUn3vE+1rz2PoZ3+AUDHhqLv/UzlAuxbfNcPDnyW+x9g8rfcCy6nPwYrj8IOPj4W/DqnY+hf1vVLBjA3+ut2+DpfpnY5n5c/jX+LrzT6AZ88sRbmPbApTioRmfcPfRWHFNXtczLxN8F1hUl6v35/ebwZ+LEp4ZgSutbMe2ljzDz/lOx/sWX8b003zIJD72bjOsf+whrXnoLtx7RHI3lorDCuXhq2LMo7PUsZqrXM+3KNnjnmfH4W48XI/7tV6ntWIh5C2ritNd74eUfDsARmSvwzIfO0ffA7z/i/uFB9HzreLw882gMarculJM53PjREozN3gsP/HAszjx5P9w5uBbQsSEGvXAo7uzXzGkXCxHWXx80juH+/506dsCkz7/SD7s+otuhmPj5FNSunaHrcmsnKVXzIOwA8osCKHKf1b1pxleY9Jd6ucedhIsHnIQj966HuqkS/xaT12XgyDNOw8VnH4l9Cv/AlF+dz8VgcQCblvyJ5U26YqDq06t5Ceb/tsg5MZr5O6YuBg7orfoNOAFHtKmtx0PeYkyesgjBtkeq+GkY2CUNS2bMcv5mWLsSc9eswhLrPLZN0bpVSD79Lv17ZeaYC5Hx6sOYYHYs9Tky4W31u/6YO/XfQuNuaY4JNzt/CyGhvM9Q9ftq8I14OuFMZ9wJt6B3+7oIPUb6648xa3/nd9m7Z+fiAdXPOW8S/W+vCtm8BL9nNUIzc6LCYtPqlUjeo477N5GiYXO0KlqKZaHfwZGRfUv2MU2E/a+MMs888w7Ml1XmmWfegfmyyjzzzDswX1b/Y/lqfMZEbCR0Ox9JN09FXDM5Wu4gJydKt4bvB73TWPYd3t58Jq7t69xeBLU746iu32G6PjDZGMffci7WPPk6xr79AdZcfimOrAckp6ciWf2rO7l2GjJU8T6HdT2Wx3rQV5OETr17oZ17kB97tMD+yzKdKxCS05GRvxLL/3a+jdts39bOP/aTk9BgwxIsXxdQk5mGdu0j3HMjIUmtW7pqm4b6ZdZRLeqnKRjd8ALcoV63ztVujXb6WE309Sn/dStkLhceiwv7t0aGHrMzBl3ZBWPHfRu+omKv3rj8BGeZGYd2wZFZqyJ/6zESkfY9KTFSkrkG8Y2a6RKNxE6HaC3dVMFRDD+rv8WoZ17Bi888j3suuAj3ZJ2La09Q2yWhPY48fSs+meYeKVo3G1OzTsWR4V2/LLHMY/Ix6D/QzSeswjcfLEXfWy7FwbLdFKF9RdMe/a88Fq0koMbq1jUXy1a7JzkqItJ8S4mVhBpAtnuQNliKqx/fExcMb4Xz7miDJz9opGOaLUXqkynyQ3u3hzWdzsSgo2X+xTXHkWd1RjN5/fm5qN+yNYpWb7GuGmmDvpdHnp8UtcOv+WsR1sgROPMeKfPecub/lPPcb/Sq9+TBl1+G3l+Pxzehq6lS0DuUdyJ6uef9H+qL3/MwHLnXVhx8stumdju02ysTa/S3kmX8rbj8+t5opre3Gv+Yrhj7S/iZKJ7XG+1zIxYibWsplcD+nVNeqSx//zwWL455GS++PgwDb3wcWWdcjRMbBPDztElo3Ks/jnHvFbTncVfj1sD7+Ch0xjMXh/S6zMnLafmUNNSREwBKa6WnIaXCOxxtxV8L1LZp18ax6c3RLmkKvo/lTMHq7zA6qx9uPc79/ZJ+EI494FvMWqzqSWo9Cldi0VpnO+3Zto3aS4DC36fgoXaXY1An9+HgTbvgpBozMMu5wLBiIm0/KTGTgsP7tkMDva81Rs+BtbB26jpsRCHmTtiK9jd3RqcMmbQkNO1RHzV1ziW1Hk7t3xyp6j2C5JpIraXaqQ/71Dq1kJoa48PyI627lBiZO28BXnjl9dDzJeTB1xMnfaXr77w3TpeqZxXmryxAs46HY9/68jqT0KxdS9TU8SDadT7Y+fxJyMC+LWpj/TrrxHf91jhm39rqrav6tG6AmnnZ7u//BCQEC7FpbRaCofHUr+UFK7AyXfXp5Bx6T2jRGi3iN2PFWmWaH4i+vY/DMfvoVBmSD+iF3vvW0SeRstXnYqs91e9f+4rPrirf3tnvMg7tjf57mr+FyvkMdX9f3XFNZ/f3kXp/uGNoTrgAFxwkX3pQn0VHdMXBC5dAVrX8v73KIxdz3xiD5X1OLHsbJ5eDm6vfLdtLpH2PhYWFhYWFhYWFhYWFpcpKvP5WmPxfRarR9XJKQhKSrp2IhB5XIDj1BQRGHI7SFbNCealLTHIoLvLkYirby+YtWLRhPO4eKLcncsojsxqjgTmSt4f6x/mhU/DoZx1w4UkRTgCUoRFayUHn0K0vKiZbbudy8RW4dOjr+GTqyvCDQmv/H256qjuWP3y5cxuZn9zbhex7AV65vi7GXj0AJ133PL5YGONBZovszeuBvZpHvD9+1PWpCJlLNaY+eOqSnJ4OLFzlfJvTjxy8Qi62xXibmXL3vxiJS6/l1qITl5aO0kJzO40YSW+BTgcfhIMP/j9c+Phb+PKR3mjlHjRp1aMX8OlMLFd1+fbsxuO6oJWTikws8ygnh9wqsAVrVrdBqxi/BJyi9u3snBgfNB1hvrXGwubf1XvZncd5at9dmYeHTsnEgxvj8YzaZe87dZ2O6VyS2heCxU6fqiA9zXMwftOM0Rjc/woMeWwMvvjdfR9FwZ6fdpc8iptqT8SlfeSWSFOwPOK0RZj/mrL8pVgWOtdaR47Tlo+9wh5k/M0YdUf4M+q8J2ejXbrVwX690T43YsG/nY3GSFpiCro1batv5SQPuW6SVgv/UypF6hKTnLRpnFrxe9GmTrP26LjvQeh4WH889/T7eOy45kjBZmzYCHRqan82J6FGRiB0wF+oHetB8YjUwcGHtMdnP87CNvl2/PrZmLKqKzrat+qLxtbN+H7Lx7hJ3/rJKQ/90Ri1ZGOld8ett/XAX69dhi53DMOouc76ZsmVhL++hIGhPvfgney6qGV9HpRHxO2n/t9ukuLVe7RQ/R7IQZb6AJrzyHe4XW7NJOX6DdjWOCm879WVw+s7RrT193yjfZcjFzlFNVBHn2W0kXgAS2Z+hjffd8v8bCQnR5kl1T0xGHSuRKi7H47r0gBbf/0Go9//ClPnOvdOyi4IqJ1kGd4z473/ExYH1TbQJ9gSkFwrNXzu04/qJ7dOOu+yhzDqg2kV3+JNbdg165z9MupnaITfV1FRv/OTswLOlUnl/O0lz6bocvTpTrl6UviEvEJuBTl82Zl4/JLoV6X+sqoS9z5zkX0rtI9Z+x2VSqVSqVQqlUqlUqtWQ8+YqCrVaFWjl6Mlv3+C0q2rEN/6EMQf3A9xe3QM5eOad9Kx+DaH6gdhB144w7mCopzxPLq91ExCs4an4r43X8AbVulvntW4bCxeWt0XNx06BWO/juUAX2N06JSGsV+Z2xxUQNZ3ePS6Bej2+At4ZfiV6H9qB89DQjPa98JNo9/DZ8N7YM1j12C0+23C+l0vwOMfvYd3L2+EL657AlMr98xgJKenAeu2Wt8ad6lgfcpF5nK1e7WHIRjQJ0AqcROPqJS7/8VAfO26+jZNpbllXnUIudVTaW4O4puVe+qgLLVb4+CunVXphFb1fAed9uyOvk3GY+r8XMz9MRe9e7jfEI1GpecxGbVqr8Jm+57fVUWE+dYaC7MfAA44FMhW8yG3a9qjJv7XYBPqB9VLLAFaxqv3k4qhpdoXtyUAB3YG/nrL7VyFzB+NS19NxrXqfT3izkvR9/8qmH+bhMY4+MoH8dmEZzCo0Vc4b5j3eSEOEeZfthfaoFklHzgeGRm/Hi4c7v2MeqOcA3PRPjcqxL+djcZIt2Zt8dHiOXjzz5n64dc/rF6CN+fP1EXqchunW75Vn6m/T9MnJypDrT064YgDDsIRHdqgVugtlo5aqcD6LN/JWTX97Ro539KuChrt1wOdMj/A0NsHod/opTjp1stwhPMs/vKpkYyOdU/DoyNexPtWuXBvJ12rVS/cPfx9TLuuO9aPvhovLlFdUtPV++ZyvOnp49w2KhYibj/1//YSyC0G/ldT/R5IQpp6Gx948//hgXeODZd79kXlTjGVT7T1l4PGJSUV/643t2mS2zcJtWplqPePU69du5YuVU8SkhMCyCvz4SDxJLTtchIG9rPK0e7VN+WSgIy9DsYp/U7BwCMaI/uPH/DVIvVpICeK1O+bs+zx+h2Dgyr83kQupj44BIu6PYg3Rt6Jay/pFX5mQ0QCKMpKQqs91PuovM/QSL+vYqGcv73q93kQM78e55Rne4W+QFE06xUMHtUYdwzvFfVESP09Wqj1zg3//bVhFZYnt0HrCj6LZd+SfSzq/kelUqlUKpVKpVKp1CrReHkKtvu/qzvmNXLWQwcja+nmlSh+51oEpzyJuD0PROIZI9S/uxND+eB3I5FwSD/9bAnRhBNuRVydpqF8hbq9tO+K3kXjMWGGdWCrSA4qKoKZmPDYRBx+ZX/0veQCZD/5LKbqg4/pqJWumuW47Xy0O/MyHDXtZTz9deipmMheOAGjrQdNhli9BHMbNg49GDt72TL9zXrN5mVY5N5RKHmPzujWPhfb5Bvbq1XcPRGR0f4gHNxwixOvBBkH9cDxv36AD62HW65Zp+rlrU8Fr1vPZfJX+NzMpczf29PQ7ZjOEa/MqCx6K8smd36EfKwk7NlWXw2RP+Z5N1KWvJdH6DbxDWK5OiZW6uCoUzvj8w+ew+cbjkW3ir5pXel5bI9uJyThtbenYJO5UmddZri+I0SYb+1jIa4YSFE7TEZtILGGKvGIawUknbsSSRetAFrI14Pj9bf9karyKer9nrPU7Vx1ZK9ehTV7tAgdyFqzOPZlrFm4DNkyjwl10O7QTmi12b4FlMGZ/wmfznbaKtZM+ABj9+2Ow6vkxISMX4gxH4THlxMfRdG2b7TPjVgw29f5P+xjZND/eugHYMtJCXnAtXBP11N0kedPvHHCRUhNSsHirRswYN8uOr9jpOGQww7CZ99McZ8pART+MR6vbe6FI/ZyfCRSUtKwLd/6HKvXCHtjNn53P+wK/5qEcdatmuZ9MwqNTh6Bx+QkwS1X4cRW4VvVNGzcBhMXLHS+BV6Sia++maHjmtZdcXrgY7zzq/X7JeAuN2sp5rn3QEpppD7HW+ciKw+otV93XDj7Y4zT97txKIzykRuJiNtPm1gpQdYWd4HBDfj+vRy0OaYZaqn/OhxTE3PG/IG1of2wEIFo+6FQMwGpW4Jynihmoq2/PJw4WOJu5HKQExOb1y7QD8IWli/8GVdcer6uvzXqOV2qnpZo20gt68/fsdWdj2BmpqpLvARL/vwz/N4tKoj+3rXZtALLM2XmEpDcrA1apAdRVBhERpsmqLN1FX5caWZVxc2+XO7Dr1epuaiHZnu4+27Waiz33z1z89bQehbNmoSxOcfi8PYVfIbq31eT8Pbn4S9ubFodw5c4yvvbKwJyUuKSu5ei/+OXopP794mhaO4kjJnm/r3VqTP6fj8en7uvbc20b7G8d3eY75pEQ/Yt/QBsd39T/3v2P3p6enp6enp6enp6evqq8dYVEwqtO+Yd9GKiEld3DySe8xQSjrkOpX/PQfGHQ9S/BJ1/hJZuXYPg5w8h+PN7Kjdba8IRF+lcmPLH324S2uOCxy9DzjMX4aT+cjuBi3D2deOxqEgOLj6JMXtejf5ya6YmvXDThbm4+3m5EiINBx3XBV88eJFqfy3G+L+NXO//MPTl/sAb16LLSapN37Nw0tAFqNfJeSBkRsNGSP7yFYxdqEz7Xri8yXhcepYs+0a8tK4Rurn3xcheNxdjBw/E2XKbg/6DMDz/UvQ9KIBNy6bh6QsGOrc/OOtufH7oBTghxtv4hFDreMcjXfDLEPV6ZZy+g/DA1+tRVM76yEHAcl+3fy773oRP9rwBd/SumoP8Zn+LvP9VTFzteki9dAgKJ7yFvFcfdqMOchVF7pN3IvDjN0i7fjjiUmq4maohueuJOOHXmdh0XOeKrx7Zjnlsd8mDuC/5Q5zdV7ab6jd4DBZWxRUUEeZb+8pQr756Teq9Lt3SUhHXLAtx9bOB9JpOLE692RrKEfxK3j4rRjK6nooLFj+LPvr9fQ8mJ7dHNzdXLkWZWPPVs+6cXoGzh3yHbpcfE3H7yfxfm/8KTpe2/Qfi0vEtMOKe8Dd9dxTP+LIuZw3BhMWRD+JF/txwkxVhtq/zf9jHSHpSCh7p3hc5Rc5DsOX2TXJ1hJT/NWiur5j4fcMq3UbaVgW1ut2At/b9Fv2uuhD9hlyI415aj/6Dz8VB5Qzf8SC5vdpgnDJkEO77MVf9VjwIJ50CPPXgAPS75UJcNacrLjjCbazY+5ATMeuJfrq9c3ulu/HU90v1yYg9DzsVF/7xBHrcMAin3DUa6HEaTnS6qXHbY9Ctl6FwzIXocYv0uxCnPDgef6lNt23jXIx7eIAz5i2X477Cy3DOfqpP7e64+6ZO+Oo+d3lqfS557VvEenOaiNtPm1hJxMaJ03B7vym4+ahf8OWerXHlKc6eXOu4w3DjoVsx7KgvnFs5nf4dXv++nO/K790YRwYzMexU1XbYApR9/H1Zoq1/Qnw8iovLP6Ivz5XofcZ5FZbb737A7REb2Ut/wMi3Pg6V96fbD2YQEtDqyENxQMJKfPj+J3hTyrT5WLnRiXcKLsX7Ov4ZRo+bih+XRz8Ab8jesgG/Tvsco+V2Te9+hV+LW+KgfROA+vvjxENqY+23aiydm4ixXy90rlgo9+HX7XHchY0warD8/r4CVz+TiWYH+a7u2zwFj+rPjYE49u5V6DuiPzqpj+lyP0P176urkfLG5e7vq4G4YdSCiq+gKOdvrzJsmIK775iERfkL8cBA9xZPUp6cq5IB/D5pNJ4eN9tZZs0uuHZ4G4y9Wr1O9TrOH9cGQ8+LfnWZQfathAR5BJuzv6n/PfsfPT09PT09PT09PT09fRX5QHFxqRMu1UF9xsL1fo0ln19QiPSkYuVjI/jtywh+/jCSBn2gr54Q5GSF3Nop+MOoMrmYSA7fcX97KcrJRWFCGjIquhe8oSgX2cEK2udLm2RkpHsPAMiy9H3o3W8g+r1NtPWS2xUUqj4ZoRMH24eMo+9Rby27vPWJ5XXrdU7e8XUz5OTmo0YNGSzK/pcW60YDCse/ifx3nte3bDIPuy6e+7O+UqLmOVci5dSBOla1rMLYgc8h+ZEH0bsS36Kv9DzKtikqu79tDzLnNWukqFku+74vKCiqeM5zVgDzn1TN/9K3tEFpHrBmvXqvul9lL1oMNGukhkwF5L7pcSq+7/VqX2zp5KuYSPt5TAQDyM4pQkosfatw/iMi4+er8WtXPH60z41oOO8xOZrvfX/J9s+K09cDxExOoBBvzZ+JySvm6yslBHmmhNy+Sa6UqKqTEh5KAtgmVxzEOvfSvkC1t58/UZiLbUhDLc/qbcVXT4zAtnNHoE9tlZdjygWz8OQdE9FpuIrJve70stU+khr9YdqFec728I4dPS4UyjaUh3RXYneqXSoDebef+KL8KCsWjcIc5AVTIj+0OpiPvOwgkjLSkVTh+ymAwFa1D8TUVn081JSTD2XXX3xhYQA1UpL1AeRIyIkJOemQlVX+k5FO7HVs6CqKKic/G9mBJGTU8p3clnhBAlLrlvMMiDIEUbQtB4XxqRE+UwLI36J2+Brq91ZNM6K0L0RCec+ZiPL7W57rcNKK/ph5faeon5UVfYZu7+/9yn5WlUE+o4Nqzu3l6s9ttdvF8FkZDJagoFC9f+UBQ9b+5t///Mo888wzzzzzzDPPPPPMM8985fNxxcVBqTmYdobt8Pn5hUhPLvbGDf72LnKVRFydZhHzoZwQpX8Ik6+CExNk18UcJC+zPyiv979KnJgQSjZvQOCXb1GyegXiaqYhrl4DJB3cHfH1GrotqpAgsOaj23D+glPx2Z1d9FUzuwN6zmuqOffNt/jKngzC2u8cbfp/jhqixclOp7ztvTWueq5m2T2Yi6cumoiOz96KY1LdUM63uO/mWTj6yRtie9bETqROqXVA3Pq8LKzsiYl/iBR5AI3B93lfHAzqZwHU1CepSVVin5j4r5FfUKRv45SYmBDx8y8EPT19GHp6+jD09PRh6Onpw9BH9fqKCXOmwn9Gwx+PJS/fNEtNLFa1iu//XG0kV8cDLcmuQElJiT5wkJKS5Nnv7P1PDlTFx++CB95yZuLRs57ALwecixG39UYr372xd1XMnMu3kyO9/+Wby7vsnJNK49/e/vdZdlyR+nS3f6P8t/h7+kO46d0FaLFfVzQqnItZG9rgnIsvQx/rWRO7AnIjmozS5DLbT96/gYJ455FMuzBx6mMmqUYw4vqbz5/CogCSkhKQlJio+5CqYdPnD+OGVaeW+1D9fyPq72EEAkEkJyeG9rfy9j/mmWeeeeaZZ5555plnnnnmdyzvXDHhtDPtd0gDRcVIii9GAmK/nVOVwxMT/1qKAsX6wKk+EBVl/4tPiEdyEg9UVRV6zoNqzpPVnEZ438vBHDkpwTn/d1DR9s6LC6BILv35j6Nvu5RUuVsr7UyS1W/h1FK1cr7tJ1pcFIdgsQR2XRISS5GYpFY4wvobLVF/vhQWycnolKi3dCIkFuQWTnL1n9zCKV7OipWz31GpVCqVSqVSqVQqtWrUfcaEwWSiUXFeDhoXBwJITTBPLfQtcWdoSh2l5N9Ibl4BkpIS9a0WyuLsf4FAMdJSq/aB1f9lwnMuB/7kfeZFbqfCOf/3EP095ny+BlGCnLiKH9hL/lnSS5OQAPtgvfk9qX6WxCFQuGsfyE9KKUFcvP15E15/GzmgXFxcjBopPDlBtg/zXAm5fVP0fSjy/heGeeaZjw7zzDMfHeaZZz46zDPPfHT+Pfm4QHGwVKxBwjvqiwPFSIgLIglycsK02InKExP/SuSWQSWlpZ5v5putbhAv+19cXJy+3RPZMWTOS9Wcy4FqIdJ8i5cTE5zz3Z9Ytzevmti1MVdLRNt+QnFg171qwlwtUd76C8bLgeWiQEB//vC2TqQyyBV/8rmXnJSkr7aMZX8z0NPTh6Gnpw9DT08fhp6ePgx9ZO9eMSFVE6oaDQQCSAydnJCwisvl8VrFqxLyft3BfI26Kkn+TTgnJUrcA6ahHSCqyv4XHxfPA+U7QHjOZQ7Ln29Rc3JCnk1Adj8qu71z4wIo/iefJUQikoh4pMktnCrYfqJyS6eSoPhdh/iEUiQmy35V8frbWqK6yJUT8meAHGTm1ROkPMzJLPmTUa6UCF8RWP5+RqVSqVQqlUqlUqnUqlPnGRPVhByoLCkJIiWxBAml8u1aOdhQbYsLk8ITE/8G9G3Bgs6tmRLi40Pf4o4V6ReU51GofokJ8e6BB1IenPP/Fju6vXnlxK5F6LkSlWBXunIi9FyJHaA4GFSvR+2TcXHOrXnUfi23JZOTpuS/i1wJJrcdlN9P6u9eCaj9LUH9nkpwWxBCCCGEEEII2dn4njFR9eh/CAaDWuUfhoTEihxIkgNKCQnybcbtO6jE/a9ycM7/W1TF9pZnThTFleirJ0p2xoln4kFuPiNXSSSXxvueKRE78syJYDAOpVJ28iaU8wVxCaVqHyz1PVNix5CTbvIZJCqviZ9F/23ks072NTlZLp91PGlOCCGEEEIIIf88oWdMyD/ZqVQqlUqlUqlUKpVKpVKpVCqVSqVSq1N9V0yYlIGenj4MPT19GHp6+jD09PRh6Onpw9DT04ehp6cPQ09Pr2vmigmDhE3aVgPzzDPPPPPMM88888wzH4Z55plnnnnmmWeeeeaZD8M887Hk4wKB4tKILalUKpVKpVKpVCqVSqVSqVQqlUqlUqtY3Vs5ScTETQt6enp6enp6enp6enp6enp6enp6enp6evqq9eErJgzhdg709PRh6Onpw9DT04ehp6cPQ09PH4aenj4MPT19GHp6+vAzJkyeSqVSqVQqlUqlUqlUKpVKpVKpVCq1upTPmKBSqVQqlUqlUqlUKpVKpVKpVCqVutM0Xhv5QaVSqVQqlUqlUqlUKpVKpVKpVCqVWs0ar89QyA8qlUqlUqlUKpVKpVKpVCqVSqVSqdRqVv2MCamGEatPW0SBeeaZjw7zzDMfHeaZZz46zDPPfHSYZ5756DDPPPPRYZ555qPDPPP/fD6uKFCsH35t8Hejp6cPQ09PH4aenj4MPT19GHp6+jD09PRh6Onpw9DT06sSKC5WdamaEJVKpVKpVCqVSqVSqVQqlUqlUqlUavVoXCAgJyZcTNxAT08fhp6ePgw9PX0Yenr6MPT09GHo6enD0NPTh6Gnp3eqvGKCSqVSqVQqlUqlUqlUKpVKpVKpVOrO0tAzJmJrTqVSqVQqlUqlUqlUKpVKpVKpVCqVuv0a5YoJQ6QuzIdhnnnmmWeeeeaZZ5555sMwzzzzzDPPPPPMM88882GYj5YPXTFhiNSM+TDMM88888wzzzzzzDPPfBjmmWeeeeaZZ5555plnPgzzseX5jAkqlUqlUqlUKpVKpVKpVCqVSqVSqTtN9RUTqqYxYQM9PX0Yenr6MPT09GHo6enD0NPTh6Gnpw9DT08fhp6e3iEuICcmTIRKpVKpVCqVSqVSqVQqlUqlUqlUKrUaNV5UDJVKpVKpVCqVSqVSqVQqlUqlUqlUanVr+IoJjaqUStS19PT09PQu9PT09K6lp6enp3ehp6endy09PT09vQt9rN7zjAlCCCGEEEIIIYQQQgghhJDqhM+YoFKpVCqVSqVSqVQqlUqlUqlUKpW605RXTBBCCCGEEEIIIYQQQgghZKfBKyaoVCqVSqVSqVQqlUqlUqlUKpVKpe40jSsKBFRVIgbTwkBPTx+Gnp4+DD09fRh6evow9PT0Yejp6cPQ09OHoaenj5cfJuwoPb0DvfOT3oHe+UnvQO/8pHegd37SO9A7P+kd6J2f9A70zk96B3rnJ70DvfOT3oHe+UnvQO/8/Dd6PmOCEEIIIYQQQgghhBBCCCE7jXj5ERfnnK0Q1d4U45V6vCnGK/V4U4xX6vGmGK/U400xXqnHm2K8Uo83xXilHm+K8Uo93hTjlXq8KcYr9XhTjFfq8aYYr9TjTTFeqcebYrxSjzfFeKUeb4rxSj3eFOOVerwpxiv1eFOMV+rxphiv1ONNMV6px5tivFKPN8V4pR5vivFKPd4U45V6vCnGK/V4U4xX6vGmGK/U400xXqnHm2K8Uo83xXilHm+K8Uo93hTjlXq8KcYr9XhTjFfq8aYYr9TjTTFeqcebYrxSjzfFeKUeb4rxSj3eFOOVerwpxiv1eFOMV+rxphiv1ONNMV6px5tivFKPN8V4pR5vivFKPd4U45V6vCnGK/V4U4xX6vGmGK/U400xXqnHm2K8Uo83xXilHm+K8Uo93hTjlXq8KcYr9XhTjFfq8aYYr9TjTTFeqcebYrxSjzfFeKUeb4rxSj3eFOOVerwpxiv1eFOMV+rxphiv1ONNMV6px5tivFKPN8V4pR5vivFKPd4U45V6vCnGK/V4U4xX6vGmGK/U400xXqnHm2K8Uo83xXilHm+K8Uo93hTjlXq8KcYr9XhTjFfq8aYYr9TjTTFeqcebYrxSjzfFeKUeb4rxSj3eFOOVerwpxiv1eFOMV+rxphiv1ONNMV6px5tivFKPN8V4pR5vivFKPd4U45V6vCnGK/V4U4xX6vGmGK/U400xXqnHm2K8Uo83xXilHm+K8Uo93hTjlXq8KcYr9XhTjFfq8aYYr9TjTTFeqcebYrxSjzfFeKUeb4rxSj3eFOOVerwpxiv1eFOMV+rxphiv1ONNMV6px5tivFKPN8V4pR5vivFKPd4U45V6vCnGK/V4U4xX6vGmGK/U400xXqnHm2K8Uo83xXilHm+K8Uo93hTjlXq8KcYr9XhTjFfq8aYYr9TjTTFeqcebYrxSjzfFeKUeb4rxSj3eFOOVerwpxiv1eFOMV+rxphiv1ONNMV6px5tivFKPN8V4pR5vivFKPd4U45V6vCnGK/V4U4xX6vGmGK/U400xXqnHm2K8Uo83xXilHm+K8Uo93hTjlXq8KcYr9XhTjFfq8aYYr9TjTTFeqcebYrxSjzfFeKUeb4rxSj3eFOOVerwpxiv1eFOMV+rxphiv1ONNMV6px5tivFKPN8V4pR5vivFKPd4U45V6vCnGK/V4U4xX6vGmGK/U400xXqnHm2K8Uo83xXilHm+K8Uo93hTjlXq8KcYr9XhTjFfq8aYYr9TjTTFeqcebYrxSjzfFeKUeb4rxSj3eFOOVerwpxiv1eFOMV+rxphiv1ONNMV6px5tivFKPN8V4pR5vivFKPd4U45V6vCnGK/V4U4xX6vGmGK/U46WEnzFh7vVEpVKpVCqVSqVSqVQqlUrdVTRQHERhQSGKAkEEg0EV234SEuKRnJSElBpJSEpMUpHY18NoVa7Pv5mEhAQ11wlqrlPUXCeoSGzza2ugOKDmOqDmOqDmukTFSFXA9wHZ1amKz49dXfWtnGJvTqVSqVQqlUqlUqlUKpVK3VmanZOnD0qnpdZEjZRkJCQm6Pj2IGMGi4MoKCxCbl6+PjCbnp5a7vL9atYntWYN1KyRog/wxsXFobS0lOpTOZGQX1CIvPwCPdcZaq5jnWfRnCrc9iSMzG1VvQ+4bUh1IPuZfx+t7OfH7qDWFRMGkzLQ09OHoaenD0NPTx+Gnp4+DD09fRh6+h3zWdtykZgQj9q10t2YQdpJ+2jEls/aloPiYIk7fqzrk4DatVV7lY5T6VJqhSrTmJUlcx20tqWbCOH1sm0ib3tB2kn7aDBfmbz3fWCQvLQzhH3520ao2vUrC/P/tXzZfVTy0s6we/p4+WHCjtLTO9A7P+kd6J2f9A70zk96B3rnJ70DvfOT3oHe+UnvQO/8pHegd36W53Ny8q2Dn96WIeuPVzJfu1aGXoZ8M1+C3lbR1icNztH2UiXUWFRV9LyZuY40v7aXNs5cZ7gRb8uQ9ceZ90isee/7wEQjb5/wtonwvjRqLPORlXmX2POyv8X6+bE7+Xj5cJSPSf2BqYWenp6enp6enp6enp6enp6e/p/yRcXFKCoKoFZGugqruL+URIjZpRL5Whlp+pY0AVUqWp/o3xAnsSDzJ3Mt82nPrz3f8kwJaSPbxbPN7FKF2z9i+Q/m9ftA7eMy//793/gK35em7IKvz1OYjxw3ZRfNy34n+195nx+7m9fPmBBPCCGEEEIIIYQQQv559LeyExP0/es18tVS++hNFXu5h3lxcVDfZz8S4fWp4UbI9pKbVxDjXLvbXqji7U2vSgQf8/sgTW2bKlheCHr6GH1F++juRnz4lVKpVCqVSqVSqVQqlUqlUv9pLQoU64edSl1/r1S+XapKdfmU5CT9LX0HiXtV1kfaOEfIBOr2qjPXxapedp4F2Q7Spiq3L31sPpb3QbK8D6L0p6evbi/7X3mfH7ub6mdMOJh7Pe16PqAmPBAIRs070NM76kBP76hD9fj4JW8g/rf71F+OWRHz9PQO9PSOOtDTO+pAT++oAz29ow70/3UfDAaRmJTgeheTNlShl2+BB4Mlrou8PgkJCfrgmBwfo26/yjzKfNrza8+3bAfZHqG0gd5LNXjzPnBSpkF4++j3pWwbx3qh90LvpYq8s49G//zY3bx+xoT6aJRPR+dcxS7kA2qis7KysXnLVmzevBVbt2WjWO6jFWP/nepzs5G1NQeF+s5YEfJ+X1DJ9tXl1Xpv25qt1yNi/t/qi4tQKu9j129d/iN+WbEtnPe336V8FpbO+hFLtkbL72QfLCo//2/xRVuR8M0ZSBy3F+IXv474Hy5Cwg8XI+G3+5D46cEV96d3fNDnK2pPT09PT09PT09P/x/0jlXxnVgcnOVrp2OOL4M5xmSg91KRF6z51TNsvK56tw3Lzit6/p2N4NQkHvIiZfuwsOzM4u6I8sO3f+5+fpd8xoSsUG5unir5TsCH3MstLTUVcZE+2P0UrsX82WuQhfrYr2sr1HLDmuAmLPlpOdYjBXt17oiGKW58O5jz+OHoN7orHv/yUZzS2A2Ww4aPb0K3u2fghtd/wJUHusF/gMqud3WzZNlKfblqi+ZNsHLVOusSujAN6tet+IFb2fMwftyPyHRtiPqH4dyTm+DboXfgZZyKUfeciDoqPPe1y3E3BuGji/7BjREzc/By/xeB217CZZ3c0D/F/JHoN+wnHHunWpd93di/lMQvjkbctt9R2qgd4lb8pGOlh50CxAcRN2MiStqej9J6/0PJPtfqXEwEt2Hpj5Mx5a8sZVLRonNP9OrUwMn9C9k6ZRgufA247Nk70aueGySEEEIIIYSUYcPGLWjUsC7ku6VyGGdnaOaGzWjYoK67Bl70+kTJxcItdw7Dj7/MwR7NmiI7OxtnnHYSLji3n5v977FezWd5c924Yb0y22dHdPWadRj20FOY+dNs7NNhb/y54C9Mm/whamdkeNpRY3gf7OT3JXU7NBhAVl6p2r9TvPF/ia7fEP3zY3fDvWJCcPUf9nKFxCb1RpcTE5oI7eWExYaNG/UHQoXjb/kFz11+Lc67/CZ88IeEw/nCn17HQJ0bjZlbo/SP2btUW/tq8iFibF/NfvHSlZi/aGnIR2qfkBDv8W7FFVcL/saML+ZhaYFjQ+h8A3Q+4Uj0PeFA1An1d4k23i7nXapsvO30LQ/Fhcefih6tYmy/m/q4nOWIy/wWpfv/H9BMh1T9JMSV/AYUJmofv+R1JPw8WJeKxtM+cyoeuu5mDHlvCQJ1WqBNnSzMevUOXPjqHOTG0l/L7uXrdFTvu1OPQufaJj8XL59/LyZtiNyent6tuELvVlyhdyuu0LsVV+jdiiv0bsUVerfiCr1bcYXerbjyT3sJyY/Y9d2x4/He2Akxt/doCLceilk58wXRGHVbTo7WCweepfWuW6/D2689h/kLFukD5bGOozUvB9u2Ri6F4btQxaQbvn4c9765CIUxtq9yFfzza22DmLZXjPrnn3+h/4VX4fTevTBn+hcY89qz+uTEtm3Z5fcvLkLWlmxs25KjtbA4Srvt0rl4vtNNGL/OH98F1BCqu2q8aVcFKieKFi5aEnP7kBYXqu1XVCZeoLZp1WynjZh6/1C8+WehL16Byl1Z3P3Fr1W7/5SjqydjyJEn4+JLL8ersyPk/wXq7Iehiiu7p48PX3bg6j/s5XZN23Jy1fq5KxqhvdzO6a+lK/GnHMCOefy1mPD9IssHMHvaJ0Bqsusr6l+Rd6m29tXkQ8TYvtq9I1KRqybattkTbVu3UMVV5dPT5Mnz0fqHBlDURo/TL8Zl51vllE5IU5nGh52Dcw9r6muvqHD9dhXvUmXjbadP64Re55+I9qkxtt9NfbycbKhZxzkRgQYordMScTWXozSxPeJmqz/69z8JOGw/lO57HOJWTpCOul/U8YPLMPbxd7Cg88UY9fituOrU43DsqYNw5+PDMeL0A9U+WkH/3dU3OQLnnnU4GieYvPrLRF8UFaU9vaP0rtC7FVfo3Yor9G7FFXq34gq9W3GF3q24Qu9WXKF3K678w76SrFm7DncMfUgXqW8/kddHvqkrh2oqo4OuHYIPx3+GDu33xgtPPohB1w3BtuxteOj+OzF/4SLM/GmOp315+sf71+CqK5xy5gnHo/f5xj+D6Zsr7u/RwmysLyyMvX0Vqybq9q865MqIQdcPwYtPjkDPo7u7UWD1mrVo3qyp66KwcTJu634GLtZzfDmOP7w3Br80C9vkttj/BXbC9pn+48/4be5811WC319G51snY4NrHTbhi1uPx8jfXbuDFOZvQmGRa2Jkfjnv0Rlb3EbVzPyJL2PVoJfwwTujcPHucFOU7SXq/rl7+XjnBIB8OO4qCmTn5OqrIQr1LwlvfvXa9Zg2fTaWLFulY2X7R1LgzON6YP6oLzDbfaZDacEvmDYG6HLIQTrvab/xF4y85hR02/9w7L3/8bh02CdYnGuPV4qsn0ZjcM+jVP5wHHX5aMxYI6N4xylc/AkeHHC8brN398sx4uNlKAjldXPpID88/RwtxJJJz4SWoftPXqPz25ZNx1u3X46j9Pqp5Q94DFNXh/tvmPwgBp4zGvOzF+Kty2X5fTFygZOPZb13ps5fuBQ/z5kX8vK/IH7en3+pD+iF+G2eKpauUftAtPHCqqSc/IJ3b8ag9+aG4+qnt10RMme/gSGXX44+/a/GhcPewdzscD5nyUQ8cevV6Nf/cvS7chhGzZJfB3Z/V7cswJRXh+HCi5xxrnl2IpbmhfOyHs/9uAHrZrnLOv9qDPlgLnLscYIbMOtNd4yLbsYTX2xFWkuVLrO8tfjyUZWfnuWNLx2Lwbe8gbkB12/4EaOGhtf97flW+wXvYNBL32OdvL6brkaf2z5Gpopv+fUN3H2l8qrPgFufwcQlcush1X7TN3johsfx5SZreWu+wXPDbgiN/9z0vz3rs/A99ZpnbgjPr/ua5SoB0y7q8qxxdpbKlRDxK+Xkw/+pT8x0YPnfQPv9URpfX/2VtwilXU9CXIral+KbIW7Zz0DanhWP+8dkvL+yBfr3OQRpCVZcjdm4nuW3zcXYR+/AgPPVXF5+B4aNV/MUtPLu9tqyerKzvfQ+9g3Wqc+5rWoO9fyqfebx79aGl79ZbbM7x2Jh9ly87e4HA4a+g4Vqv9T7tYxTZj9UbW+4GW+7nyOhcdS2n7LZP+4CTHz2Zmf73/QMvs1082Z9b3gHC8QvlPobmKL227eHqfejjD99MobdoPpssZajdOn4e3DNmLkoMuNQqVQqlUqlUqn/elU1pZUpTZs0Rt/TTtJF6pHalFccTN2vXswhJge5wYgX47dlZ2PUW+9j3PiJ+lv6Lzw5ArfcOVznzzj1RPz4y2xVi97fwcnve8FreOOdUao8iqs6A2fea/xtOMp3R9xI/W0a9boHz13SEc4dvWNbvs2O5oXI8+zMtdS3p8gts04+83z0v+gqXe5/+El9QqhD+71CbSZ/9S32ab+3p1/UgpNx2xg1z2Pewjffv4gj592Ei1+Yq49tRWxfmeK80LLxf7g4mLpft3/byFVCsm3s2HMvv44uh3TWdclJGztfXjHrFC569Xyx7S31cNywp3BRp6QIuehln/NlX5HivkfvMX4IetSP3KeqS8G2tciomREx928pZjuH98vdV+Pj9BkK9SG5y6gSRYlawS1Z2diatQ2BQFDXf5w1D/P+XOw+AFuIZTxnwFpdu+HMvHGY9rN8PTcO2d9+iZGpZ+CoI3U63D7rWww9+TqM+LkZzrzvUTw3+CBkvT8C5w35DKuCzniFv7+CSy95BZ8UdsIN992Dwe1n44PJvnEWvoGBp4/A5LT+eO6lp/HcWcCEuy/CCzOd5burJR3kR7ifq6vH34GBt76Lmc3OwOPP3IN7uqagVp0GKh/AkrGPY+Sm9rjyoafxyp0no+Hv43DpreOwyvTP24SZf3yKewcMwkgcjyEDz0HX1jGu907WjLRULFm6CtN/km+iq5iEpaby+iqJNnK1hFwpEVZ5xkRF42opJx/I24bM3OJwXP208+u/ehjXvJaFE+95Ah+9+QCG7LcE9z8yCeslH/wDYx8ej9zj78Dbbz6Lt+88CvXyZJ8su5zVP0zCwhYn4f6nHsFbT12NLuvH4/6PF3rWY8abD+OReR1w9aOP4MXrOiLzo9cwdpEZJx9zX38Aw36sjXPvGa7GuBbHBn7FlBUqXWZ5TdUfesn4dtpPyLLiC2f+gFUdOqFTkvIbJ2HITe9ia89b9bq/PLgD5j70BD7f6LYPZCFzwRQ8+eoSdLrmXrx463FovHUKnnh4Idpc8YCai2fx7KVtEZeX5LQvyceWzG0oLnH7r1fj3/YuVu53OZ556RE8o8bPfHU4bpss39Zx1qcoV73mtx7Gw3O9r/mDhU4e5S3Pel07Q+O3/K4fcK2vhCj5DaXxrYGGLREXr17Pn2oj7NNKxZehNHcfxP36M0prN9O3fJJ+5Y27eskSBNp3xiF1I+e15v2KV25/Fp+lnYgRzz6in4dS9+tncfXrvyLPtJPtNftD3PbCSnQf/ABevO9IpP38LobfNRT3/+bM72N9a2PmCyMxZas7blBts6U/YMRDU1Dv3Hsx6tHzcNCGqbj//jtxzwTgxFvVOGX2w2Lkqu2cG7DWT8ZRsYD7uRgedxLiTrgVo166FedmzMMTr00J74+yvplZCIjf61Q8ds3hUO9onHbdXXjsvrvQ77Au6NJoHj74YVV4OViG2VPXoVOnTkg241CpVCqVSqVSqf963T7uGnK9LttP9PWR40hyMElUjtmEvSll87Uy0vHWyGcx6q338OHHE+VwlB5L8s2aNcWPP892+0TuH8558+p//SOcm4u3znkXf6yejNt7Ho0jX5qL0nXz8P6wa9Gv++HYq/u5uHfscveAOpD5xYMYOMr5kqT0ffOcdzB7xZful0tPwMWP/4Isz/hOv7Xr1quyAWtcdbzz5UnJG61o/YXI8+zM9fYgJ3+2Zefgk/dH420156bISQjDnwv/wvCHn8JD99/hRipBQlOcct9t2OvlDzEj243lLccnwwfhhK5H4KjT7sBbf5iv2G/G1PtGYPLvszDy2t7o9r8T0O+GdzHfvWt7WYqw5OPHcelxR2Pvrr0x+IkZWKWvzCjCnJGDMOJr55ZgDpsx+Y6b8cEy17qsy9wQsWwf0d8H24PM+xXX3YaHrXmXW2kJLZo794uWnLSRtlVC3iK8pedebZuBQ/HWHDOH1lz3GIDbRy9CoZsJI9vvIrxlrr74/V2cN3oeVk1S/XocofoNwvMz7G0SC/PwVn+1D6z5ErerZR/18jz1RlT//h9+HfrpMQdg6IfLQ+uyYfIIjJi0HPNH36z3r27HDcUny8KXcKya7K6L3l+mYZXqKH0e/BiY8/xNOE+WJQ03qn3whgE4yp2HD3631tu8rk+HqmWcoK82cZa7CHNedpZ71MDXMSfPnTO1vKMGPo6p7pe8NVHfAxFer5p783pkDoeqZW9zGleayPvn7qehKybMJ6PXOx+eYS9i++rIa9EhobAwgE1btuLn2fOwNct88hliHR9YGb83jutVhA+m/q528mzM/moy9r2wJ/ZYMUPnTf8/xj6Dt/KSceXjT+OG07qg5/nD8eDN7bBh2mP44Ce5f1s2Zrytdkp0xAOvP4UrTu2JUwY/hccv0N3d5WVj6qiXMafZ2XjsqfNwXNfOOO7KIbhhvyI8/9Uvavmyfk57s55m+bp/9lSMvHsGNrS+FK+MvAqn9OiJASOewpWHJqt8Eg4c/AG+efEGnNmrM3qcOQS3DVQdf5+BOZluf81arDpkOCapdhfffDr2Tfau95Xuej/mrrdn+WXmz3gR21dBXuqyL7p5sY46eZOOc9XJS1wq5Y0vLvxNbKc8Efpmv4PV30X74GyMf3MTTrzmavxf05rql28G2p/WFydm/oCZcv/DvA1YlV0LrVs1QWJ8IpKadcOpRzQJ99fLd3SPk67HVccfgObpGUhr2AEn/l8LbF2wFJluXn7mduqLx847BM0zaqHRgafitJZ5WLDM/Yb7+ql4ewpw6tVX49iWDZCa3hydTu6Briqr857lAXscejjaz/0Rv4S+cb4AM6YBJ3Y7QOd//2Q8VvW8CDd0bY6khETUbnsGLjw+C1N+luW5w2QGcPCVsrz6aFRbvf6Na7EU9dGmbS2UqtdbZ69e6NVRxfX4upfbMYAZH47HwgMG4q7T2qNxRgYaqfFvvbwjlo4Zi5kF0kx3cF7z+YdgDzUvjTu7r3n5WicfWl6Gb3mmv1le2ddf1fmEb05HaZP9EJexWufjiufqqyNQkoe49vIAdvWeXJgLpKQA++8BtHYfQFEk1yhGH3/LFvWrp0UT1I6SF7/q67GYlHQk7rqsm7P/NDscV97UE+lTxmJK6AopJdntcem9F+GgZmr/UfN9Zjf1C7pFr9D8tjnxRByLlVi60owvpOK0a67HCW3rq3G7of+JDZCLQ3H9Nb3QvqHaJmo/7LdXeD806+eo5aXu8c64vWTcjNbofeqBwNwlWOnmw91UJaGm2p9TkYREpMnrU/t/YnwGehzbEZnf/ohV+vWpditnY8rmA9F1X+kmA6jiqteL2J555m0vYnvmmbe9iO2ZZ972IrZnnnnbi9ieeeZtL2L77cvrSIyal5ePo3qdqUtefn7M/Yw6qJryuqY17G30v88t9WPiq1c7t5SSA+TjJkzEldfdhjtuuU7nV69ei9q1MnTeT6zj2/ltf3yKEa9m46IPv8Y3F3dEYeZa1DxtON6b9j3++vQqpDw6AhP+dtrGyRc61T/bTP9tf7yMJ0YDA179HIu+H479Jo/A2IVll79+wyY8/MTLniIxP5HWz493ftU2MN796d8+Femtdz+gH3L99AuvYeYvc3R8hjnxo/LybXw58P38kw8gIyM96ji2Cp54nY7ocsiXmL9Y/CZ8MWQQvulwNybN+B5fv3E61t/xLGYUOO23ZX6KVz9cix7DxuOH2WMxpMUnuOTpWc7JIT2yGkOK8us/vQOXfN0St6ptt+i7tzEAz6HfiOkoUP/mPqBLV8z4cCrWm/VY9wPGz+6IfVtZ66U0c/0mPKS2h10y1bbxrH8MahCvfkpFq+PD7WJVe97llmYmPv3HX3DuWaeHfId2e+H5px7Ubecv/CvqeEZVLXLc1T9GDcKMHi/hh1+/w9fPn4MujdJ0fP0nMtftcPfEr7Do6xdxyoaheG6G87wKe5xtmYv0bbu0D27EjJcew5s4Hc989R1+GdERX9z3IZxH+Xr7hVQVwY7Le/TBV7bp9+jXF+2HAvUeTTltmH6PLvrkSiSr9+j4v9326j06YcQTmLG/s3+9d3EOBr80A1ky3sYv8fgTybhikuo3fTxuOK4lGiSXokGPq3FlL+DAC4fgmef6YJ/CeXj+kseRddrT+FrmYfhBmHH5TXh/mbte8ro+Vq8r+xy8990kqFVyl/s6/uqulvv953hg/09xb/+bMb7O+XhZrecrxy3CpaNmuPvxZvc9cA8mTVfjv+m+B+TRHBFeb+nvr+OSn7vjle/Ven/1CM7tWh8Zehx3fWJUwVFVXPV6EdvvuvnQFRPQKmL78BmMnZfXokMejUis40u1AbqecgY2vPMtZmfOxrRJTdH7iPbh4XW7TVg6Ww7EnYIuB8kFfU7/th3ldk9FmPrHcuVXYP40ZdEJe7W2lu/ieNVmkrgVmDbyFYx8TpXnv8QcOdu7ZjO26fWTvML01+r2XzwPb6n6vqd0w36JEfIIYMOvn2HkHdfh/OOORr83dUrj5B0GnNQNNbSX/t71dsZT6y8hwTO+lfd4EdvveF4eZN62VQsc3sW98ZvTTOfldl1Llq/E4mWquCp+y9bsUP/o44sLfxPbKZfjyDpuXmP1d9F+zVLMDqRi1czX8Mobr+Hl11V540sswEb1S03lMw7DmScnY/zQa3DbyEmYu6FYOob76+U7Kj6QuRBTJryEYXfejNvGrlTb92/nygvJS6ekZLe9I8nOxQH6R1zm31iI9jiog8mLOnWdN970b3QEju20Et/+LifxVH7JT5iCA9F1b8kvxaK5QN11P6nX47wueX1T/lKZdc4fi84wLdC+hTOuHr91T1x2yEo8cfXNGD52OlZlq5i7XKe98SuxWo3Vft+2SAvl45DWpi3aBP7Gqg3STHdwXrMZX6Ffs8K7vFt8yzP9jTf9jRex/Y7l4zb/jrjcFWp9WgIlvpOi4qXkqtexT2PEJS9GaaAt4n79xcmnt1I/yhlfUP9oKI6WjyvGquUb1du1A9rI8xhMvkVb9Q7eiKWrzBU6Ooxk/TkhzeKcuaxhz6/bSOF4IQnJ8VY+QXVKUrHQ541u5Kp4N2Dah8bxe2dc0y4uwYmafLibm9de/Qjl45DUWe3DmT9gymJn/Vb98iNyeh6BTmqs0Pq66vUitmeeeduL2J555m0vYnvmmbe9iO2ZZ972IrZnnnnbi9i+8vkwPl9RvgyV6a/qbt6/PvpAklukbortpW778weciQcefgoZ6Wl489Vn8M2kD7BPO+e2Qn1690J6WjqG3DU81F79iG18d308efXvkVMG9EHbdFWPL0Vyp2Nx8r5pQHEhsorro+1+87BxY7i/6ScKHIS+lx2L5smqnt4ZPY5ei5UrzMOh3fFV2X+/9rjg3DOkt0bqEjN5aSvFeBPz54Wo278Mvpi7PcI4ftGv3+H2W67VV0g0b9YEM3+ejdvuflDpHJ0f/vDT+sD3Ph3aaR8mtvEdUvT/mmVT8dbGy3DD6e4X9DI648ge4zDnz3D7I087GW0zlE9Ix4FnnY0D35mB+WXGX4GpY2bhzAtOV22VTczAgVdehVPe/wjT1D+LsW8PnLvlU0xdqRtjw8xvse28HtjXsQpnvP07qm0zwLdtOnZQNd/yyn19YSJvH6n62/t8jPkZP81G18PkeKO/vZ/tGx8p9bHhr+XYIE94z2iHtnozLcfUdzbhihtORnP597raLl2O6YoXZi6SpEO08Tufjot7tUJKYhxqHdoVPdaosfWhkijLD2H7ZJxy3hnOdlbLT9m/J07ZV5lgEbYFGzjv0U3h9htOuxQXHeicvGx+RHcc99tyrJLxU5JRa+sKLF4mVz/Eofl+ar2kUUo6akmlZgPUqpOMwp8n44k9zsGAHvUkC+x5Mm64tghPTpSrF1xqnoIB57RDLT0fTmjDaefgTPkyqsxPjx6Yv0fP0BhtO3YE1mxyrnSQ98AG9R44w31eS8ZBznsg9NgQ9XoHhl+vrHfD1X9hSWaRHrtte+lXmflTuPmonx+7Wd65YsL6gPznVa1XpBKRWMZzOytJObg7rkj9EG8N/QRv7XcOjt9X5Z2s217/L04CuphxhA0F7jMv9KVn3rzTQqqON+iqW9p2Px9DerREirQ3Tdz2oXFcFWqnOvdys+NyRnryraeg2/nvYMleJ+PWVyfglXN0c6ud37saw3rvbO3QrjUOOXDfkDdzJb5jh7bqF3w7/E8VWxs3rBdqH13lVSUiVb6JrYqjNZGo/jjReUmrn6H2ti/IQw5qovW+HXGQ+sBxyqE487KLcGxzaV8T7c4ZhvcfuQjdS3/EQzddjUGvz0aujGPG01qEBR/cgXMfmIjc1ifihrsfxgtXOSdgIi5X99MBCWlfVKCfDGzlHXWDZeKlpRk4uGsLzP3qe31VxoKf1B8gPQ5FO/26i5Ct9oG6ze3X1RFdTj4bdx7dxu1vhrbGjW+C/7v+cfW+ORWtV3yMwZdfjbu/XGu1N8t3xpd1966XtClGjnxrwumg8OZ1VIfUj3KXpxvtHNVXPaiPydLol37qqydyG6B0nfqFlRxE6QEHO4mc5eWO37xFC30lwRJfPKx5KMqVgSLkFblFaqK117ZMXpmwN7GQ18aTN/3CXlvdzM7rhPE6VJ4Pj1O+t9srjT8A3Y8FpsyQZ8Aswcxvi3HMwfK1BV87KpVKpVKpVCr136z672Ypyrt/M4d8qHjzNWrUwNcTP9BF6v58yIeKN28Wqut+VTiHk8J4fVzE/AXn9pMhMPCSa/HxJ5Pw06xf8ZFSk3/o/tt1fsjdD0bsHyby+GEk3wA1Ul2riMv+C588cAXOu2QERo6fgSX631jR8YyXAGzIs5/8G16+PgB+7hnuge/2bjSW9fMScZ6luDnHKo1x+4k/9KADcMxRR+DvlWtw2z0j8ODQITjskAN1XujgnhSK1j+cc7ygaiFfWroNBZuT9Ymf0i1rMXPZaNze/0Kcd44q/S/CEz/tjQzJhdorNf3jZbS1WL/B9TK21mxs+OMg7NHUWn5yOmphFhavlnxLdDkV+OT7FSq3CTO+3IhTDmup6r7xle+0X3ucr7aLFKn78476vC+v0V4HvKpT3vb6P9uHiuPl+R7PPfkArrj+ds8zJMa8/5HaNp1D/ecvcG73JG2d7VTe+LIi7nraeWv99jn/RVxfdxzOO743bnx8Mhar/V/uArPhj+V47VZne+nt9sgsdKnr9nf7hsYT1eNby5MSn4wU5CAr1+SllNff9aiPlJqW37YIEx4YhPMufhAjP3beo6a/aiwm3F/2nzXZzpUK6d1x/WvdsWREXxx93lC89ZNcGWP6qna6D7Bt41qgbUs0cOOST6lZHxsWroHaDZ229ZJCx2n1cnX3sC9N1AHnfzce8lvWYOZy9R5w93+Zz/B7QJqo15sqdde3Ow+v3FofEy7ojV7XPYcv/pJ76lh5rT4fIa/XwAns9upcMaHKrqL16tZCsnzlV1lP8ZGWWhNtWjUv0z+iCiI1DsZR/ZIx+fsZOLJPNzSXvJN129dHi73km8YzMH9JuP+qxc6ZtOPbtVa+GfbqIW4tNmRZy9EtzDjN0OIIZbY2Q9eLLsPFV1vlrE6opcd12uuK9pbu0RrHqdSM7//ARn9+7QyMn5yDrjcPxwMXHof9WmagtjlbHWrn96KxrLfd/p9RvUK6GoeVqzOxdLlcNbHKo1nZuWX6lVX9qiLEXZW0nbd9kz3RAVlA/cNw0EHe0kaeCSDtpV2jzjjxUvUBOKwnkr6YiG+3WOOJ5kzH2I+Ac28fjFP33xNpyRLXCwq3c1zYu3mdUCa5bm2kYSPWq23m5B112tj9wlqny1HovnguFuYsw7yfE3Ha/3Vw883Qti2wPqFhmdd1UKvabn8zdNlx09ROfe5Nj2DUde2x4K2JmKvjurXbzhl/1cZNnn7YshGr0ARtmrheY+Wd/91QOB55eeF8tau+6kF9Tha5Z76jkVaMuEbrVD/1R+ty9UsvuTZK6x1Q7vh1DzkMnbLn4Kvf8svmS0Rro3EL9Rd15iZstfNZm9RcpqJ503K2lxMJexMLeW08edMv7LXVzex8QJ4lYrwOlefD45Tv7faOdjjmcNT9fg4WrV+IX/IORDe54sfKU6lUKpVKpVKp/3p1/lT2EoO//6EndTHeQ0Ve8K+HUYXz3ITS0PMTjDclWn7EfbfhvP5n4o8/F+Hp50di7McTMeTuBzx5UbkFUaT+phhv8nZOF/cAnpPPwTfDB+GPbg/j9dfuwvXnnYx96zp9JK+aapy+jjXj6P6W98RdlYPeHfdrFzWv/g/5SHkh4jxLMVhVTYx+5k+zccdQ56RE8z2a4adfnCsmyrA94y+bhcnLT8aBcj4mLQP7tjofw8e8htetcu7+unXZ/vlF2JbaEs19DyoHUpDSbDk2ZLlWCBahEAeheWPHNj/udDR/cxrmZ8/FnG0no0trFYyyvnKySJ8wipIPUZ6PsF202pTXX7C8XMUit3IactcD2v+90rldtDyDxSDvCWkTeiZIeeM3a4njfliBlfo5HC5xm7BhaefQnCGxHrpc9jAmfvU2LmryJc4bNg3b9Fy3xEUjvNvs9fM7lr88we/9VLZ/XA6mPTAI8w9/BK+PuhvXX6Deo+6FDZoK+tfqcDJufWMSJo7oiQ1qnNesiz40qn1yqprf9e7VDW7/gmAh0KopGlQwfkw+tZz3QJT+Dbqch0e/mIR3L2+KyeeNwDRzg45YlmcRcf/cDTX0jAmPqhIxvhPycnlfh71boVFDd2+UsI/9990bfU4+Gi32aBx5HFW8cV3VPw447nzsi47oeZg8E0DlJSw1t/0BZw3GKalrMeL2B/HBtF8wY+LLGPr4PKD1+TizR5pqp97YJ/dEQ0zDvde9jC+m/4Kp7z+IB0db46g2PS85GwfmfYgbr3gZU5dtQtaKhZj8kqrLvf9l/dzLg/74aaF6g/jWt1FPDOiXDHz/GAYP/RBTZ6hlvPcgbn9/GUqT5KwksPinqZjz9yb88dGDeOJ9PZTC7S9Daexx1XqfUsF6h/rb/SJoNeb3addaXxkRLS+aEB9Xbl79kP/Lz0vajts+vRt6H1+M8W+OxdJtbr64CJmZG5z8lh/xwecLkBt02wcCCCAJaUmuV8WMK7cAy8l17tWH7AUY/6lzksvk5adW452A01V8q0NxbL2VeHvcj+7yirBq6jdwnoxi97M05RB0OWIpvv1gMqbgMHRpYfIZ6HLSoSj8dAw+WCK/8Z14IHMtthSb/kqkZo+3eCLeniVXDbi+WL3eGknydAW3vRt3x0+a+AHeNuPnLsHYd39A0vEnomuGaSeIhn0oKv4v3/KC9vKUV8XpF0WrKF+a3hIlbc9D3J/foTTROUlRhnj1S64kBaWraiFuxpfAtmwU9/xKvU9rq2Q549c+FledXx/TnngcYxdnOXH1h9e6H17EoFvfwIKiUrTv2RPtF0zEqO/c/S64ATPGTMSC9j1xQlsznhKp6YpZjmD7cEx7bb1508/Ji9fWaabzbdDhAGDGj2o/lHzx35gy5hss9YwjmP4m7kaj+br10QJr8af+6pLbT5XSpj1xaqsf8MHo2Vhlrvix86Z/JGWeeeaZZ5555plnnvl/RV5STj3WIs8X+PDjz3SReqQ25RUHU3fVkxPiQsfHHDXOEDl/7FH/h9tvvlbfzumtV5+WYXH7PQ+G8iPuux1TvvlO/ZMqN2L/MOHxHaLl12Lp7y3RfA/nNjDIXo7F+mHJsfY3merLe+c3rCa3vWXBX4sx/J4hOPTgA7Fq9Rp8+fW3Oi4Pxva3Lb/otQqtY8HqGXjihueQcctZOCxZxdp2wSl57+KDGc4tr3QpdO40IkW6bthscoWY8/E4bDuzK9por1+lO/ZeOOyMZHzyySxkFTt9V37yDj44vDu6NHJ8ae3uOLn7ZEx4YjJWndwFe+h+1VMc3HooFs6ZdpUtHdrthY/fc06+zfhpFq689HxPXnLSxo5FLY06o3uncXjr4zWhWNakMRhZvwcOaOr4lQsWOfMZn4Z9Du6MvTZmI0vPdRHe/jA816XFhSgwdavI5lEVjw/n9Ux48v7i7y8hb581WPJbS+zRTI61Kr9tGRYv9fbRPUJeerv9tyzHH+uceHLTzjhg/7XIynK83Sfj4B44d9qn+EKeWyGx3Hn45I21uL6H+6wPaa+HdPMmZo2hva9NyJf7HtCjSMNwbvUiLN7m1DPaqfVutQnbXF+ZYtZP/XB9FN0N8qFnTHhUlYjxnZSPi49H08YN0WHv1qhbp5aKO7RuuQdOO+lotcN1QLxqE62/+uGL66r+EdfxAoz//SX0a+nmJSw1036PU/DgyKvVjjUZt19zHc4b8joW/+8yvD/yMuyb4oxX69hr8NjAdsCc13H1oOtw+9gMXHLnyeFxVKnR+Ro8/ugZ2G/Z67j01N44+JSLcO/YRViVGdD5Roceh1NSgcnPvYJpmWY9XY1LQdfbxuC5fu2w6sPHcenl1+HS4VORtSUX2Q2PxMDL1bKnvYJ+J/fG1Z83wxV3mHvomf6uNd7VWsdUsN6h/t5+ZbQa83s2b4omjRto30LV92qzJ9q23tOj6elpUftrVUXb8vKStuJ77t0GSdNewyvzJJ+M/QfcgcF7/IghgwZhwHW3YODFgzHsY/WhLu1L45D747O48NLBuGLwYPQbOhutrzgP3TOs8UXNsyjuHIyLrr8GA4Z+ibRjj0QbWaK7XPmp1XgnIFX9Iy6xAy646xx0+O01DBg4CKefOxhPrDoMpx3i5kP9LFXrf/AhHfH7lDlIOuYwNLfyyftdjCeubIBvh9+CfpffgivU6zv3kbFYuM30VyI1a7xc9VZb/85Qp716HReO3Ia+g/tCntDitPeNf11TzJTxL7oGZ136BKbVPwcjBnRCUqidEB7fOK2yvATf8l61l6daqmKWF1GrMB885HGU1miBuBnqD7n1TVEaPMApUl+sJubH+Yj78ROgIB7Bw0ei+IwlKK1/QORxfeM3Pn4wRvSvjWkP3KK26yD0GXgNrn0/H6de2RcdklW7hifirnsOR+5bd+L0i69Bv4F34rkNh+L+m09Ek9B4SqQW8m5A1cM+HHOW79TtvOnn5MVr6zTT+droevLhSJ+u9kO1rqdf9gZyTzkf/Rp7++sOur+Ju9FoPvEwHNunFmY+fSsuvPIaDP8+W5Lq/9r6Idi//7YJxx7qXvFjlqPzlvcr88wzzzzzzDPPPPPM/yvyXlTUrTlE8s2aNsb9d9+iyx5N5cuYYWLpH6rZ66FKaH3kOJI+oBRZnf/LxiPlH7zvNn3lwJB7HtA+KzvbOXDu5iOp87/jDeG8wfi90POKpnjt0gE4/9yLcfUza9D8cLlDhsk7PUx/qTn/G69tyIs6/4e9X53/y8Yj5QXv/IZV51w1VMaf3/9MdDmks67LQ65/+uVXXD34Dn1LIUPs472Hsw/sjg4HHovTB3+K2re+j0dPberkE/bGhc9dhcIn++Gksy/GBecOxNnXfYYlReH+6z9/HBdI7oQTcdOa0/HIZfvpL9vGoT4adJqNF0bO1N9m3+/8R3Bd3nM4/STV9uzTcPmHrfDo0JNgLq6IU73ky7Y/jtuEnl3c5VtUtdeRiNvHoaL+FfkDO+3nPl/CofLjNUPfEXej4fsDccQJMr/H4sTRKRg+og+aS75oC1Z9+xzOkflU+/85V09Glyt66ty+5z+M681cq9zZfW/Bp4ud24gbKl6+l8qvv/i90fPKphh16UC9Htc8s9Z9j1bcPztzHj657jScrfpdcHY/PJx3N/o6u7wm1L5Od9zyykH49rwTdduzT78Dq/o/jIsONLeecfCPHzPue6DI9x5YWhRp/Yuw8e8ZePLM0/TrvaDvdfjy8EvRs1nFrzfS+kXeP326O+QLiwLuR+KuS05uHvLzC9GwQV03snMo3JqDQrmvnXWPQg+FOdiWn6wfqFIeepwE1S7D104e7pJdhBT1iyLFvYKiDHoZKNsmT8WDEcaMhRjX+79GIE/9OkyphSR7noN5yM0rRnKqLy4EVK5ALg1LLZuzKdiG3JKaSEt1n/C8XQQQyM5HUY1aSNuRYUK44yWp9aoR44DyOgKJSMuI9oawCAbUvKkdd0fWtzLLq06KtiJhyRuIXzlefRitcGLpLVGa3gqldf+Hkhan6qsrth93WyRE20e2Y1tVF/r9EMM+X1kivUfmvoSzRjXAY4+fof94IoQQQggh5L/Exk1bUbeO+21/jRzMkcM3fjXseH7L1m1oUL+O673I+tSTL45KN4MZxrAdXk5MLFy0BNuys3H1ZReiz6m93KSiCsZHIAfbit3jOlUxXhX5zVvKn2vnS7rSwSAdzQC2GqLn9+ncAw/cexv69D7Bisfe36H8fGF2rvo3bRoyUk18Cz695jSsungaBnWS51HGISND/r1n9Q8W6udUZujjWm68KBfZhUkqJgeOw+Pr/PJxuPCxFDzyzIlo4Fu+Z1yPGmLPV/Q+cN6X2z9+VecLs3NQhJSy8ysaVHOfXYTkjAykJPj6F2Wr+U9Ghj426OsXUkM15otykF2cofadKHlN5P76tSekW/udXw1xKNyaLTubbx4MFfevKF+oPsOKEvyvw+DtV7hVvV9S1fsldFjWP275/beo1xJtH93diCsKyIkJ6wXKqVt99iL8gplnnnnmmWd+p+WDazFp2L2Y1uVejDhenvHhy1fUn3lvnHlHmWee+bJx5h1lnnnmy8aZd/QfzG/Y6D0AGqf+09+6r0a/ees29wuhbtxaP70+tdX6iDWY7obt9AsWLoZ8s19f5VEF44XYhb0cWGwoBxYjbP8NG7fok0BVvX13rt+CT/SJiW8x6IAdHC8ofh0+ufFizD/zY9xyuL4fQ/T2O+jlxIR+H0R4f5r3ZVUuj56+sr68z4+QVuPvp6rMJ9x51933qojGpKPBPPPMR4d55pmPTmz5jZjy9L14ZPQXmFH/VAwdcCDSJBHKR4d55pmPDvPMMx8d5plnPjrM/7P5vPwC1EhJ8bQTDXlV0cd1jHd1R/IFhUVIrVlD1+24IOtTs6b39ie6kc12+gYN6jkPAa6i8ULswr6gQM11qjPXfvS2r5Fc5dt35+bzsXbWbBTt0xsdG0nAn1eqKtH7h/MF059Er4veQMrpj+HG4+tBX7xfif6Vzcv7IE29D0zcxrwvy+uvPfPMV2Nef1ZH+fwQ7H6R2JXy1hUTBknRh6Gnpw9DT1+dvghbVyzCSuyJTi3NpctVOT49PX0Yenr6MPT09GHodxUvt/qRkwSJifGhsD5QJelq8MGSEn073np1a6uAwW2ocNYnBQkJcljYxMN5B3+c+Uj5YDCIvPxCNdfmihiDk5e5TkutoZ+tWlXblz42X6LfBwVq20T+9+jmLdn6pEWCel9WxfLo6Svrg8VqH82XfTTy50eY3cPvFs+YIIQQQgghhBBCCPmvIM/aFGqkJIeO51TVga1IvrCoSIfT0yI/40/WR24nkiLrQ3aIwkKZ69IK5hpITk6OefvRV40viul9AP0+qIrl0dNX1jufH9H30d2NeHmN8iRso4LtmWeeeeaZZ5555gXmmWeeeeaZZ5555ndOvkaNFBQVFUuTEE6PMFXpC9Wy5CRItPWT9SksCqC0tJRlB4vMo8ynPb+2ynaQ7eFsgTD0XqrD2+8DHfNtH+d94LwvI/W3ofdC72V7vd5Hy/n8MCrsFnleMUEIIYQQQgghhBCya5GTk4eS0lLUdA9Chb46G6JqfH5BIeLj4yr8Bq58W7ykxF4fUll2bK6rZnuHobd9zNsm9L6Uq4eqbvn09BX5/IIixMepfTT933G1hBBXJCcm9JkK9wWrNxc9PT09PT09PT09PT09PT09/T/rs7bl6Fh1nQyQg7GynNq1MyIuP/r6eB/OLM3oy/dyUFGCtWunS8RtEGpRxmdlZWvPE0HVj+d9EGV72D4rq3rfl4T4Ce+jsX1+7C6eV0wQQgghhBBCCCGE7KLIN7SLAsVISkpEUmKCfijyjiAP+A0UBxFQYyarMSv77VvP+qgi3+CVW3LIbYqoXpVv1ss8V8lcV8G2J2Gq9H3AbUOqgR3dR3cH9IkJ9XmpPjDlRIX5AKWnp6enp6enp6enp6enp6en3xV8cTCIgoJCfYAqGCxxD+lsHwkJ8UhOSkJKSpI+qBrL8qtzff7NyFzLHMs94RMTEmKeX9vLHBcWBlAUCHCuqxDnfZCoH2SdpN4PsW4P2xcHi9X7oEhto6DaNkF3ZEKqhqr4/NjVPa+YIIQQQgghhBBCCCGEEELITkNfZyRnKqhUKpVKpVKpVCqVSqVSqVQqlUqlUqtbecUEIYQQQgghhBBCCCGEEEJ2Gp4ns7gnLELQuxUXerfiQu9WXOjdigu9W3Ghdysu9G7Fhd6tuNC7FRd6t+JC71Zc6N2KC71bcaF3Ky70bsWF3q240LsVF3q34kLvVlzo3YoLvVtxoXcrLvRuxcX2vGKCEEIIIYQQQgghhBBCCCE7jSjPmNASIc68o1qYZz6KamGe+SiqhXnmo6gW5pmPolqYZz6KamGe+SiqhXnmo6gW5pmPolqYZz6KamGe+SiqhXnmo6gqvGKCEEIIIYQQQgghhBBCCCE7iyo/MdH9+H5ujfxX+PaL990aIYQQQgghhBBCCCGEEFI+PDFBdpgpn7zt1gghhBBCCCGEEEIIIYRUF8nJSW5t9yauVOHWCSGEEEIIIf9RcnLzkZ5W03WElIX7CCGEEEIIqSr0w68JIYQQQgghhBBCCCGEEEJ2BjwxQQghhBBCCCGEEEIIIYSQnQZPTBBCCCGEEEIIIYQQQgghZKfBExOEEEIIIYQQQgghhBBCCNlp8MQEIYQQQgghhBBCCCGEEEJ2GjwxQQghhBBCCCGEEEIIIYSQnQZPTBBCCCGEEEIIIYQQQgghZKfBExOEEEIIIYSQKmfp8pW46Kpbcc3NQ5Gbm+dGCSGEEEIIIYQnJgghhBBCCCFVjJyUGPbIs7jz5qtx6knHYsi9j8R8cqIoNwu52d5SFHSTPjIn3YWTX53tmIIFeO+hpzB1g2P/STzrVS6z8WK/u/DpTlzn2NeNEEIIIYSQ6oMnJgghhBBCCCFVhjkpYTj2yMORlpaq4xWzFpMfuBEDb7wP194RLu/95abLJYCcrXkoch02fYMHnvgGW1xLCCGEEEII2XXgiQlCCCGEEEJIlWBfKSFF6sMeeQ6NG9ZHp/3au60q5rirH8PIp8NlYAc3UR41OuHiB2/DcQ1dX5KHzRutExWEEEIIIYSQXQaemCCEEEIIIYTsMPZJiTatWoRKWmpN3HDVRW6rHSR3CT596kac3u8SnHX385i6POAmhLl489pHMXmTqi54Gxff8SkWLP8Ut197Iy5+Z67TJIS0fRvTl3yGR2+4AiefewXunbwW2PQjRt59BU5X/qb35iLXbQ3kYcmkp3DFxZfotje99A1W2reXKne9FDLu0Gud/I1PYeo6N14ewb8x9aW7cNa5apnn3YhHJy9xTrJsmI2PnroLA8+T+LW49zM3rtjyzaN44Jsl+O11WZf7MHmrCla0boQQQgghhPwD8MQEIYQQQgghZIfwn5QQnnjuNaSlpm7XSYmVf/2IX2a5ZXmWG12LTx96EO+l9cOb77yK9+46GWlb7edWBJC7LgtFJaq6dx88fX4HYI+jcPvwu/F0H/8lF9L2G4ycXAsDH30Bnz58HHJefRAXv7ECR978Asa92B9NJozGp+7dpzInP4qbZzTFTU++ik/fGIGzEz7Cdc9+5564qGC9CubixTvfRqD3/Rj3vsoP3hOfPvI+yr+xlRpz6H0YmXAyXnxDLXPUdTi5bVMkq0zR+rVIOvEmvCnx585E+phX8Nlqp1dRQRZ+e380pu11G8a9cxuOq1PRnBFCCCGEEPLPwBMThBBCCCGEkO0mc8PGiCclhO29UmLz4t/xy+9u+ds9MbHyO3y0pDNuuvAwpCUon7QnDjmgtpPzk5CKtIwk1SYN6Rm1kVZD1cvQFH36/h8ay1h7dMHhrfJwyDH90DZD+Yy90KFVFrboB1QswdRP/8Zxfd1cQm0cPOBMdPvhG3wjV2dUsF5Fc77Gpx3OxEUHujG1rCNrzMVv5T3w2hqzroyZsCc6tE3VqeT9TsLJe6uxggHkoiFa7LERmbIeLrkdjsOgwxuoPuo1V2bOCCGEEEII2YnwxAQhhBBCCCFku1m/fhMaNWxQZSclhP/1uhSDLnRL9z2d4JaNyGzVEk3kAHs1kBTp3IUmC1vWNUXzpq4VaqQhHX9jldySqYL12rJ1IzDrA1wht5TS5VF8lF0byeX9S6y8MbMX4NOnhuDiWx7FyE9/xMoCN25IS9NXVmiqec4IIYQQQgjZXnhighBCCCGEELJD5OXlYd78hXjy+VHaV9kzJWwSkpC8biP0RQw7lVQkZWQhU57XYAgGUISmaN5I1StYr/S0VOCgM/GC9TDvkU/fhOPquw0iUTMNaRHHzMLUZx/FgoNvw8jHbsO15xyHDnIVRzT+sTkjhBBCCCGkfHhighBCCCGEELLdNGpUH10OORC//7EQrVs2r56TEkLb/dGtYBYmz3GfkRD8Gz//ap4/EQE5uJ+dG3ow9PbTAYcfBUye8iNy3QdeZ07+AlP37oJDGipTwXql7d8FB/80GZ+tDj90uihQwQOo2xyG45K/w7vfbHQDAWSuk/paLFlcG42buLdjyv4bS8t7kHZl54wQQgghhJCdRFypwq0TQgghhBBC/qPk5OYjPa2m62Jj46YtePfDT10XG2efcTIa1K/rOj9r8ekdd+HFv1zr0uHC+/For6bI/f0VXPvQj8ipUxvpNZqiz6HAi9lH49NLOqtWs/Fiv4/Q/Ln7cbKcMAguwJty26RAbdTd72Q8fd1RSNOjCb627nJXnfUqBu0fwQfXYurTj+LpeUDdGnnISe6E6+68Et3cqx7KXy+VX/A2bn/ge2yuk4rkYADJ7c7Evdf9Hxrjb3x04314d8/z8Zry4fVTrPsGD9z/Pn5DKtIDecB+/fGoalM0+T5c8dZG1K2ThPS2R6MbPsKWo5z1zJx0Fy5e3Se0XKGidasM27OPEEIIIYQQEgmemCCEEEIIIYRs94mJlavWui42WjRvWs6JiRiQhz7nBZCW4TwMunwCKMoOAKmpSK6K5ywE8pBblIS0tAgPpKhwvWRd8hCoURue7kE1ZkGUMRVFuVkIJPv6yHoEVZ+ID/WOQKXmLDo8MUEIIYQQQqoKnpgghBBCCCGE8KAzqRDuI4QQQgghpKrgMyYIIYQQQgghhBBCCCGEELLT4IkJQgghhBBCCOLj41BSUuI6QgghhBBCCKk+eGKCEEIIIYQQgoT4BBQHeWKCEEIIIYQQUv3wxAQhhBBCCCEEiUkJCASKXUcIIYQQQggh1QdPTBBCCCGEEEKQEB+PxIQEFBYG3AghhBBCCCGEVA88MUEIIYQQQgjRpKQkoTgY5MkJQgghhBBCSLXCExOEEEIIIYSQEGmpNbTm5hWgKFDMB2ITQgghhBBCqpy4UoVbJ4QQQgghhBBNsKQExYGg0iBKSvhPBuKQnlbTrRFCCCGEELL98MQEIYQQQgghhJAKycnN54kJQgj5f/buBC6LavEb+M8UQkGRtIQM01yCvGouLVp61cpSuL0XK71ptqElaXpv2OK+5NKCtyS3rpKW6U1LuH9zSU00TdDClQxSEQMVUBRUUOJBn/ecmfPAw8OzAQ+o9Pv6GZ/Znpkz55w58zBn5hwiInIJNuVERERERERERERERDh/BtixEjh9XM0gqiKsmCAiIiIiIiIiIiIifDUViI8GYiLUDKIqwooJIiIiIiIiIiIioj+5Iz/rb0xI8tM0TlQVWDFBRERERERERERE9CeX9qsaUdIPqRGiKsCKCSIiIiIiIiIiIqI/uXSLioms39UIURVgxQQRERERERERERHRn5hstsmyw2vLigoiV2LFBBEREREREREREdGfmLVmmywrKohciRUTREREREREdN0w5OfiwkV9uPyHmlnt9mFx+BxsPK0mXWj/F1MxfXOmmnIsc/McjPxin5qqYRK/wMj318P52CAioqpi2b+Eia35RJXFigkiIiIiIiK6TmQidu4cTP7wU7z30aeYNGkq/vXhCiScU4up/LJjEflpLM6qyWvp0Or3sSpZTRAR0XXFvNmmpnerEeFCFVTSE0msmCAiIiIiIqLrSttn3sbMSW/jw/fHI7zdGSz9eAUOXbO3J25wVwtwIbcABjV5LRnyRViuh4AQEVEpf+TrfUyYtHlAjQjsAJuqSu0pghonIiIiIiIisqrQUAR3dzc1VVXykLJzDy607olOTeT0TWjQqhVuPvAdfsS96NbMQ1vr7L4ViFwQja/W/oAfj1yAb+DduO1mIHPLPHz8qw96tGmkrXdi8zy8t7cuHmmrbQwXdn2BmT+7o1dgLWz/dBmONroZCYsXY0H0Vmz+7RLuvrc1fOrINTOxd9Pv8H74QbTylNN5SN28DB9HfYvV3+3E3sxauKvtnWggH/W7mosTu6Mxf/EafPWt2E5CGhp36IDb9aAC537G8rlL8R+xDxlWFGUi95Yu6NHSC7iciFUfq/3v/g0XbmmFtk1MX9TlHduN7Xl3ol8HPwf7ysOh1Qswa8lGrN2yB0kX6uIvN8VjatQ+nL1wGvt3xWNLtjceuUePC122Hg8NjIj/TIUx1xvdWuYhdulSzFuxGdvTrqJtxxbwqqV/w1bcF2/LapzKZZ/gq+QinDksjmfHIbi17YI78w5g/RF33HX1R3z6qYjbTXtw6pZ70Kk48oiIqDqkHgCS4/Tx25oDAQ8CSTv16Tri0t+upz5O5Ep8Y4KIiIiIiIiuY43RNsALqcdStSnDoRV4L+Yy/jpqPObOHo/XWqViQeQapF4FfP1vxflDR1SfBZk4lJgHw+EkHNamC8R0KnybthDjRbicm4m1q5LQ5pW3Mff959H78s+I/jlXW9NS5pYoRCbeisFjJ4t1R+AJxOG9JfG4LBfelINj2a3x4lg9PKPuOYOlq+P1NxT+SMTSj9cjvd0gfDR7MqYO8QfMmqU6FBONw+1eEN+bjI/+1QP33tpQLbHB3r4OrcGCo63x9vsijLNC8bcOt6JBqz54p98dwC3t8OK/XhXjgdpmSqh4WJ+B+4aLbU7ph7sS12NSZDwahIzGR+8Pwr2ndyAmoUBb217c24/Txuj63JPocQvQpp8Ix78Go6sY15xOErHZGxOmT8bMAbfit5hNKr2IiKi6mPcj0aQ54F4XcNMqnUs38UTkSqyYICIiIiIioutbbe01BqEACXFH4N09CF0by3l1cMcTT+KRK/vwQ5KYbNUad2en4vBFMX7xV/xSvxv6N03FIa0ZilQc+70x2gaWPI3ftt8A3OsttlOnBe7r4IXMjAy1xFwq4nfmou1jT6JNfTF5U0N0GdgDbZN/wvZsubwFegTfB9+bAcPlPDTyawicydH6dDAc+AkJnvfhxSdaQL5r4ubdEW395Xd0bm51cP5UKjJlM1X1A9HGV59vm+19QWyrbn4GUk8XaGFs0+oOcVxeaOAp9nxTHTSo3xAN6prisbS2j6hjq38f7m1VBO9OffT4rdMabUR4z56XlQsO4l6xFadunj6od5P8FOGo7wU3092I29phQA8RP2K6QcdA3H35DDJl+hERUbUxr3xo0gKoVQu4xU/NEE4fVyNELnTNKyYK89jA5J/CFQMuFqrxG1CF86k87vP52lB4Rc0jIiIiIqJyuXypAKgjb4bn4sI5wNfX/A5+XdSTzThlZou/cAPRtk02Dh8FDEmpuNy8Ndq28sKhw5nA70dwqH4L/Qa8NbXr4PJl/c2A0nJx9nxD+Ju3gHSzB9zE/IwsOVGEs3tWYPqU9zH7y/XYcrhkG2fP5wF+frBV39AmJBQDPffi/UkzMP2LWKRqr2DYY3tfaNMf7/y/utgS+T7+9eEX2JIq9l0BdWzeJXAQ99bYjFMbbpJpXCS+o08SEVH1MK948JEVErWAhmYVE+b9TxC5yjWsmMjHtkkD0ePJgfjHJ4m4ge9ZkyPnd2Bm0EA89sTLWLj/RquIqmQ+PfM9JocMwWMh0/EdC3EiIiIiovK7mor9vxSg7d2txYQH6nqKPzG0J/hNilB4FWh8W2Mx7oG2gY3x29FEHErORds2vmjQpgXw2684kZ4OBATarCSwTeyzbh6yzXd5tUj81xB+t4qPw9F47zsPDJ7wNt4ZNgghHUtqPrS3Ai7k4II+WVYdX3QZOBofzRiBAd6JmB0Va3tdyc6+5BsMjToPwoSZ4zH1/zXEz/M/x3aXvnngKO6JiOhGZN6Mk4+4SN5cD7ipFuDlo2YKfGOCqkIVVExkYc3I/niwt61hERK19fJwIVO/SX38ZC7km6vll4hIq/sYiKDQ6Vjxk/kPJlc6gW2fLMLCT3bglJpTbM8iK+ERQ9DLeGf29zh8Xq2XuQFvWFvPcvhYjy2b231iCIaNX4EEy5vedtZ//o2lSNAbXa0kW/GvhpEb9FeK83JwSrujn4uMMzdaFZQr8qljZ2PGWo9DlW+OV+xhJ4cu7l8j8vEifLM/X82xxdZ5rc61eO1RMU3ix9bWsxzGYo2NPFi+uLBd3jz2dDgiYlJxkW+qEBEREd24/jiB+KWrsKXufQjpKJtgaoh7722M1J3bcULWDQiXE2OxPb8FurTRpxv4+8Mt/SfEZ/ij7Z1ixm2BaHsuFd8dzUPbQNm/RHkF4r4OdbA/7mdc0PpSkH1OxGH/ba3R4TbgwukzuHzLrfCVD/ujCCfSc7R1pEYBLdAoNRE/mH77XkzEoXQ1LmQeTdK3Wach2rT3R4OLBbikL7LK3r6QmaQ3YYU6aNAqEHfVL8B5+TP/Zg/U/aNI7w+jUhzHvX16xYahPG9QEBFRlUs/pEaEJnepETblRNWgSt+YcPdugjZNLQfxS0TTBE/OmI25M6biq7HdYettWmfVv8VsH97A2dS9iHznVUzeXAWVE5dPICFmA5bGJOs33q1yQ3NTeHw94X45F9vWzcfzA8dio/xRWtsNjU3L5XCLbHFUMvueHLzc1XyT0ssbIR+J8d9g5JDp2GbWiVoJ8/Ubon5hPg7vX4ORL4ZhhQs7rykV/6bhVnVMTZ/E1AUTMPffkRjT25T+NwrX5lOH3D3N4lCkl8o3/whdisNVcIP9bKLMxxsQV47XvM3P6+Z1Dfq5Nj6s5I0Sr5LlcmiksnDp8sAHDWrr820qZ1yU2r63Gy6KPz6/+SQc/afuAJuoJSIiIrqx7F86FSPDxTB1OX7w7I2po/rBV/312uDhFxDWKhWzx8/AuGli+O9FdAvtj3tVJ524szXanjuBQ01aQL9f3gJtAzOxP9EPd7fSZjihIRrdkovv/i9ee4OhzVOD8bc/YjF5wvsYN2UG3o/3weBhIkxiWYPO3dAlK1bMF8umfYof3MyabhJ/C4X1q4PYD6fizWli+cJENGjhpS8rysSJPZv0bYplby46gjbBPcq80dHoFrH+oVjEpNrbVxEyT+7DqlkyTmQYV2F/q954VC5s1Q73Xd2HyEli/qId9t/IcMBh3NvVEPd28sXhr2eL785GDHu4JiK6Lpi/MdHID7hJXG9lHxONblczhdNaX03VT1aI/LJNTVCNU8soqHEXkU8wh2GmyNTdXl+Af4eYN8TpavKJ/clYIcYGfRiNUZ31ubiSj4TZwzHyu3yg3TCsm9MXjdQil5BvOwxahDj0xaLYYWinZmvkmwpvbhAjFsvOp2LF+HBEini5feAsRL96t1qg2Pqeic3t7kXki9Ox4ryI739+hn8/2VCfb2v9Kyew5o1wzEw0AL3fwvYJD8Ky6sN5NuKfShTnlbsxbsUsPGn5V4Yi3xII+uQ34B6RX+ea5de0NXjjxaXi+2548d8rMfxeNd9F5NsNw9Y4c67aPq/Pbv4Iw2bJt4c64b2YCejprRZoyl8elC8ubG//4k+LMOydDTiOJhgTtQBPV+ThOCIiIiIqlpd/GV6eddXUdaAoDxcuA3VlR8pqlkvJ7f9RBw08SzrLxh9iXpHFPE0RLl8sQB1Ps06dzVnblonpOGx9VzDk56Lo5obQ+662ty+5LA9wF+uWqixwEL7yqkzcyzi86mGzI24iIqpec14WRbNqSKP/m3oTTvJmcS0x/HeauAapF93eWql/VhcZpoWv65+vzgW8ZfOJVKO44idJhSUuDsPzQ8Sw+Dc1Bzj73QfavIXxBhT+tgERLw5UTbMMxMglvznXxn9tT7RofYc+bvlk9ZUsJMwfi6AnVJMvQaO05l5KbffM95gpw/Vpovj1nYo1U8PQQ6476TtsEOPPv7ECCdqK32OGXE8MM79z8GaGdws8/oheGXEq8ZidNy3KybspmjdV41ecaGio9h3oFayqKTJzbD5JfvHH+RgpjuudZU7GuV2/YYWKpxWqZSpJT//JWJMm0v2npXgjRKX1EyI+N5c0DaS5YsCp+BWYHDpETwtHaffJXhTKtJs+Co+p9R8LW4HDVl4MKPzte0S+8XLxej1CxmKpedNEVvKp0+GprGYt0FwbEeeDZV4+X/r4tHBbNF+mh3269paOjOORQXLdl7Fi3QrtmGZs1tdL+GKKfoxDVqim1pzX6LFH0VMb24uDR7WRqmEvLqyof38PPKFVkmThlNW3iYiIiIjohlbHCw2qqlJCktu3rEi42co8TR39Jr2tv7CtbcvEdBx2/jp38zRVSkj29iWXWVZKSA7CV16ViXsZh6yUICK6Lsg3EkyVErJCon4joJa4Vsg+JuTnLWZvTZi/WVEdEtaXhG3n1/on1Syu+llSMXlZOHxSDHlmt3Iv52jzNi15B8+HLcI3aabOkg1IWDYJEbEqR9pzJRcJCce00Xbd25U8cZ2XiIVDRmHkN7/hYl29yZfmOKE19zJi2Qm1knDFgGwZrsRdWDj+Hcz8IUu72dymtR8MZ8T8zHx189mA43I9MWRfrqreBxw4k4g92s3gO9Cts3Nvp1w8b9YOqVVZ2PrV90gQx7VtyXaY3Y6voEI9PmU8md+119I/Ed9OD0fIO2sQd16ldWEW1swaixVmOz4V8w76j/8GG1MLcbtsqkc2fXVZpt07mGHeXJcp7WKXY0RoOGbGniiufLn42zcY+kHpZn0K9ywS+Ww+VuzPFXmiodZk0M3nf8NnX+3FKdPNbyv51OnwVFJh4h69osC9O7rdo83SndyAdwbpxwfVjFb9y79h4TuvIuIHs3NEC/teJH69CCNEHCdoDcu2Q3OffO2YjquGZgvPq2M86cT5dY3YjAtbruTjgqlPFyIiIiIiIiIiKsW8ssG8TwntdQnBfN6F02qkGsgKiQTZEIzyyw8llRRUc1RpxUT2sUQkxO81GxJxSt0IdeTU0Ry0f302Nm+Oxq7NCzBOuxFpwJo41Y69hcRo2Rn1IkS8EYbnn34Vk+MNqN95GKY+rd6cEA4v/whLMw24vfe/EPPNAnyxbAG+WjkBg7zF95d/rW7amvl1g1i/M6ZGrcSu2Gh8MagDnpwrwvNhX7WCbCZJTIvBYRM1eb/h27X6nfbb291ViaalEvGN1vH2R3hnSBiChszHxkI39PzneDzdTK1ix8Vfv0HE4lRtvFSlTSm3oMXdepNQ7u3ugFnlqE2nfjVPZzmkOt2uf2IaMGjGAi0ed63R00N2lP3dTyWVRbcHvYgxQyYg+ruV+Eqk2xffrMSiENlfhQEb18aXfQPlvNj/3cPwRYyePtGv6W+rFP6YgERTOp/bgRnjZVM/QPMnJ2Dzms9EnvgMm5fOwhcz+uJ2O30glDs8zjq5HUtk+s6ejpFDXkbQ6DVIdG+CF2e8gi7Fb83nYtsnS7FNHEe3IbOxTuXldVEvopvY/zdfbCnTKfs3Md+j/sCp6nz6F7p1GybixXRe6c0gafFvrRkxB85+93/4RhvrhPZOt9nrBKfiwobCLMR9MFdrZszpigwiIiIiIiIioj8R806tfVuptyXEID/lIN+gMMmqxn4mEq1URMh5VLNUacXE4XXzMXL8dLNhBRKcfYL5nmfwakgL1Jc3h2s3wUOqGSRbzQ8lxuud+H6zPwuHtSfv3eB+LhkJR1UuvpKI72Lkk+xNMGhwdzQy3XT26oRefxWfhbuQUObVAE8MeutfeLyFekHVUWe9pZgqEPTKkqCnx2KhrA+4tS+mDrboX6JcTmCj1vH2Dmw7mYWzspbG3R1nD+7Fcav9F2/AMFNTQ2J4bOQKxInvuLd6Em8GlVTalOaGdq9/hu0xy/D9v53rn2PbEvN0lsP32g1/pzzxIoZ3VRU7pvQQDp81e7Ojbjs8/VIn3G7qEONyPpq37aSPJ54ocyMeuBuDXuurdYQu3f5wD3TTxk4jW+XBsz+sx0YZf95PYtrrnfS8JjW7G81Vf3Q2lTs8Tjr/G76R6btuLxJO5up5vfYfOL77N5w1vcGRGY81P8k83h1P/6NFSR8hTR9AT3kDPjUeiWf0WcXueRHvvdpOnU/6rIo6vm21lq+1CoOnByLog70oFHmm2+vDLPqXqCRn4sJM3CdhxflcNgf2hvbmSkM8GT7IcUUGEREREREREdGfTLr5GxMWTybLlybM55lXYlS1PevViBn51gTVLFVaMXF7u0fxYkhfs6ErWlTRDULZ+bL+xHc0tsdEYtGQABSm7sDM0R9hm2xf/swJHNdetTiHbyapPgPUoLezb63d+jvQvGlFWyw1VSDolSVnC93QrvcwfPGfYWjn6Ka3XSVvaezavBKbl07FqHaFSIxdhOenl26mSOcmjkE29dMQ9dWcnkNnY92CF9HGQTjcvT3h7uRN7HZdzdNZDgGVeCvEhsxErJk9Gc/LviiChuAxcbyVcep3VRPVtT3aVORmvYvDo5EdPpvS97tlWPef1zDIOx/bvpmOEaY+Lk6eQJz8dN+Lha+Y5+Up+FT18fCHZV5udYfL0uNU4vdavtYqDM4ZRD65G8NnRDrVsXW5OBMXZty99Sat2nirc/bWR/HvFZ9h3GMuDhcRERERERER0Q1OvpFw3uzB1ttblbwtYfpsbOrXVjhdTW9MyAoQU7hkxYjXLfq4+XyqGaq0YqJ5z6cw/PVhZsOTaOfKJ6ptcPe+A+1eeg2vy6fHC/dizY+l2/y/aHHT1l210d+4+NFzV+iOf8csw2Y1bN+8EosmlDzB7xK13VC/WTsMCpdN+IhD/Wk94sqcoI9ivGxqaNmn+PeTsqkhYFtcMgor+dS8pXb9zdNZDt2dagLKWbIviH8MmoyZ65LRoPMzmPrv2Vg3obtaWknu5a98qtLwmLh7olGrRzEq/FHtrYjjMdtLd0xdWFimWbNGt8q87IMGLk5fc12Gzi7O15vXyYrAWXjR9MZLVXEUF0KX56doTVp9sUA/H3AmHgknTX3UEBERERERERGRiXn/Er4txX+qXwnzT/e6YvDQJ2VFRnX08yA7vTZpfR/Q7C9qQjBfRje+Kq2YuLa80MD0RsCVPwBvH3Wj/Ba8NENvk99yGFTexvXt8kJ9b8/iwdk3DyqkrtiXGi3zpHwxN7R7/hU8Lu/q/roUS8w7SL7u/YYV02VfEJ4Y9N5nmDvhaTx+bws08q7Uqyeo30jdTN/zm/PNTmmqJjw21XVDY/lpqoW4xQdttJEHMeo/1vLyW+h5q7ZClXCvW68kb1d3E0mWcWGNb18MHyj7SMnHivn/h+M2zwkiIiIiIiIioj8n84oJ+bZErVr6WxKWn43MWoKvjn4mjiSoEaF5O+Du+9SEcPRnNUI1Qo2tmLgYvwILf5JjnmjfqglQtzN6PiafjM9C5McbcMryZmV5bl7WhmrXPw8XnezMu8pcyUXCkiXYKMe970aAvRvSt3THS4NlaWLAN/NXlHQCbcXFH+dj5JAwvLPsN7v3gKtHIS5o/ULchuZN9bc+pFNHj6mximn+1756R88nv0ZkTJY2TyPi9JTdJ+2rJjxWFZ7Amk9FfpXjnVugufxs8SCebCFHdiDyU4vO4GU+djov34ybVYVZdt4N8GaBtbiwoc3gV/C0PElTRdquM0tbIiIiIroxZCchfmss9h0vUDMs5KVin1geuz8VBUVqXrEC5ObmlhnKrkdERPTnZd5nxC1N9YoIyfKzOvuZOPJzyVsZpmacZMWIp48+TzblVJ19XVDVqjEVE9/OKmlr/x9B/fHYePlEO9D8ybfUmxBu6PLSi+jmDhQmLsI/nh6LCK1z6o/wRshA9P/E4gavPXe3w5NazcQOvDP6A20bS6vtDYTvMaO4T4GX8dhjL2PkGr2T30ETnnHYV0Lzp4dhkGxO6swGRH5zQp9ZRha2fvU9Ek5mYduS7Sjbmn9188Ht2o34VES8OR2RskPxMJFmn1YyZM0ewagn5ZP1BsR9MgpBoz/SOnQe9uTL6P/Gchy2eYO/HOEpfpvlGL79dIfjTrGPrsC/TOk7aAh6PDEKMxMNgPvdGPfPR9W27sCTr/fVbswfXzMZQS/qYdDD3h9vrHH2RnxDtOumV3sfXjIJ78xehEjtTZDrhFNxYYPXg3jpVdnJvEjb+SsQZ7VjeCIiIiK6/hRg3ydP4a5b70G33o+gU4u6uOvlKCSZfs8VpSL6jUfgV/8udBLLH+l4F+r6P4IZu8wqME5EI9THBz4Ww2yzJzCJiIj+7Mw7vm7aWq+I0PqWUG9KmKYbmHVaWtV9PMiKCZM2D5SER4bPxHwdurHVmIqJi+eycPikPhy/4ok2d3fCqAmR+OKf7dTbDYJvX/x72QQMb+cpzqTf8I3WOfUOJOAu9AwoRzM8dR/EoPAH0UZWchzdpW3js31V8LS8VQYcV8d5+GQu/vBugi5dn8a/l36CUZ1Lnt63qW47DH5e3rAFEpcv1TsGL+MWtLhb3rAH3Nvd4dK+IirmDjw9bRh61hXxnbkXK0S6bbz8IKYunYAXixO3IjzR7vVP8MXrMi0NOJu4Q+vQOVHkn25/bW+ns+hyhMe7E55WlR+JP6xHQqY+26bC/OJ8fDgzHzff0gQ9g4Zh0bJZeNKswyH3e4fhiwXD8HQzN1xM08Mgw3781k7o0vRmtZZjtweNwKi75ZtEudi2bgNWxG7HQUdhrC5OxoUtjZ4YpFfCFe5A5PJrX71GRERERE7YPw8jRkXDd9oW5BiMyNk3Fx2XDMXgj+KhVT3UAQpyG2Jk7DHkXLyMnKTlGIRYTAibh33aBoTMVMSJj/7/XoctsVuKh/6t9MVERER/dubNODVqCrjXEyPyDQk1aG9LqOEWs6acqvyNCbOHCGTzUqYw3GnW/L75OnRjq2UU1PifS2G+3gxTbXfU9yp/58eaKwZczJPvWYhteFdwG9exwvP5gFcV949RHqb4rkya2VKclsDNzh5zOcJTmJev9f/h9LbL47LIy1o2rHifD6bwoa7YRqUqe4iIiIiopsrLvyz+PKjaTsYy//sU/AYBy9NXY5C6ERL/rh+6TRqMLZcj0Ft1wFkiEysG+GHw19MRZxyPrnLWrhmo1XUCpscbMf5BbSUiIiIys/NrMXyjj8s3E3oO1setKbwMLH1bH7/ZExj9mT7uavJNiJgIfVw24TRoij5uIsMgwyK9OhfwrsL+Val61Jg3JspN3sSVnfdW5gZ3bTfVCXDNq5SQ3Ku60+7yMsW3qyslpOK0LMcxlyM87l7l3HZ5yMoEGY5K/I1oCh8rJYiIiIjoumDWH4Rv827i/31ItdISbe7+1Vj9tVgnrCMC1TxdIC6nxmP9hvWI3ZWEXPYvQUREVMz8zQfzNxPkYP62hBzk2xTu6sEA2f+DqQ8IVzN/i6N5e/GfRTi0cCpszqlm+PNWTBAREREREdF1xTewGzoiGnP/E42kzEwkbZiBkW9FiyWxyMzW15HkmxW1atWCT8eRyHhzHfZF9oPeGK1YpjWanYSomRMwe9pIPNL1Hvh0n4F49jtGRESk9RNh3hxS07uhVUbcpAY5bpo2fTbyVysLWb+rERc7albZ0KJD6f3LTznPhBUTNQMrJoiIiIiIiOj6cO8ILP8sFLlLnsI9fn4IWuKBETNHiAW+Wv8SJg27T8CW9csREdYPmR+GYvCHqg8KwfeZKGSk5iAjcQu2xB/DsRWD4LtrAkYsKu6FgoiI6E9LNuNk4tcaqN9Iv/Fv/naCadr02biK+5mQ2zR1rO1eF2jaRoxYhMO8YkI+g1BVb25Q9WHFBBEREREREV0nPBD40mL8mmGE0WDEsVXhCCxKEvN7I9DspojHHR3Ru+8ghM9fh3Xz70HsuBGYt18tFNvwbW56fwJo0T0IWmNQ+1KRqc8iIiL6U5LNJf3yg5oQ7gsGat2k3/i39+khO8dWTBUIrpRoFqa7OpTdv/y82at0BQnfmrjxiaQlIiIiIiIius5ob0ikIjYmFujbGx195XQBcs2adJI8vGQlxD4UqFcmCrJz9RGTgsvQ5jT3k+9dEBER/WnFfq5GhBbt1ZsJUq2ST23UbFryM60nVMUbE1orjErze8V/Fvs3fd7dVf+UzPukcIasUFm/APhgIPDpyKo5Diqf2lMENU5ERERERERkVaGhCO7ubmqqiuTFY8bf/4kd9W5FUWYSYj/6J4YuvxXjl8zBU83qIPfbfyKw32wk31wfXpcykLp/BSb+cx6OeI1A+IR+aH01Fu8E9sb7p3xwq3su0pNjMW/sBKw43g7TZ7+DHrebtQdFRERUA5hu6nt46p+2yCackuP0cdlcUr8RwM31gJvUY+umT/mGgmQ+X9YLHIzVp/+4BDz4//RxV5AVBttX6OMyXI++pI9bhkt+1hE/Qw5t16fPZzsfjp3f6JUSGUf0aXkM+78HvG8Fbmuuz3M1WfEh9xEn4l2+pWI+yD4+zp3SwyGPyVHa1VS1jIIaJyIiIiIiIrIqL/8yvDzrqqkqkpuEFdNGIvyjWL3ZpVb9EP7vuYj4WwttMYoyEfvRCAx9Kxqp+hz49grH7PnTMSjAQ5vO3Dob4aMisOIX1XCT2Mb0+csx/rGS5p2IiIhudPKNgQ3zS5pW6tIPeOhp4GYrN7nlTfKlb6sJ4eEBQIdH1IST5r2qRoTRn1nfT0UkrC95k0P2I9HvNX3cli/GARfP6uMhY4DW9+nj1ljGkTUy3nq/oCZskNsxVQDJigzvxtYrNGQ8axUPP9vfpyVZQeLfFmh2jzieLq6L2+sdKyaIiIiIiIjIoWqpmDApyEVuAeDRsCH06gZLBciVK4ilDRvaWCM3V6xlezkREdVs8sbw0Z/1m8TyxvJfeuo37uVN4BuZ7PRZPv1vrY8FebO8X1jZm+ayUsLUdFHTu/Ub+uUVEwGc/E0f/8dk/Sa6K5iH7dEXgYCH9HFbdqwEDnyvj3fuBzxipVJBxpF8S0JWepiTx959IPD9Z0D2CTVTkHlDxpslmW/kGw/y0xoZz3KQfXCUtzLCHlnZIsMkKylqMlZMEBERERERkUPVWjFBRERUAfKGtHxiXXambLrZbU4+iW56s+BGJI9ty+f6cZrI5o8KL6sJRd6slzftJdmEk7xJL8l1n50M1G+kT5fH90tKmoKSbxjIeHREpoFstij9kJphhflN/1fmiDCadbRtTXY68NU0fVxWMr06Vx+X5FsNsoLAspJAHvcDTwIdHtWnCy8B21eWHI8kK1pkhY3MIzLMe9bZrpBwhtznXR314Wb580m2hyXvwovPiyJsF84CJ34DTh2Wa1snj++hZ4C//FXNqGFYMUFEREREREQOsWKCiIiqi+lGuom8wW1+M94WZ28k23qz4Holb7LLJoksj6/DY8CDTwInkvWKA9lngYm80S4rJ+SbDibd/wF0FN9R98fL9fnT/wG714gRwdabCjKdZOWADKccnEkzk8CHgEdfdi48S94qac5JHqeMH1tvK7S8F3j4Wb35JcvtbI4CkswqJ2R+kGG2ti0ZvgaN9IqR02kl+zcnKyDu6iQGsc+W4tNW+C0/z4jtyUqKpJ369i3JcMnKIFe9pXK9YMUEEREREREROcSKCSIiqi4fDFQjlWS6QdzYH9j+VUlTRCbyafTr9e0JeXPc/A0Ac/KNh8dCgTvuFhPqDrd8Al/eaLc8RhMZF8GvixF7d8jtfMob59EfiHEXk28WtOwI9HgWWmfczoTnh/8CBzaLcTvkdmUcyfS3tz3ZQfV2sT1r5DbueRi49zGgQWMxw+L7skLoYraIezE0DSidHhX9lOmY9COwTxyf5ZswsmKim8izNaWCghUTRERERERE5BArJoiIqLpUpmLi1mb6WwHyhrRls0D7NgG7/6/0mwXyaXTZLJGtJ+6rkwzDhdP23/y4t4/+loStDpJ3/0+/qW1+jPUbA89NLRsf5SFvvi95U004Se7XX92wl+lSIMNkdiP+Vn9VGVFO8q2G1e8DZyzeLpDbaxqo70+rkHCSrAiQlR2mOJNhknlIxnVFwucKsrkpmV8t01KSb/vIPihudKyYICIiIiIiIodYMUFERNXlhxWl7l+jcTPbN+LNyafarT3Zbv4pn0jftMj2mwXXK/lE/oN/B+4Qn/aOT35eOAPs+p/eNJB86v/pd4Bb7yy7Xnk/57woPu2Q+5IVETKs8lOmmzPbreinPE6ZnrIJpcoen9zOrzv07cg3OJz9XlV/ygqK+P8D9m8S08roz5w7H653rJggIiIiIiIih1gxQURENUnCer1jaMun0a8X8kl9+TZH6/v0QXaEXBHy7YKacBP7z06+TSPzq9TvNf3zRseKCSIiIiIiInKIFRNERFTTyJu9v2xTE9cBWYEgKyOa3MnKBKr5WDFBREREREREDrFigoiIiIhc5Sb1SUREREREREREREREVOVYMUFERERERERERERERNWGFRNERERERERERERERFRtWDFBRERERERERERERETVhhUTRERERERERERERERUbVgxQURERERERERERERE1YYVE0REREREREREREREVG1YMUFERERERERERERERNWGFRNERERERERERERERFRtWDFBRERERERERERERETVhhUTRERERERERERERERUbVgxQURERERERERERERE1YYVE0REREREREREREREVG1YMUFERERERERERERERNWGFRNERERERERERERERFRtWDFBRERERERERERERETVhhUTRERERERERERERERUbVgxQURERERERERERERE1YYVE0REREREREREREREVG1YMUFERERERERERERERNWGFRNERERERERERERERFRtWDFBRERUDoX555FvUBNEVYz5jYiIiIiIiGqia1AxcQnJGxZhWXyGmqbKYXw6pzrjaS8WDhiKMRuYJlLWhokIHjAfB9S0YxlYO34oghfvVdM3uIPzxfFPxNozavpPICt+ORZuSES+mq4xroi8OT0M/V8Kx8DBcxBXoOZfc2XLtwOLxTk0fh2y1DQyd2DZknVIrnGJUoOVyW/X8fW+AvmrTB4lIiIiIiKiP5UqqJjQb8oGWxkWHpTLU7Dty92I2ZlcrptW+s3N0tsbGD4Ly/ZlqzUqy4CsQ7uRkqsmFe0PZ/P9Dg5D6NT52JRySVtuLVzmg+nmtLPhL7M/G+uVqFh83hisp0nFXEfxdGYdxoh0DVudomaU0NLf7Ia8lm/s3bhR2zLPL/1fmYgpK3cj54pap8ZxZb6gyrGWFtn4ecNWrF1zEJlqzrWWc3w3DmRW/pHz/J1LsTApAOOWLMba/45GNw+1QKn665Qtjsu3nINbsXLDRvxclYlSDeWRq9LyRlA2v12/1/uqyF+uT2tXXzv037v6b1slNwUJhzJQqCaJiIiIiIjItip7Y6Ln6NlYGVV6eLmtXNIOw5dG4qt/9YKntmY5tA5B1Cr5B/oCsb33MPVRN2yaNQ1RR9TySslG3OeLsDlNTZrr8ULJcXw8BkOapWHh2GmIOQk0eXRsybJZfdASjTFklpoWw9RH/dRGBGfDb76/qEkY91d7x1mJ+Lzu2UmTcrv+4ikreqmLnqIvnefmjGwH922LELpgdw29OeLKfEGVYy0tGiN4ciRWRg4W5eH1IUU+Ze6CyoG8/EtA81ZoKQuR2vq8Mqr0OmWL4/LNp89YRC+ZjSFVnihVWx65Ki1vBGXz2/V7va+K/OX6tK6Ga0fqRkxZsRc5apKIiIiIiIhsq7KKCa/63vC0GNzVjZzCQgMMBrOn4ApK2k8uzE3BgT3JSC+w85RcbTexvcYI6DsY/ZtfQtLRss0a6NtJREquxXauXEK+aWdynUNpyL8i23A+ipTjQN5FERY5mH/Nw7PkOG5tiZ4vDcNA32ys3ZUCuNUrWdbAE27in2cDNS0HN7UNc47Cb76/+s3Q4cnBGNj6EjbtTlYrlFYmPgX9+Hcj+aT+Zoc9hflpSBbrHjiejUJ7T7UWp5MBhSeTkWAtnWzEr4nNdLHCZpqYhSPneCIOpJ/XZmsKspFyaDcSjqSVOZZK5TuDvl2bcVS83CwsdnXCwP4GfLZihwuefC2d5/zbD8CY59uhcPsuJFhrasb8uDNFOh5KQU7xYau0lfNs5IXiNDxjK2+V5I8sG9GpEXkl/Yj1tLLH7rlqnjdLL7DJXv6Xbbvr88zixdpmrxiQr+3XUd4W2ykTZp3ejrxabjlYrF+u80hb11ZZYBZflnnfifPDZlrI80ycb8VclefslefqHCxznAXJSEkVi2UYZBjtXVvM8qRlnMtlefK7hnz9eO1sRmOnnC/OVyLfZIn9JZ8p2ZjN/CjzmCmezQbTOtauA6WI7xuuiri2iGOX5P9SnCyP7Ma1PFaVjoYMET5Rlshw2EpLOW0t/1pJpJLyS21DDmo1a305aPPK5Bk7541U4OCa6uh6ItnIb5bp7HQa2SujzONbpYu9sFk9H23kL3vXZLscnLe2wmB+TuhEmNQ8e9cOfXvO/WayScRdyvG0kjQzxSlRDZSXf5kDBw4cOHDgwIHDNRxqilpGQY27iHy1fT4wYTGGt1ezSpHtx0/EwhavYe3QTtoc2XzNTLcXMPrS/xCRAPjgPLIu1kPw5NkY3la/sy+byAj98UFEzQhCE22OcCURUa/MQfoLszGlh7eal4FtkRGI3GeAT0M38cfmebj3eg2RL3XSnzCU7b0vbowZQ7MR8X4i4BGAsDA3zPygdHv2AS+9i4i+flrYxqMkrDr9GD5rNRrRL7VT8wTZjMWIXeg5710E36rmKc6G3/r+srF20jv4rIXF/jSW8XkJB5ZMxNSt+vEj/zxyGvbCzPcGI8CikqTw5FYsnLsKm066oYmKq/zmIVgwWYTRytPAWjoZ+iA4bStiztYT6XQJWblAh6GTMKOPejPEWvzOG41ubg7SxZLcznTbaRLpMxqjchZhajzg1vEZLHuhIWLmLsXKXy7Bp1E97biz3DthRsRr6KDtoGL5TsraHoFxn6agUGzXveASctw6YfIHw9R2xa4OLsKo93cjx8MbPh5iuWdLtC9IRl5fPbxlmPLJrD5InvQ1vMaV7M8y/a3mG3O28pwWf9kYvmASghupeYp+3AMQdmYtIg+7wbNA5BEEYMxHg4Els0rmeZrHn2A6txL0ONbyS1ORtyaIvGW2ztpZ07SmLXx8RTrkGhDY3htxP/lhxiqxLbVafvJyjJu5FZn1veEl8lHORT+8/IEIq69cWjatitnJF8hPxLLp87FS5ee8s+fh1WUwZo7qZTU/O87/ejgSuom03rcUy9Lq6fFypRmGfyzCqsW3Aek7FyHi071I19LfgJzMS7jLFCZJC3MGhmtpZEDc3DBEYBi+GvkA3PU1gIIdiHj+f/CfPRg54fOxVs02CRj6HiL6NHZcvpXioCxQ8RVzWpzL4st5Zy+h1Qsl57LD88PBOTo+NaQ431Y6z9krz+d4YszQfCxbIMqb+kDOGQM8+45GlCgr3bXzIwalqnT7WMlXgilPaunoJvJkbj10eXUMxvUoiY/xm7RRTXG+M+NcOa/nq+R+YxGwcRY+y6wH/8dH48MH0+znR2vHIgRPFtfattbLN/M0KJ0PXZX/LThZHjmKa307RxE8q5W49q1Flqc3gkd0x88zrKeldqwW180yxy/z0kciryV5o9vDjZG+NREpV8Sxi7KsZchYjOtl0I5328Pm6WqlLHJw3mRtmoawzzP065C8XlxpiVGzx6BnQ22xw+uJifX8BovwuKiM0uL7IB4a2xIJH21FmsgP+WIdBIj8MM0sL5vK2DRo8SbzDB56DQtfFeejRf7CxUSstHtNtpJGJvbOW7tlgoiPSROxrNlrWCbWleVrfvwcDFnshslhwHirv/O8nf7NVJb5712VV0q9GSWO1+y6R1RTyD+EvTzrqikiIiIiokqQFROutce44JlQ44c/5hrzLpgNlwvV8lPGb8eFGoMW7VHTRuP+RWL6mdfFd86oOfnGrR+KeTNjjXlqTub6Ccag1+cZNybsMv6sDRuNi98Zbgx5d60xs0itJCQte90YMjHamGaalyfCM/x14+IkNX1gnthXqPie2ToaPdwLDqhJRQubWVg1eduNHw4KNU7+IVfNUE6vNYY/M8H47Wk1bcbZ8FvbX97RL8V2RZzuNsWhOYv4zJZheMP4VZo+aTQWGs/l5KtxC5eTjDsTThn/KI4r/bis70eFbdDbxsW/lBx35lpxXINmGrfmqBk24tdhulhlJ00GDTeOW/u7miOdMu7/Mcl4zrT9oqPGr94INQ7/P9M6Fct3xsNLjc8NmmqMPmGKk3zxvdeNA5Ye1CdzYo2TRZyFf3O05DsnorX0Cl9/Ss2wYJZPtHzxxsrieLFMf235OJFH1HQZNvJc2jdvG4NeXmq0Fr3Fxx2njrvooHHBy2LeoDeMC/aqtFV5IXyjKW4Kjfs/e90YNHye8ecLalbR78boiSKtP95efOwynYOGf2zcma1mFOUaf54v5j0zz7hfzdLj7PWSfQmZ66eKPLPReE6bKptWpVnLF+I7MizmeezCLpHHRB4QaWOVw/yvwiHS/6ujKqwiX33xeqhxwLKSmP3j8Hbjzxkl50xe3MfGkEEiDi6rGdo5YZZGSUuNA54xWy78Ib4T9LrIB2raRDu/hot0VGEs13lktyzINW6dGWp8btEuY55pWxlifXGsG9W57NT5Ye8cNcu3Fctzzpfnz32yvbgczfvxQzFPlEmmfKrS0eb5KMnzSO7brEzJ2zvP+Nwzb5vFn+Pz0blyXg9PiPmxS+Uqj/O18ypEpIWtc8YyDcrkQxfl/1KcKY+ciWttOyKOXjMrbzTW01I7VovywvL4836YKcIgtmfKvNrxvi3KdjVtdduW8erovBH5WsZhnFl5kGOWxo6uJxbK5jfL8DiXRg7LKFN8T1xpPGqKb/G742Vxzi4+rKbVsWvrmOJQXAPSMtS4Zf4SYbN/TbaSR0uxntYOy4QMef1V4S5KMi4W14AP40zlnpXyqjy/mcoouz2H12yiGuBi3iU1RkRERERUOVXWlNO2OeEYGGo2fJmoltjQ+nEMeaixmqiHwLZ+QN4l5Kk5mrOJWPn5KizQho3YJJ/ac8tFuqkjw4IdWLsGCBoUAn/TE9KenRAk2/hOMH/2zhsDXzBbx5FDG7FwySJ9+HQWwsI+R1xgCMIeUm9pOMtR+E22L0XoqHB9eCUMA8f+CMNToxF2v8PH9xQDsk6bmhRyg0/DemrcgkcAunX2K25iCx53wr8pkJRupwHm5t0R3LbkuJs80gc9DSlISDJvZsEifp1Ol3Jo1AvDg5qpCckPHR4KgE9xmjaDfwsgPfV3++2a2813BsSt34HCPiEIaWqK+3ro8PjD8Nq+V3uaMys+Fgke3TH07y1LnlhveidaqVFHmvQZjJBLmxC109kmoKw5j23fqPwphohJYRgdbUDw6GcQoNYoQx53V3Xctduha1fx2WswhndUaevZHl3+AiSnqbxQsAubN1xChwGD0aW+Pgu1myFkUHe47dyKrWfF9JW92Kat8yK6md7SqO0N/+alz5P0LWuREBiMgaZ9CU169UK3g3tw4KKaUV7pOxCTXK90Hqv/AAYOaIb06FgcULNKcTb/9xJhbanCWrsl2rcH8gtKmuhwb90dXXxLzk3PO/zgb0hDuq3+QwJ64R/+iVgXb0pzAxJ+SoT/ow/CX83RpK/ClM/PI+SNFxAgw1ih88hGWZC+Ecv2NcOQpx+Ap2lbvn3Q//40xB00y4vOlMvOKneec/Z4/TBwYPfit2I82wSKfC+bwdGnnZG+PRbJ8jx+oqRM8ew4GEPaZ2Pl9w6uXZacLOcL7/87XjY7B8pTHufHL8LMH/0wKqwXfNS8cnNR/i/LfnlUnrju9tywkvKmktJTxXF17IwupoLasxUCmmdj56Fy9GHg5HmTeaak2S7PhqY0dnw9qTAXlVF9nh6Alqb4bhmI+8R5ZDC9IawduyxjxTqmOBTXAH/tLTdrKnhNtseZMsE3BKMH1kPM0hgkfLcc65oNRmhXG7+Bijn5m4mIiIiIiIhcqsoqJoInLMZa2QGoaTBrYqHCmgdjZuRsRKlh5RfvIbTRbkyZ8DmSZZvCFy8gU/whvekTdVNfDVPWn7e4kVIPnh5qtLwatEfotNmInmBq7qIcHIXfpM0DCHthAMIGtodPLtDz7dmYM7Cd9SaPLDUKwpsjm+HAv8PR/1+zsGxn6T4eyjizF2s/nYbQ0DAMHDUH0SeBrByzG5OOeHjCS3xk5prf3LGIX4fpko1NH5kvW+74Jk19z5JmcEwupmHbylkY/UoY+oe9gwU/iXmnL1SiE8psnDsNGMwriuTw3lbkXMzHH2KNzJMZQPu7cFd584JJ7QD845VOSPp0KeIq39mExr/XaCxYOhvD21fm5oo3fMybYtHSsDG6BJrdSJUaNYY/0nBC5Bucy8BRgzfat7JYx8I5mb8Or8UY8zh962vElfNmcik52chCADq0VtOKjwgf7FUSVDb/awzIOrgOkVPDMfD5MC1/pOM8cmxmvGbo9qgfDuzcrefNgl2I29kYfTqbVbRdScHKjzcBA0cj1HRMTpdvir2yQIuvDCybZL4tcc7skU002LvpXJWs5blyHG8laHmyS4BeAVTMG018gcKjaSKuysHZct7TShnmTH7M34EFcxPRbeTo4uaBKswl+d8+y/KoPHHtZbWTporxb9US7vuSS9Ig/yiSjwOtfE0Vb05weN60w5CJvWD4Zhr6h05E5Ia9et8YGsfXk6pT3jLKChtlrF2uviY7WSb4/30YBl5chymfAy8PdVB5V97fTEREREREROQyVVYxUS1qe6NLcC+0PHsUR8+peWiM/m9MQuQMs+Hj2Vj5nGXfDOXQ9nEMf2mYPjwbhC4WT4BXmNXwC76B6NL5AXR56AUMfdIN2xZ/XfqGlgNNeoxB1Bez8eHTzZCyYhqGjF2FFCvfzz84H0P+uQonuryIBf9ZgJXzxmBIc7XQ5eylizc69BmgV8Zow4Ol25t2RuY6jBkegbgGIZgybwGi/zMbY3qoZZXkHzysdLjfew/Lol50WbvR8mnhsL8kYtl3KfDyqUje8kbPp1X+lB2z9wpAE9fdzzNjKNWfcaXc/0zpOJ3xrojTsehzi1peIeULn2vy/yUcWByOsC9PodvQd7HyiwWImhKMu9RSW5p07Y4OB3dg5xmgcN9ebPPvhC5N1UIh+b9zsMwjCFP+3lLNMSlf+Wa/LAhAqPl2xLBw3mxMfVS1O39dqILy3JbCwoo/yW2PrXLegnP58Ty2RX6Onx8ehjCHT4HbV3XlvxPlUVXFtR2eDw7GEN8dGDdhDhYumY8pb32OA71ewxCrfWHZY/+88QwYjDlLFmDB6AeB7YsQOnIO4szelqnq60lZFSujrCtHGVtl12QnyoRTexCXXw8+budx4rTjADv7m4mIiIiIiIhc68aumJBy5RN0bvqR3OKHVm7ZSMl0g2d979KDR5Xcqa088/BbERAyGH0Kd2DxppKmIZxS2xstHxqMKR+8gC7HN2FzmVcQzuPndXvh3n8YhnduVtKcR3mdPIoDsomXVnZuZjpMFzc0afuAXhmjDS3L3TxJ8vcbkXz/MxjTNwA+LktqP63piZSUM4BluOvrNwV9/RoDB4/hWKVuYnij53N9gOhV2JZXuZuNVUZLw/M4eLT009SFqUdxDC0RIOIJtzRGM5GvLNex5NtU5JXDacisVzZOK5wP/e5EAFKQdFxNK+nH00TatUIr8yfxNS7K/xd3I2aTGwa+PgxdmpYj7Rr2QlCPDKyLF2E+lIiAR7uXNON05HPMWOON0NdDSr+VVdHyzVpZoMVXGtJPW2xHDtdLUVmN5bmWJ8ucx2k4lgR4BrYsf0WpJQflvLP5MWf7fEQe7YQ3n3/AuTfobHJR/q+AKotrQ+kb0BaTwLm92GnohZkjH0eX9p3xj4kLtA6SLePRcFWNKKW24+x5U1tc09oHYdT0MRjolojon+QbhY6vJ1WiomWUJRtlrC1Vck12pky4koGYhZvQ5IV3EfmqHzbNXYoDzryJ5/A3ExEREREREbnajVUxYchH3sXzyFdD+sFVmDlnB9z7BKOXbNO+dieEPNcMCfMjEJNuuptgQM6RZLPmFGypB7f6wIEjKfpkVTwt5yj81ng+gCEvtMSxL5dim2VfFNYciUHkhuSSpghys3EOjdGkTJMf9eBeD8g5cUpf94oB6VuXI8bRTYfMg4g7om48X0zGyk83ISvgcQTba96hwunifJp41nUD0tKQrq0jtn1wOT7bri2qlA7BIQjY9zkmr0tDYXGcJiMlUx9tcn93BFzcgcX/U3F+5TySV6/FJn2x8/wHYHTfDKyzVgFlkW+0ocDyrlsVU2mYtHgOYk6qfZ/ZgcglifDsG4xusl1ysc5f+9TDgVUir57R1ynM3IFla0ofU5MeIQg2bMWUJbuRY4pTQxqSU5xtnsdKvri1F4b0AWLmzEeC6qciP2UV5qzMRsDAPijb10YF878ltzrwgjiX09Q5IY5j05exOKZP2eGGbo92x7kflmNZvB96dlEVewWJWPjvHfAKGYCenhbpXd7zyF5ZoMWXASsjRHzlqm3JOBBxWr4Wxaqw3KxUeW6uHry8gGOHj+rHZuW7Wp5034EZIk+azuOU1UuxLLMZhjxus6cW6ypSzjuTH8+sw4xP09DluRAEXjXLG6aoKRcX5f8KqFxcW0/LW25rDCTs0c997VgisOBHfZlJftJBJLvVg6dvgFYBHmDW54KusbzvjZS4Xfp1RITrwJfzsUw2U2fi6LzJ3Yqoz3eX5M9L2cgRC3xVPxOOridVosJllAVx7P0fuiTK2DnF5bv8DbB2U6LVt18qf022ktZOlAlZWxZhWUEfhD7kDZ+HXsSQW3Yj4htTLYOV8srub6YMbJol3zaxfozWeHmKE+v4UaTIQJu2SURERERERFbdWBUTxzdhtFmH2qPnJsNrwBgsfKnkqccmfcdg5pMGfPVOGIIHDBVDGELnb0SKw5v6AQge1AxZK2dp3+u/ZK+a70JOhN8an4cGYKBvChb8d7fjm4YNb4fn9jkY+GwYhowIQ/+3NsFr6GiEmDUTo3NDt4EhCNzzuVhXxNOzoxCR1h1D+og/qu0JvB15n72jx21oBFbKJ1DfDnL4lGvF0sX5NPF/YjCCC7ZitDwWse0xWxpiyEDLZnAqwDcIUyf2AqKnob+2bTGMWoR1qapPjVuDMP5fnZATHaHi8R0sKOqFIR31xeUREPIMuqnxUizyjTY46ky+ChSn4VsqDUesQPqDwxD5fDvVVr4bOjw7GqFNkxEh8p5c5x/v7kaXAd1L52/PThg+eTA6HFqKIaY4fXEWFh/MUDd//NDhgcbApvmI3KfNsGAtX9RDh5fGYkxACmaG6tscOGk3bnluLKb2UTf9S6lg/rfkIb4ztBni5oTrxxG6COk9/44gWVFj0qYzerplYOGHMaX7KpCdYCMNyS264yH1RkfO9hisPQukx8zBECvpXa7zyG5ZYBZfr6htifXGLNuDzHLd6K7acrPi5bk5b3R7sjt8fhJpLbcxaV3ZPiPM8qSeH8LxZmw9vDxtDILLvG3jQIXKecf58cDaGCQbDIhbMLEkX4hh8vfW36YLbC/OyyMxmLnO2nIX5f+KqFRcW09L/0cGINhjL6bIc18ey+nHMWVo6fLfs/PjCD63DmFyn1peEsPgMIS9vwrJ2oVVxMnTIeiQrtZ5fhrWNR2GyX3N48TBeVPbD03OrdK+P3DEKPQPXYqkHq8h7H5VCeLoelIVnCmjnFIP3UZOwqg2aYhU5Xvw8DnYliOrBspy5ppsP49aT2u7ZcLZTVjweTaChg/QO8cW6REyvA+81sxHVLIMpZXyym45mY1jv5xH+r6ksmWGDZ73ByOkYSJmviTC9uxErLXVvxERERERERGhllFQ4zXLlUvIvyT+EJVPSJan2Q+D+F6B/FolmpW5HhToT9K61fO2fxxXDCKeLjleTziweCjG57+A6NHd4S63f0XEbXnbfalIujidJgYUXrwEg4d3FTRHo7YN2YSElZt3Kh5RJfu+zpjS0N6xavnPRlyZKcw/D8NVNytpq8c37OVLW/lCmy9Syok8XZ78b5cKi83jlcsLRXyUirAMrB0/EfGPzsaMXuXsW6Q855GjskDFV6Xyrq20cJWKlufm1DYcpbUpT1Zp8zq2uCo/KtqxuNtJVxfvr7wqHNdW09J++Z+1YRrGnQxG5EsBgMxL0oW9WDBpOZL6jUXUU+qmubNxYu+8cXhOObieVAV1jrpkf+r4HOcbx9dkx3nUWloLlSkTrJVXtspJsW7hTeUt19RxV6a8IrqO5eVfhpdnXTVFRERERFRxNbdiglxOq5hIDUHUDMdvSBCRfbLz4eHvGxAWNRrdPNRMIqoCaYgJn4b05xZjVKm32fTKwW0Pv4uIvtberCIiIkusmCAiIiIiV7mxmnIiIrrBFR6KQeSnszDq/UQ0e3kAKyWIqpwf7vpLPWxbHIGYg2l63xwn9yLmowh8ZuiOoT1YKUFERERERERU3fjGBDkt5/hupOQ3Q/u2fqpPASIqr/z0rVibYEBAlwfQwb+cTTgRUcVcOY/0XRsR82MiDpy8BK+mLdHt4WAEP9gMnuVqpoeI6M+Nb0wQERERkauwYoKIiIiIiIgcYsUEEREREbkKm3IiIiIiIiIiIiIiIqJqw4oJIiIiIiIiIiIiIiKqNqyYICIiIiIiIiIiIiKiasOKCSIiIiIiIiIiIiIiqjasmCAiIiIiIiIiIiIiomrDigkiIiIiIiIiIiIiIqo2rJggIiIiIiIiIiIiIqJqw4oJIiIiIiIiIiIiIiKqNqyYICIiIiIiIiIiIiKiasOKCSIiIiIiIiIiIiIiqjasmCAiIiIiIiIiIiIiomrDigkiIiIiIiIiIiIiIqo2rJi4Fq5cQv7FS2qCiIhqtCsGrcwvvKKmich5PH+IiIiIiIhqJNdXTOQnYu2S5YjLVNPlcGDxUASPX4csNV1hlmE4sw5jBgzFwoNq2kkuC4+Z/IOLEPr8KAwMHYXQ1SlqritlYO14Ee7Fe9X0jSMrfjkWbkhEvpp2SuYOLFuyDsnl+pKLHJyP4AETsfaMmq6hKpQuVlTF+eSMa7Vf0mVtmCjOk/k4oKYdc1CGVdk5X0VlZ+Y6jH8pTCvz+8/dgcJrWWZVtQpea6uKq8oul7oO0/+6LiNvoPOn3PntOjtfiK53RUe+VGNEREREVFO4vmLi+C58tmErtqWcVzOuAWfCkJuChEMZKFST1SMZX83ZDff+Y7F21WJE/b2lml9RBmQd2o2UXDV5DeQc340DmQY1VRnZ+Fmk2do1B1GeOq2cg1uxcsNG/FyBirDycN1x2qffxB1aahgYPgvL9mWrNXTajSSL9bTB7KaqtXXMt2VtX+bDmA0ZYq2KpQtRVXHJOV+QgQN7UpCjJqvOeWxbEoOkzi9gpSjz147sjvxqKrPo+iy7quuaVTPcSOcPr5VEVcmY9zuKjv6ZKyYysf6NR/BInzFYb6OQSd08A0MHiOXH1Yxyyk2IwsgB3XCX3z14ZEAUktR8IiIioqrk+oqJtsPw1ZJIjHvIW824BpwJQ+pGTFmxtxpuTJm7BMNFoENrVSFRW/+ouGzEfb4Im9PU5DWQsmFRmZvmFdMYwZMjsTJyMMpTXePTZyyil8zGkMrW8TjguuN0QusQRMmbMP9dgJVR72Hqo27YNGsaoo6o5SY9XhDLZ5cenmunFiql1pmEcX8t2VaTR8eWLJvVR8R7YwyZZVp3ttivn9hAxdKFqKq45JzP3YXP3t+Iqi86LyEvD7irTSt4yklR5ldXmUXXZ9nF9C+PG+n84bWSqCoZ9s1UY+W37xN5Q/8RzEtQM4qZbvZbW1Z5Bbm5yBVlmKvknohF7OZU5BapGaVkIn7RBER9PRsjv96n5pVD9npM+NtQzPs6E77txO//5n6QfwX8GeRuGKPlgUf6jET0CTXTTOa3puUlw9C3ZiNqQ5JFWuzDPG35PDHmnMJCA3YlJOJ/67YiRg1yXM6Ty4iIiP4MXF8xccUAw1VDmbaAC3NTcGDPbiSfdNC3wh2N0QTi+yeTkbAnGekFFhdla/0zqHnF+7QRhmJi/ZTjaeJXbj7yLp6339+DnfAU5ovvWoZPKrA+vzBf7E98ltqnU8cjpvPV9mQ8HkpDvlhWmH9UHIdpe2Iw22VLP/lzUoX7UApyrART0tMlESm5FivY2GcpBclISRV7kccr9286ZnvfLchGyqHdSDiSVjZ9DOI75j/CzLdj0L9XJv9YprVqi1ofv4T0I7tx4Hi29byglsuwaOE3Txdzto5T4wffW8SHrfCZqOU2w2JNbTd41m+MgL6D0b/5JSQdlW8wmPHwFMu9Sw8ebmqhUmqdZujw5GAMbH0Jm3YnA271SpY18ISb+OfZwLSuGEybspsuGUi2zD8FaWXnmTg6v5XCfLkNK/Flra1xbd555+NVsbkPQZ7b+jwH55DYd87xRG15llke0r5bnrDaOy8ke/sxcTaPyXysjqUw0/LYzI7XxjaKy4wzNvK6WfpmWU9eXUXOCUnERYXPeUmun5KGFBHOHCvx6FzZWXKMtvKwRsW1XnaU5IvKlFlZMh/YujY6Ki9N1H6s5jd7y6zRznexL3tvlJlt0xREc+bnm5bPzfct4kefl1H+OKnINcURmZaW+5HzLA9MxUuZtCyT/uUIkymuT8r8pAY7+c9eGecMp8pIcTxZIm2Tz5iFw2E4r9H5Y6+cVfuS9DLOTtjM8nOp7VjmN0mGTztWG9dEInJIf1tiuZoqv4JceUM/1uoNff1mv/VllZK7HmN8fODzUbyaUdV80X/aasz9YDGWv9RRzXNebvx6zJNvYkxcjrhNW7Dlg35oqC+q4XIR9+1sLQ/Ebp6H5TusvI6Sl6qWlwxRH47B0H73ILDPDMQXVz4VIFdbnivGHDubcx4x67eivlc9/D2oF0LUIMfd3d20Sgq5DhERUU1XyyiocdeQbeaOiEGrCYsxvL2ccQkHlkzE1K0G+DR0A8QfszkNe2Hme4MRYHEPVTY9Mz63Owae3YWYs/XgI76blQt0GDoJM/qo5zZku/7TgRmrXkMHfY6al4Hh895F8K1i2jIMpaZlO+ITsbDU0+edSm9PcRSe9DXvIOyHTlgwewD81XeAFKwcNQvpzy7AmK5mB6jCkKwmi/fpzPHI6cWNMWNoNiLeTwQ8AhAW5oaZH5RuCz3gpXcR0Rfa8W1r/wIeOrICy9LqwVP8wZ1zpRmGfzxJ3550JQPbIiMQuU9Pl8Lc83Dv9RoiX+qkP5lobZ/zRqObh/ZtK8cj9HkNa4d2sv7d93ojffFSrPzlEnwa1dPyQZa7iIMIcdzaDlV8p4YgakYQmsgZcjtzPDFmaD6WLRDbqQ/knDHAs+9oRL3UDu6mdcqk/UE8NLYlEj7aijRxbPmZl0TkhGDBNLVdIT/5c4x7dxcK27dD4NUUbNsnfvg19IaPRye8GSnyplrP4XGKtBv1L2ClrfAJWdsjMO7TFBSK43YvuIQct06Y/MGw4uM2J5tXCv3xwZI4kK4kIuqVOUh/YTam9NDfAtLiCiocNlhfJxtrJ72Dz1qMRrQIYzHtOHehpykezdhKl1EvnMGyxWlw9zBo50W30e8i9MpSjCme54bgCe+Jc06kt2k7Ds7vwpNbsXDuKmw66YYmKl/mNxdpN1nsW75hZC2cKo1KypzSLMPvcB9aXwMTkdBNpNG+pbbPocytmDl1OQ7c2g69GmVj084MkQdEHvL0w8DJY9DnqhNhvZiIlXPtnxcO99OofHlMxsdMtwEIO7MWkYfd9GMTOX7MR4OBJbNK5nlahMNUZiToYdXirakoyyeI88VsnbWzpmltpvv4iuPJNSCwvTfifvIrVcbZD68qo1vYyN8VPOdNtPywSU1o/NS29P06LDvzE7Fs+nzEnBZ5WIQ37+wltHrB7BpVbC8WDpiPtWqqeD8ZFQn/eRxYPR+R0SnIE+WUlzh3cs64oY/Z+eVUeSnocZ8s0lfkITexndzGePkDEZamslxcjnEztyJT5C9tHxf9xDJx7L7qyxayNk1DmDjftbJTrF/YpiWa/JRc6lw0bTPdw7S/eujy6hiM62GKL9P59gL8f1iBTfky35yHQfud0B47351fMq+l+XnqOE5slV2O4sgebZsW5arlfrR4+TxDP6dl/r7SEqNmj0FPeZfHMv86FaZLSP5yGsZtMqD9Qy3Fd/YiQRyrPMfcu76IqGdLvynnuIwrzTL8zpaRyf3GImDjLHyWWQ/+j4/GnKf8HIfzWpw/TpSzMg5mur2A0Zf+h4gEUX6J/JV1sR6CJ8/G8LYlv+XsnT+l49GA9J2LEPHpXj3vi2tijgjXXdrvNHWsDq5dRNervPzL8PKsq6aqXuGOV7WKiZt8H4ZH3+/UXOfFv1sL3SYB0+ONGP+gmqnJxIoBfhj8tbVllXRiBZ7yH4zoaXEwTuyqZlaGKaz9sTx9NQbdoWa7SOZ/n4LfoGjAZeG9QeSux0ifIMT9ey6e+mAkJnRfjoxVg2D+s8cUN/1XZGD1s2pJQSpWvNINg5dlot9nx7DupRZiZjxm1OqGCZiOOON42ItF+TaErJR49K8PoJGP/rfdkWP6e7yt72qmfcpKie+37dYqK2RFBRERUY0lKyZc6vRaY/gzocYFB9R0tpx+w/hVmpo2FhrP5eSr8dL2Lwo1Bg2aavzqaK6aYzRmrp0g5s00bs1RMw7MMwY9M8+4X01qtHkTjN+eVtOWYbCcFjLXi+2OW2vMVNPWOAxPzkbjuFLHJqStNL78zMfGnZfVdCl7jAsswuHU8WjTocaQd6ONaUVqnsbK9oynjN+Oswh30VHjF6+HGgcsS9KnhaRlrxtDJpptL09sa/jrxsWmVWzu05y+r/D1p9S0YvW7p4z7f0wynjNNizB99Uaocfj//a5mqPg2TxO1nec+2W7MVN/L+/FDMU/E/wV9ukxcqbQOmbjSeNS0ztEvRZqIYzuspo1JxsUvi3CvLQl32jdvG0M+2WX8Q02XZv847Ybv8FLjcyItok8Uqhn54jhfNw5YelBNl6bly9fnGTcm7DL+rA0bjYvfGS7iUsSLWTpocfXul2odNfxyqlT4tXUW7VFTujwRFzJ+PtxtCo+ixZtZPJqxly56ehYa93/2ujbv5c92GfO0efnGnR+L701cazwnJwWH55N0Ocm4M0Ech+lY87YbPxxkFl5r4bRyfpsrE35H+3DqHMo1bp0ppueL41Vz8uI+Noa8sdJYXBw4FVZH54UT+ylnHtPiQ5wPH8ad0WcUHTQuEOdD0KA3jAv2quNVcRK+Ua1jSuPh84w/m/J20e/G6IniXPt4e3HYZLkSNFyUf9lqRlGu8ef5Mm+YlXEOw6vi3yLvFqvQOW9B24ZFuVuOdH9ukSmfCxli/+I7G015uBQrZUcFw595YLsxKafkvJVlVpB5PnC2PDJPe+Fc2u96+uXEGicPer0kDwiZ66eKsmdj8TlcipVt5SXMMw4wz9/y2GQ+WltSzuftnSe+97bZddM83tVvA/G7YZzYTtCQqcZvTflEXFuHy23/ok9KjuLEXtllM44c0LZpkTdL70ecT7I8iSsJV15OSZyWSX8n022A+E50hppW5USZctzEYRlXWkXLyBDzMkNyGM5rdf44+ftD5ucfTfk537j1QzFvZmxx+Wb3/BEs4/GPw9uNP2eY5QNZdg8y+31Y5npAdGO4mHdJjVW9qxePG/M/89SGy//rarySsaN4kMucETcN8iE84/R4NaNYhnH5M9aX5eyYaxzRt4W2DL6Bxn5vLjf+elEtVI5Fhxv7/cW3eJ1B01YbfxVl2d7I3sbeD6rvtupq7P2YmH5srnGv+p7x4q/G5W/2Mwb66vtu0TfcuDzJ4g/HnL3Guc8GGn1N245cbZwbItfvb1yertaxoO1X7Gvuz2qGOL51/xLzXlpuPJaj77OF3B5aGPt9EGc07VH7nuk4VHhLtpFjjPsg1Ni1lR5W378MMkbsMCuwM9YZw8X6I0TBf3nfXOMgbTv9jIuP6IsvJy03hv9NHYfcr2U8/jxX2990sc2M2Aj1fbmfUOPqVLWOiSHDuMUsLGjVzxi+4tfi43AqXi3krBmhrRu+Kce45U35PbHfkiJek7Giv7ZO/xWmi5sSP10Px8Q4NSPOOF1OY7oYsy/+54PGX5KOqindzt37tcHcngNJ2rpEREQ1meubcrLKgKzTplcR3eDTUH+a0armndGzZUnfEE0e6YOehhQkJF2jV+DthadhLwT1OI/o2ES1FEj/aTdyejyILqY3C1zGGwNfCIG/lacdreoVjIGmcNduifbtgfwC1dxBwQ6sXQMEDTLbnmcnBMm+DBLM3w0o5z5LsfyuHzo8FACf4ulm8Be/jtNTf3fQAbkfBg7sXvyUp2ebQATgEvIcvCPb5+kBaFlfTbQMxH3iO4bLajo3DccuNsZD95Y8oenfuhkK4w9WoKM3e+EzIG79DhT2CUFIU9OTLvXQ4fGH4bV9b+m3MMydTcTKz1dhgTZsxKY0ke/ccpFu2cn54d1qHTVsSka+WlRs+1KEjgrXh1fCMHDsjzA8NRph91f2yRv9uPX0dEOHzvIdk04Y9dID8NTmiePs2BJI/r10O/6Ozm+PAHTr7Ad3Uz7xuBP+TYGk9FJbqRxn92HvHBJHlSIyy333d9LfMBI8W7XCXenJOHBWzXCKo/PC0X4qmMdaP44hXRvr47Xboat8rKvXYAzvqI7Xsz26/EUkX5qKk4Jd2LzhEjoMGIwupvOqdjOEDOoOt51bsVWG5cpebNPWeRHdGumroLY3/JuXpHeFw+sEu+d8edhL9/SNWLavGYY8bcrngm8f9L8/DXEHK/e6vaPwN2nfHQENS87bJv6i/ErPQHqpstBxeZTTPhihprQXfPybaXkrfctaJASKYzflAaFJr17odnAPDlxUM8wc+KHstjybiXNJjUvp22OR7NEdQ5/Qn/6TPDsOxpD22Vj5fcl1U6PFu/pt0KgTurYGAp4dhmBTPvEXeVLEz9G0kibtnIsTSxW7ppRX5pmScHo2ND8HrLEfppy035Hv3wldTI9winwZEAjEHbJxxlS2HHXy+4X3/x0vm+UXh+G8ZuePk78/ZLn4kCk/10NgW5Gf8kQ6aNP2zx9r3Ft3F3FRkj897/CDvyEN6WfUDCJyyLxviavnDqJgwxPFQ1XJ/HowAruPxLx9Hhj0ZgTCuxdg/YeDcc9jZs327J+Np/rPxnqvIIz/IAIRQwIRP2k54ix/q1sq2IcZj92DwR8moUXIeER8EI6OR2ZjcK8xWG/qyk6u07cTRv5X/ADsFYrxw3ojN/IpjIxRy22w1mSV1lTVkrkY3PcehG8oQIvHuqIFUrH+rf6YvtXRhS8T0c8Hottb65B7X7gI63gE3RqLMd37YfZ+tUpRLlLFPud9Ox1j+o5EvNc96N2rNzq1EuFJmIHegYMxO6kFnpoo4ujNjkgS8dj7rfUojibxfRnm1W/2Q8fe85DqJ77/F19k/hKFp16LEiE1ScWKlzvikbfEPI9BCBfxNshjL+KOqmaTnInXMnIRt2Ge+ByB3vc1RKfuI8R4FNbvcJSIuoKLqqfKkmLeaRlZ2WgbULpHom73d9AGc53aB2jrEhER1WRVXzHRKAhvjmyGA/8OR/9/zcKynVb6KrDHwxNe4iMz9zq5KJcKjxu69egEg7yhph1TCuJ+OC9+VHRyqkmI8qkHT1dVdly8IH5qXsKmT9QNazVMWX/e7MarVJl9WvnuxTRsWzkLo18JQ/+wd7DgJzHv9IVq7oBcaNgSAY2ykXC45EZI+pE0oPntpV7drbxsnDst/qgyrxyQw3tbkXMxH3+otcpoHoyZkbMRpYaVX7yH0Ea7MWXC5yqfKT1eLF5HG/7VCz5qUbE2DyDshQEIG9gePuJ3ds+3Z2POwHY2b6S4kuObcYK18/vMXqz9dBpCQ8MwcNQcRJ8Eslzdxmql99EMLdsDP/9ScmMw/+hRHHNrDP/yNspr97xwtJ8K5jGHvOFjarpI0sqMxugSaJGmjUQ4kIYTIv5wLgNHDd5o38peuldVeKtJTjaykIFlk8zCPkqk2R7ZtIV52VkFrpxH+s7lmDJ2FPo/Pwphi2WeEPFppdLAOj3uW3ZsV7acEM7J/H94LcaYp8tbXyPO6k37DKSnAk0CW1rdlom2zS4BCCi+ISx5o4koaAuPpom4LA/9e6VUOk6qQjsMmdgLhm+moX/oRERu2Ius8vzmscKnuYjn9EQkme6VXElBchJwl2/JDfIyKlvGOfN9T89Sv3UchvNanj+V/v1h//yxzoCsg+sQOTUcA58P08q5dJxHTrX/6CG6MdnrW6JOq8Go5XWnmnLOhK61UKuW+aA341RKQSzmjlohfvP0w+Idv2L5B+GIWPUr4iZ2BHZNQPgSUagJmUlxWgfH42cuxvQ3wxH+wWocu7wcoc2Bjq9vwZaPQrX18PxsbJF9NmwaAdnzQ+p/J2DCLqD/F1uwbv50hL8ZgdXfzkXvzHmYHaPfhjet4ztkOeJixfanzcW6pF8x9zFtcQWkosXLvyI1UYYjTuy3t5iXiahd+rHI8C4f100bN4V3RBcRFVvnYsSyTHScGI29KyJEWKdj8ZoojEA8xqyILd2PwpLVyPngGI7Fi33EhotjTcXySRPEmv2xfPM6zJ2mx5Hcd+aC2Vh9VH1P2YfeWH7mmN6/Rbzch7AhFvtUlw+pS0ZqzSZpcZK4HBEi3pYnZoh06ar1heFMvJZRsBexC8TnS73RTWykYcduIrRA1LexJRUnNhScWI/pk2aLMV+MuDdQn1kJstmm9Zt/xJEUJx8gICIiqkGq5Y2JJj3GIOqL2fjw6WZIWTENQ8auQkol/1C/brTtjiDswLZDYjx9DzadbYdu7Svw6ES1a4z+b0xC5Ayz4ePZWPlc6baqXSZzHcYMj0BcgxBMmbcA0f+ZjTE91LJq1xL9X+mEo4unYcqni7BwzkSMjq6H4a+r9qhdzD94WOl4fu89LIt6sUyfJjbV9kaX4F5oefYojp5T85zlG4gunR9Al4dewNAn3bBt8delKzeuM/kH52PIP1fhRJcXseA/C7By3hgMEX/kuZJr9uGNns8FwX/dfIyeI/LQp7Mwam4K+rwt0rXUTVgHHJ4Xzu2n0nnMKYYy/bpWVPWEt6oEINQ87GJYOG82pj5a8gaWy8m+O6aGY1x8Q/zj7dmI/iISUSMrVlbnlap8tnD/M6WOK3LGuyJdxqKP7OC/ogoLHbwVV0EujBNX8wwYjDlLFmDB6AeB7YsQOnKO46do7WkZgtG9srFw/CxELlmEiAkRWOkZgjfL9Mugq2wZV+HvOxXOa3D+uPD3h93zp5RLOLA4HGFfnkK3oe9i5RcLEDUlGHeppUTkmPnbEpbcOo5TY85r8WBv9H6s9BBoWeG9Px4z5M3wZwYjqJU+C/BA1/6DtYqF+K37tKf4G4rf1/KrM155CrM3JCFX3qX3cPQ0Vyb2bV0vPgfhqa4+yM3N1QffFlp/BLH7xHaK1wEGD+kP2XOBpo4PfMr74EuxbgjqGyiOQhfYUVZMiNAU2X9jImlXlAhNIJ7qFYgCU1iLWqBjiFi4eV/pt8zvHYMxQ4pDKza+D7EbxOeQp9C1ofquGPyaa0eKfcU12Eq/IPQ21bV7dUK3Z+RIAQq0tz9MceKLka8NKomTYs7Ea1kFO9ZDVi30f6yb3tH3HV3Rr6/4XLIesVaeh4we5FdcqVXXPwgzdgFdxy7H9L9VOGGKyX4mfJs0xsWqrqQnIiK6DlVTU05CbW+0fGgwpnzwAroc34TNJQ8A23fyKA7IV+pblf6j1WB+c7U6b7Rahqd2O/T5f42xaftupP+SiJxe3Us6iC6Haj2eW/zQyi0bKZlu8KzvXXrwqJpKleTvNyL5/mcwpm8AfK55vY0BR/en4L5XR2PIw+3R5dEXEfWF7Q5eK85Pay4iJeWM1llx6bi205yZNbnyiXURcZU4YwNCBqNP4Q4s3lTSxMg1V+p8Oo+f1+2Fe/9hGN65WUkzImUYLM6XQjHHWc7uw7Gsg4las1hj+ok81CUEM5dGlnREXMx+WJ05L+zvx4V5zB6tzDiPg0dLPzFdmHoUx9ASAfKvxFsao5mIX8t1Squm8FYVvzsRgDSkn7YMuxiqslw7tgnLktshbGRQqaaLykeP+6ykFKtPifs2Fefg4TRk1rM8tnpWzhM/+N5he1sm2jYPHsOxUte0NBxLAjwDW1auItglcVJBhtIljsWkrrYbmrQPwqjpYzDQLRHRP1Xirc+CFCT80n3Eg+MAAKzeSURBVBKjxg3AX9u3x2Ovvodo2bGz1fKrsmVcJb7vKJzX6Pxxze8P++dPGRd3I2aTGwa+Pgxdmt4AZRvRdcbVb0tIoR/JNwbMh+WY0F0tVDLTf9VH2rUo/RZ1Yz/9hnhMqvg9Dnj0moDYFeHonRctfp/dA5+6d+GpT/Y5eNI+A0mb5ecKDG7tAx8f0xCEGXJ2XoH2FkKBqi/wqV/h19ZdIBOpSfJIkzCht3lY78FQ2aRUpkWlRms/UUqaOZGEWPm5bDDuKv6uGPppR4oc00E6xRRv3dDCaqffzsVraQWI2yyrJYB9kYPxSJ9HxDAUUUfknCjExpdNyY5DZBNREfoQuRxbknIQN7O3XqlBREREFVb1FRNHYhC5Ibmk+abcbJxDYzSxdRXPPIi4I+rG1sVkrPx0E7ICHkdwa32W3nRIMuL26+sUpm/CzMXij2htynlenuIPxeNHkSIb5bdXEeAoPIJ/j94IjN+IOT9moM/9ndRcJ1XqeOrBrT5w4EiKPmnvOMzV7oSQ55ohYX4EYtJNd1QMyDmSXM4mJ+rByws4dvio3reBne961nUD0tKQrq0j9nVwOT7bri26BlKQ8KMB7p7eaNn2AXRp29Ks7WlrnD9OSx2CQxCw73NMXpeGQtP3cpORol5NtsqQj7yL55GvhvSDqzBzzg649wlGL1Pb/VJBfvE6xUO+nVv0ng9gyAstcezLpdhWmad3K8Pu+VQP7uK0zDlxSi8vrhiQvnU5Yo7LZUr9xvB1y8bOn9Srzrl7ETVnE9L1KSc4sQ+nnEfSnjS41a0H/9YiD3UOQBPLG15OhNXxeeF4PxXKY+WlyoykxXMQc1LlsTM7ELkkEZ59g9FNtu0u1vlrn3o4sErkrzP6OoWZO7BsTemKsGoJryN1PeGJNCSbEsMUDkdu7YUhfQxYGTEfCbkqHmQeEmVwmf5dXMmjLrzEH94pprgXeWnZfy36aHBCh8f7wF+UJzNWm67JBmTtXCXSS77ZGIJgw1ZMWbIbOab4MIg4SrH+9F77hzrB8+BaRO1UN9wNGdi2cmOpfkK0bbrvwAyxTf18O4+U1UuxLLMZhjwu+6WpBBfFSRlnNmHKK6MwZYv1CtxbbmsMJOxBgmwuSis/IrDgR32ZJncroj7fXXItvZSNHJE5fJ1p2s6W9L3YWuAGrwYt0aHzA+hQqt8WS5Ut4yrxfUfhvEbnj6t+f9g7f8pwqyPyp7h+p6nrnTiXNn0Zi2P6FBE54ea+G4qHm24peSOuIm9LOMvX/x59JCOndCVDwWV9+jFfVWHhgcBnI7AlPQe/rp+L0AdTET2qEwYvsdFskMYPLbSKkH6Yuy8HOTkWw/z+pStDrilf+Km/dcPXWAlrkmyuyQ7fFtAah/rbXOy1/K4YokLKc6SmeEtFhtU6/grEa0Ec1n8oPn0D0cLUP5FQ119/E2behrgylUwt+o5EuGy2Sw6vD0LvgIpXSfg1aYy9B0t+McmmnGSThnKQ4yZyHbkuERFRTVb1FRMNb4fn9jkY+GwYhowIQ/+3NsFr6GiENFXLLTR5OAB5y95B/wFDERwagZWGXpj5tlkTO02DMbyvG7a9H45gsc4/5p9B0LgBaK8WW3VrOzzkD6ydLv4YVjcLPO8PRkjDRMx8Sezn2YlYa+0PS8FheCTZCXbXNCRndkfPtmqesypyPMUCEDyoGbJWztK+23/JXjXfsSZ9x2DmkwZ89U6Y9t3gAWEInb8RKeW6Ye2Nbk92h89Pn2Og3MakdTbbDPd/YjCCC7Zi9LP6vsZsaYghA0t3+lV9AtDn6cbYqeLcNPR/ZRoi463djHL+OMvwDcLUib2A6Gnorx27GEYtwrpUO0/PHt+E0aHhGKiG0XOT4TVgDBa+VNIBsma7CI/Zetowc5PdsPk8NAADfVOw4L+7q/ZGqg32zyc3dBsYgsA94rhkXD07ChFp3TGkTz1tqcZDVq40w7Evp+lpNj4W/iNfQ5DZHxWWAtu3g/uRGMxcJ9PWiX04xRv3BT2ALBWO4jwU+g6mxCTqcetEWB2fF07spyJ5rAKKy4y3VJkxYgXSHxyGyOdF/GpruKHDs6MR2jQZEaKsl+v8493d6DKge+l86zC8fujwgPgjbNN8RMoGnKtC6z4IbX8ey8L1/S+UTfE5pR46vDQWYwJSMPMVFQ/i2jZm2R5kqvusVcI/GKP6GhAzVt+nzEs+A/qgi1rsNP8BiJjcC4b/i9Dzv8hzYd+I80JeFz07YfjkwehwaCmGmNLlxVlYfDDDalNM7u1fxMznGiNuzjtq3QjEtRfXVfNz0Wyb+vkWjjdj6+HlaWMQbN6HSUW4Kk4sXchFev4lJMTutVqW+j8yAMEeezElVB6PKD9OP44pQ83O2dp+aHJuFcLE8Q4cMUqcq0uR1OM1hN1vWXNZDnf1wpCmifo+ZVxrg/hNNXU+4spU6JW/jHNZGekwnNfm/HHZ7w97548lDxFnQ5uJ80P9zghdhPSefy99rbLy25SIdPKNiNq+3YsHuOsVnRV9W8JpAR31/g0WRJdqzid1q5gWnx0f66S/OZGXq9+4rtMQgX1HYPFH0+UU1p+wKJQvXjZ7Wt8XgV3l7fz1WP9zDho2bFh6kJ2uyXU66rfRV+8w+xFUlIOccv2NVnmB92oxgeU79sLDMqwNHbzNcUcgut0rPr9dj73Zlt9tCI86+mrOEXFyn4y3fVgeHV/67QetqSdn4rU0UzNOHd9YXvotmtgojJTRv2B95ZpgdEB2ai37kzBVQpw7d157aFIOclySy+Q6cl0iIqIazVhdLuca8y7kGv8oUtOOyPXzCtWEFY6WWyrKF/vPVxMmhcY/RJjyLjuxHQf7278o1Dhg6UE1VQHlPR5zhfqxOR235rR4cTIObFHbcLx/Fd+V2JVL5O0xLnhtqvHbDBGePBEeGaYLZ4xJX00wBj3zsXHnZbWeJaeP0xp17GXy4J+UvfxeVOg4nlWed5aWzua7c2Yf9hSdMn478Q3jggMiDPJYtLTNNab98LFxwDNvGL9KU+tJDsNq57woz36qK4+Zygx757EWVkfhsBdefVmF08dJWr6oaIGkpauDeHC1ylwnSlFxb2Nberno5DXFyXLRtE2Xc1mcmDm81Djg4+3GP9RkWXbOWRMX5o+8A/OML09ca8xU5ZY2nE4yfjEu1BhkK5zlLONcUUaWK5zVfv44kWZOs3/+lOKo/NfOnyous4lc7GLeJTVWfS6vf9yY/5mn8erF42qO8+KmwSj/5J0er2YUyzAuf6bssmP/6afN8+0Vapwbvc64fFp/YwsxDd8RxnVn5BqXjXETOxp9/zLIGBG9xbgldp1x8etdte/0X5GhbcOYvtzYX34HXY0jPltnXBcdJ/YmnFlnHOEr5/sa+41dblwXu8W4bkWEMbTveOOWi9o3jcYji439tO+2MPZ/M8IY8cF4Y2gvX237QH/j8nS1noWyx2k6PovvxE/XtzUtTs0Qa67oX2ae0bjXGPGgvs2uL801rhZh3RK92Bj+TH/j4iNqFdNxPrNcPz4zOWtGGH3lMt9+xvEr1mnxtPyDUHHcW0QMKlbCYjXcZvHWe1iEcfn61ca5w3obWwxZ7Xy8Frts3DJWxqevlTwhlr0ptwPjiDU52hxT3BSnrU1xxunyWDBdjDmWfS7X+FX0RuPeA0lqTok9Yp5cJtchIiKq6aqvjwkPvR1hp9srluvba3TY0XJLteuJ/Vs+8ecGd9m2sTP9KtjbX+Y6LNvaGP94tBIdb5b3eMy56cdWofbytXhxMg5sUdtwvH8V35XYlSsUHtqBtZ7tcJ+vCI+nCI8MU/3GCAj0g7ubm+3wOX2c1qhjvxHa0a8O9vJ7bb3vE7vxrPK8s7R0Nt+dM/uwJ3MH1iW3RJe2IgzyWLS09YZ/YCv4Q4TN/EEyh2G1c16UZz/VlcdMZYa981gLq6Nw2AuvvqzC6eMkLV/YPRA7tHR1EA+uVpnrRCkq7m1sSy8XnbymOFkumrbpci6LEyU/BSuXHUSvRx+006SinXPWxGX5w4AD2/fC64FOaKLKLW24NQDtW8h49bQeznKWcZUvI8sZzmo/f5xIM6fZP39KcVT+a+dPFZfZRDVElb8tobQYthq/rgjHPUlRGNk/CIMnRQN9w7E6fi76aa3qeKBFr1AE3RqLMf0fwSO9gzD0k0z0m7YFUc+qRoPu6I8Jkf3gi3jMezkIQf3n6m+ONe6HuYlxiHimLtbPGoyg3o8gaFAE4hr6oLjtoFahWL5pPHr7piL6wzEY89YK5PSNxuppatvVpiPCN/+K5f/qjdQlI/GUCOsj/YciOq8F6hY4fp2g4d/mImlHBPp7rceMQUFaPA3+dxy0Qy1SKzlLxlv8aoT3rYvYRWMwuN9TGLkoFR3b+emdejsTryYFcYhdIhNjMLrKtzpK8UCn7vqbIvN27LXSN4XryA6vQ4J64Y9CA2LWbcX/1CDHC8U8uUyuQ0REVNPVkrUTapzK6+RWRG06iINbE5H3yGgseMHUpAld186sw5h/roWhzyCM6tcevh4GZB5ch8hP96DJ0LEY16NU921EZRUkYuG/5uDnNn0wasDjaNUAOJe6Ecs+3Yqsrq9h5nPtSjdfVFHVtR8i0qRvmINtzV7EkLbXz82ArE3TEPalAUGvvojg9o3hVZCNn9cvReQub4yaPAY9q/telQ03SjiJqHLy8i/Dy7OumqoeBRuewM3dP62WiokSBcjNlbemPWCr6aKC3Fz95rVHQ1hdpSAX+iasLJfNQckb9La+a9q/zeXVyHQcdaw3jeSIKZ5kk1CVPhQVbx5eNpqEchivREREdD1hxUQlFJ7Zi00/ZsDrLw+gZ2t2THVDEWm39vsdiI9PQya8Edi1Mx57tA863Fptj2/Sje5iGrZ9vxbbfkpBen49+Ldth579HkdPfxff0Kyu/RDRdcqArIObsGnrHmxLOQ80aoae93dHnz7y7QS1ynXhRgknEVXGtaiYKDryJeq0fk5NEREREVFNwYoJIiIiIiIicuhaVEwQERERUc1UfX1MEBERERERERERERHRnx4rJoiIiIiIiIiIiIiIqNqwYoKIiIiIiIiIiIiIiKoNKyaIiIiIiIiIiIiIiKjasGKCiIiIiIiIiIiIiIiqDSsmiIiIiIiIiIiIiIio2rBigoiIiIiIiIiIiIiIqg0rJoiIiIiIiIiIiIiIqNqwYoKIiIiIiIiIiIiIiKoNKyaIiIiIiIiIiIiIiKjasGKCiIiIiIiIiIiIiIiqDSsm6Nq7YkD+xUsovKKmqXpcuaTFe5Woym0TVQeWS0REREREREREVYYVE9fKmXUYM2AoFh5U086oyHdc6MDioQgevw5ZatolMtdh/EthGBg6Cv3n7kBh5g4sW7IOyflq+Q0sK345Fm5IRFUeSkX3kX9wEUKfH6XFe+jqFDXXNcps+7pN00tI3rAIy+Iz1LQTDs5H8ICJWHtGTV8vatB5o6nOss5a3F2TcqkC+ZGIiIiIiIiI6AbFionrVUEGDuxJQY6arJnOY9uSGCR1fgErVy3G2pHdkX9wK1Zu2IifM9UqValK4zgbP2/YirVrDqLqDsXaPgzIOrQbKblq0qpkfDVnN9z7j8VaEe9Rf2+p5rtC2W3nVGealksKtn25GzE7k6u08sjVco7vxoFMg5rSXXdxnJuChEMZKFST17OycVcd5ZK18/TGzI9ERERERER0bRUainDp8h/Iy7/MoQYOMm1lGtdEtYyCGqfqJJ8IHhGDVhMWY3h7Nc9cZgxGj8rAy6teQwc1y+F3qph8Y2J8agiiZgShiZpXORlYO34itj38LiL6+ql5BhTmA+6ebmq6ClmLY1eSzRldrYcqPZQy+8hAzFsTkfWcvTyyFwsHzAeqJB9Z23Y1pml5GS6h8KZ6cK+tph2Rb0xMz8Dwee8i+FY1r5olLBiKr5qbnzPSdRbH+0Q8fXNnxcuKai3rLOOuOsolG+dpefMjERFRNZN/HHt51lVTREREdC1dvWpEwR+FuOmmWnCrUwe1a/P585roypWrMBQVaentcbO7lt41RdXl2CsG5BxPRMKhFOSUfrhXMKDwZDIS9iQjPb/MQqDgPPTZ+jYOpJ/XZhfmn9fb+7a3bfndAouZcp7lfq5cQvqR3TbCZ6EgGymHxLpH0sq2N14cVhG+3BQckMdkuX+TgjQk79mNZIunncuQbZunpCFFHv9Fsf1S7Zw3RpPbxIcK/4Hj2TbaQDeLY2vxoc0qHb86O9+T7hD7t7WOwUa/Arb6G1DhMMhP0zGKYzdcFds3HZNq510fr8QxW7IVx2p/pbavzVN5TynOi6Z9WstHBjGj0GxmOfKKvjwRKWdk2NRgbVWLfRTmH0XKcfFHo53vFObnI0986uuUTpeS/dpOL3nMZfONzuq2y6SpyA+mgBn0cyv5pJX9Sa4+9yz2UyjiziDj0JxMby0fiXjItbE9e9S+bOXT4ji23LYz8VKQjJRUsVg7Z8RgOl67cZwhwmOxPy2Mdo5P7b/MMajzQx+3cT6K+SnH08Q2RF6wkscs2YwPa8S2s2TZbyutVZisno+2llnGncpXdsslEzHf5rVIxpWNfGTrPLWaHwXnzkvTek6Uf0RERERERHTDk5USbnVqazerWSlRc8m0lWks01qmeU1SJW9M5Ccvx7iZW5Hu5g0fTwNyMoGeY9/DqI71xMJELJs+HytPuqFJQzfknT0Pry6DMXNULzRRT4nKJ/MjfUZjVM4iTI0H3Do+g2UjW2HT+ImIb9MHnj9txQHUg1fBeWQVeCP47XcxvL3YtvrueLyGtUM7adNSmSf9Zfvhb8XgaH1veNUW4TtrQJdX38W4Ho219YtdTMTKuUux8pdL8Gkkwy72594JMyJeQwdPfRW57ZluL2D0pf8hIgHwgVjnYj0ET56N4W1Lnq7N2jQNYYvTgIYiTnAJhW1aoslPyVafCNbCu0lNaPz0J7QhnyLehQ6j2yH5061IE/GXn3kJCAjBgmlmTyarOI45XU/EP0QcX0KrFyZhRh/96V/r8dsd7k58b3xudww8uwsxZ8U64jiycoEOQ9U6J1ch7F970eej9xDSVPuKJn11OMJO/B3Ro8U+1DzTk/Vr1VTxMWZYPJGuPTl9EA+NbYmEjyp+zJYcxXFP8yfiyzy9rT9RndBtGDrsW4plafXgKfJizpVmGP7xpOLvafswy3dy2mFeuZKBbR/NQmSSN7o93BjpWxORckWcKyL/tQwZi3G9SufRUvvQnubfq5boAl6yeLJeHUuymgREfpZvjMj9RkYgMkHP64W555HftBdmThiMALO8bjXf6Ittb9vyLQM5PccTY4bmY9mCRKA+kHPGAM++oxH1Ujt9e64690zHFX8Jnr71RB4X6XRbEObMCoG/SseFLUzlhQHpOxch4tO9SPcQ56mHLLsu4S7zOHTwxoR2nn+eoYe54JLIEy0xavYY9GwoFprCss8AH5GPZRy793oNkS91gnZIjuKlTPwKfVTYbcTxqBfOYJkod9zFschztdvodxF6ZSnGFM9zQ/CE94rLTylrewTGfZqCQnEM7vIY3Dph8gcir8tAOjwfVZwe0belU/lATRUzXQtEsSjzt4wPPPQaFr4q4qPMOXceB1bPR2R0CvJEGeolyp6cM27oYx52e+W6vWWl4s7JckmwfZ1zs5+PtP1ZO09hkR8FJ89LZ65BRERErsA3JoiIiK4Psmmfq1evajes6c9Df0PmJri71VFzbnCyYsKlcmKNkweFGsO/OWrMU7OMJ343ZhbJkVPGbyeGGkMmRhvTtGnhwi7jguGhxuFifZP9i0KNQYOGG8et/V3NkcR3x4n5wz80bjxRqOblG3+e/7qYt9SYpLanfXfRHn1C0eaNW2vMNE1/JqY/3m78Q00bL+Qa80zhKeWUcf+PScZzpmVFR41fvSHC+n8l4dK2/czrxg9/PKPm5Bu3fijmzYwtOf7DS43PyXXiTOsYjXkJ84wDngk1LjigZlg6ME9sd55xv5rUnF5rDBffCZm40nj0gpp39Evjy2Lbiw+raWOucevMUONzi3aVHFOG+N6gqcaNOfqk9fh19ntTjV8dzdVnCJlrJ4h5M41btXVyjRvfDTW+bJaWIoDGr14PFcduSjNzepqGrz+lpgXtuCcYvz2tpl10zFbZjGOz/UsqDCVppfKieVyIvPGFOM4By5L0aaFMvnMir+T9MNMY9PI848/FM7YbPxz0tjH6hJq2YLkPo3GPcYG9fKWxXKdQnBPyPBL7NcVx0e/GaHmuivPEFBTr+caSlf1bpqk2LdLrk+2qXBCH+eOHYp7IR6b9u+jcS1omj+tj485sNaPojDHtRL6aUOloVl78cXi78eeMkryaF/exMWSQ+P5lNcPyWEo5aFwgyj7zvJ6XU3KuyLCUKvvyRFwNF/nYlGWcjJcy54xkJ471OFRpLOa9/JnpPMk37vxYHP/EtcZzclKSZZXI19FmZez+Ra8bByw9qE86dT6KcmG9KBdK5UtL+jmrbceUWCLPpWWo8TLnnNjmge3GpJySuE375m1j0BsrjWlq2l65brfML5OmVuLYch271zkn8pHV89QyP5bjvHRwHhAREbnKxbxLaoyIiIiupfxLBcaioitqiv4sZJrLtK8pXP6eT/qWtUjw6I6hf2+pPwUsNW2mvw2RvgMxyfUQNCgE/qY2tOs/gIEDmiE9OhYH1CxNo14YHtRMTZjp3Bt9mpqeAq2HLsEPo8nZgzhwSs1y1ulsZJma5ajvDU+rbXr7ocNDAfApXtYM/i3EYaT+XrpT19aPY8hDpifZ6yGwrR+Qd0lr0kY68MMO5LQPRmjXkqfdPZvdCX81Xl59nh6AlvXVRMtA3IdLMFxW0+kbsWxfMwx5+oGSY/Ltg/73pyHuoFnTO5bx6+z3mndGz5beagJo8kgf9DSkICFJNh3ijZ592iFn/Y9INsVt+h5sOtsO3TpW7sldlxyzq/UKxkBTXNRuifbtgfwC+83WOMor6alpQMfO6GI6eTxbIaB5NnYeylYzqkDBLmzecAkdBgxGF1Mc126GkEHd4bZzK7aeVfMkW+dluflh4MDuxW9JebYJRIBI07wCfdol517BDqxdI4/rRXRrpK0gjqsx/JuWvB1gyb11d3TxLcmrnnf4wd+QhvQzaoYTMs9kqDHx/YYqf2hhQemyz7MTgh51w6YE83cgHMVLeejb0uPQDR06B4jPThj1kuk8qYcOHVsCyb9D5DrBgLj1O1DYJwQhZmVsh8cfhtf2vaXe1LB7PjpDO2fltUBsx5TXRZ7z91XjVjRp3x0BDUvSpom/SOv0DKSbx429ct2pMt85dq9zgivyUbnOSwflChEREREREdUs8m0JNt/05yPTXKZ9TeHyHHwu5zzQJQAB1m765GQjCwHo0FpNKz6NGgOWN23qe5o1+2OHh6fWdEVOjpp2QocBozHw6iaEPR+GMZ+uw4EzdtrjvpiGbStnYfQrYegf9g4W/CTmnb4A53eXgfRUoElgSxHOaqDFcQaWTQpH6CjTIMK9R756bXbT3DJ+nf2eJRH/XuIjM1e/ce7euTv6FOzBTtWUS/pPu5HT9UF08dCnq4TDsCdiWfF8MXy0tRzpV738W7WE+77kkoqd/KNIPg608i2p1HK5ixeQicboElhS4aQR56U/0nDipJqWnD0vXaGy556t47LLgKyD6xA5NRwDRfkQ+t5WpDtdvrTDkIm9YPhmGvqHTkTkhr0lN8K1sFzCpk/M8qEYpqw/77gyqwoVV5xosnHutIiB7UtLhVHGQc7FfPyh1nIJG9cCu66cR/rO5ZgydhT6Pz8KYYtlVYkI80V9sb1yvVxlvhPsXuc0lclHSnnOSyIiIiIiIiKiG0zVVK0VFpZ+qrkUQ6n+gK8Jz3YYMmsBomcPQ0/swtQR4Yj4ycqT9ZnrMGZ4BOIahGDKPLH+f2ZjTA+17LoWgNAZkxBpNiycNxtTH/VTy22p6PfM1O6Enn2AdT/KNtRTEPfDeXS7v1M13My2F/Zm6PbCAISZhj4BJU85X2c8HxyMIb47MG7CHCxcMh9T3vocB3q9hiEW/ZC43nVwXppz2blXnuO6hAOLwxH25Sl0G/ouVn6xAFFTgnGXWuoMz4DBmLNkARaMfhDYvgihI+cgLlctRGP0f6N0Ho38eDZWPtdOLb8++AcPKx3G997DsqgXy/YRUWnlSJsrGVg7NRzj4hviH2/PRvQXkYgaaRFv9sp1Z8v88rB5nat8PipxnZ2XREREREREREQu4vKKCd+mfsDBYzhmelLYnN+dCEAKko6raSX9eBpQvxVaWelM1pHC1KM4hpYIaKFmSIbSd3IsJou5+3ZC8Kvv4sOn3LBt7Y9lnsRO/n4jku9/BmP6BsCnwi0R+cH3DiArKaV6ntLX4jgN6ae94SmbKzEf7B1DRb938qjWEXlgq5LKi4BHH0aTrTsQl56Mn892wmOdKxx5znEYdm+07PwAupiGtn4OKkoMMJjn3yuFYk41ObcXOw29MHPk4+jSvjP+MXEBlg1VnSNXlVv80MrtPA4eLX2j1uq5VU1ccu7ZOC6bLu5GzCY3DHx9GLrYae7JodpuaNI+CKOmj8FAt0RE/5StwpKNlEy3snnUo4rPD6f5ac1lpaSc0Zs6KjVUIj6ssXEtsOnYJixLboewkUGlmnOyxl657qjMd5bd65yr8tF1eF4SERFdS0VFRdpg6fwF9fokEREREd1QXF4x0aRHH/Qs2IEZC3YUN2OSn7IOaw8ZgFt7YUgfIGbOfCSo34/5KaswZ2U2Agb2gWwB3aFDu5CQqW4Tn9mByCWJ8OwbjG6qDe5bbmsMJOzRt3/FgPStEVjwo75Mdx7bPv8cCaamPK6cR845A9zF9yxv/nrWdQPS0pCuHYcBOQeX47Pt2qJyaf9QJ3geXIuonaqfAEMGtq3cWKrN9jLqeorwpCE5XU1buwFmjRbHBqyMEHGcazpGEQ9HUpCvT1nn7PcyDyLuiLpRdjEZKz/dhKyAxxFs3iRL08cREpiI6EW7cKzXg+hQibbcnVLRY7YWx/Ubw9ctGzt/0lvdR+5eRM3ZBNMqVS0/6SCS3erB0zdAq0QJMGun3jn14CbOhQPi2DXO5JvanRDyXDMkLZ6DmJO2z63q5JJzTxxXUP/GOCCOa2WKyrNXsrFtzVZk6VOludWBlygf0tPUuoY0bPoyFsf0KcdytyLq890lzTddykaOyIC+srkkFccJ8yMQk67iWB7XkeSS9Z1SD15ewLHDR/W8Xa7vOtYhOAQB+z7H5HVpKDRtOzcZKZlq3ElenvWA40eRIgNpLYzinO3/0CVxLZiDbaayWJQnazclWn8LwaOuSJsMpJjypzgvl/03UR/X2CvXnS/znWX3OudUPnLiPHXheVl46HOEjZiFTeXp44KIiOg68+GcxdogHT32u/a5Mno9xk/9NysnLBgu5+Jy2TocIiIiouuK65ty8uyOMR8MQGDS5wh9diiCBwzFkJm7kFNb3liphw4vjcWYgBTMDNWXDZy0G7c8NxZT+zjXXFDLNp7Y9G6Y9t3gEZ8jqc1gRDzfrvgJeP9HBiDYYy+myO0/OwoRpx/HlKEt1VLhiljntjNY8M8w9A8Nx5CXwjHzcGdMfumBMk/R+z8xGMEFWzFaO44wjNnSEEMGmm3LSe7tX8TM5xojbs47erhfjEBc+2CE2Lux1LoPQtufx7JwPZ4WHlLzHTKL41dUPD0rwr5sD0z1OdY5970mDwcgb9k76C+Xh0ZgpXy6/+0gNFHLdXon2MeSzyPo4U5qXlWq4DFbi2OPBzDkhWY49uU0bV7/8bHwH/kagqrp5rxn58cRfG4dwtS5ow2DwxD2/iok261lMQlA8KBmyFo5Sw//EtmklmNN+o7BzCcN+Oot07m1AukPDkOk2blVnVx17vn/fSxmiONaOTZcP65nJ2Jlqlhg7UawR3cMGdpMnKdq3dBFSO/599Jp36YzerplYOGHMWUrN2r7ocm5VVraDRwxSpQvS5HU4zWE3a9XLhXH8TsqjsVxhc7fiJTipp6c4Y1uT3aHz0+fY6DcxqR11itZKso3CFMn9gKip6G/KQ+OWoR1qeXrfN3zflG+NUzEzJfE90Wcry1zQ7weuo2chFFt0hA5QsXH8DnYliOra4Rb2+Ehf2Dt9PlIkGnlH4xRfQ2IGauvK89LnwF90EWuK9kr18tR5jvN3nXOmXzk5HnqqvMy/+TvSD+TgoOpdi8CRERE17XO9/5FG2SlxMfzlmLD5u0IaHMXuj90H7wblP2xbsjPxYWL1oa8Kn0b2nDuCA7t+xmHT5rvZx8Wh8/BxtNq0mUysX3Rp4g5XKCm87B/xft4691P8e78TThxOBqzF+0Qa7nQH0mImRuF7S4/FiIiqnZXC3C5mq+TzsvExvenYrH5M4lU49QyCmrc5Qrzz8NwVTZdYqU5C8Ml5BcY4FbPG+5OPVGfgbXjJyKm01hEPdVS33btejaaQTGg8OIlGDy8bTdDdMWA/EuXgJvENuy2VeTEtpx1RRzzpfIcs4pDOAqjDSqOUd6wO/O9gvPIv2InXAfno/8cT8z8zwt2OoitAhU4ZqtxrG0Hrm/CxoGsDdMw7mQwIl8KAERe0VzYiwWTliOpn573naLC71avntN5TaPyaLnzTJVw/bnn1HE5Snu5vFCUa7Y25CgPmsIi34ypaDNOFShLykfFPWyU305R23B0nCq+yhyLdowW6eCo3LFXrjtd5pePzeuco3wkqXUcnqeVPi9FWuQD7i48biIi+nPKy78ML8+6aurakZUS93X6Cy7mXcLRlN/xWO+H1BKTbGz/NArfaU9wFOHy+SKgvgfqao/ltcbgSf3RVo6WR3YsIlcDg1/tjUZqVilFqdgStQprf6+DO9o0hOHYCWTdch/CR/bDHXVkxcR2+L89Go/fptZ3iUxsmbscmb1GYHBbD+BiLGZPSUW3maHoerP4BXBoFd7f2hhDR/aGr/pGuVke9x+JWP5xHHxfehWPuPRYiIioPFxyTT69HtPf/xnnvT3EX/8mFbxOupysmPgU6f0mY+j11TXnNXe9/B5zhSqtmHAtvWJiYYvXsHZodTyFTxWmdVQ7Eeu6TMKCJ5upmeRYGmLCpyH9ucUY1VHN0uh5f9vD7yKir3NvFhERERERudr18IewbL5JvinR4S8BWL5yDeJ/2odpE/6JW3y81RqWXFQpIG/eLAGGvt3Pyk3+PCQsnYOVN/XBxOfuQwOtAqQIJ9IzcYf/HWK8qiomLGg3mLIRPPt53KtmVZrd4yYiomvFdRUTLr5uuMyNVTExa/ZC1KpVC6PDXkDduh5qru7y5QLMWfC5Nv7OG69qn5VRkyomak8R1Ph1Lg+HY7ciwec+DOrEm7PXpzRs+3wVvln1FdbkPoQxr/0VvnXUInJCPRSe2orP1x6Cu/gDplk9wJD9K9ZFfYrPz9+PN194GI2vRbtKRERERERCoaEI7u7V9wbeL78exsrV63BPQCvc7O6u9SWxZNlqeHrWw18CW6NtYCsxtMbtvvbu9mdi76bf4f3wg2hl1sHU2X0rELkgGl+t34ndvxchsGMLeOXswIJ/f4/LHTrhTnlP4XQsZn/8M7wb/YaPl+zD2QunsX9XPLZke+ORe8wasz39PT6LLkCvV/+OwOL7BDehgXcDNV46DIbsfVizfAU+W7UZa77fiaQr/rivlQ+0FygzY0UYvsDna37A5oNpqHfH3bizofijyur8XGz/9BPs9noYbRsnYtWHP+BQ4Tkk7d6N5NoBeODSdxi3OgP3dmkh/tIQilKx/csv8PGXG7F2yx78fpMf7r3LB1dthSc5GuOiLI/7NFZN+x/Otu2CO7WN5iF18zJ8HPUtVn+3E3sza+Gutneqyhn55soyHG10MxIWL8aC6K3Y/Nsl3H1va/jw70QiokpxyTU5/wi277yENo93KF35XJSEmI+/QHKjbgiUr8vJt+Vm/w9n2nTBXVdTEf+/FViwYgNiRLm/O9MNnTv442b5PXnd+CEXd53chA//8y1ith5C7bad4HPkK/z7k2is2nIAeU3/Iq5Z+s2tsz9+isVHbkbtn7/Ch59vxMYfD+GC3z1qeR5Sdu7BhdY90Uldcq1eu2uJBZfFNfBjdZ3Z/Rsu3CJ+HzQpXTlQ1fbu/wXHfz+JpN9StKYn3dz0C52pUuLEyUw0ua0RHryv8lVA1f17rCrdQBUTHvD2vR2dAtrg9obVm7nISYZLOJ+VBfd2/w+vDHsULXkTvZxqw7d9N3Tzycbu2A1Y+r/vseP4Jdze9Xm88+JfcbtWyhMRERERXRvV8YdwUVER3v/oP9of8oUGA3bu2qv9gd+ggRc8br4ZD3XtrE1LN910E3wamm7+21K2YsJwaAWmflOEJ98cjaHB3dA6ay0+PdwEvTp0gL9hBxb/aMRfO/sgYcVXSO8yEP/v3rtxn2c6tmS1wKujn8ITdzfFzW5m3TUei8eqU03x9COt4aVmlVY6DFdTE3Hirr9h6D+ewN8erIUDS7/HqbbdENggGxv/8z/kPf4vTHihDx5p7o5ajf3g42Zr/gUkb9mNMy3lTZtGuOuOC9ibUAd/GzsEQc1ugduZnxGT6I6HH5bhysTGjz/Dd/V6Y/K/BiHkET94174Vt/m42w5PM38rx52J+DUpqPeQfiyZWxbg3web4uXRr2JIv/aod/B/mJtQG706+8MNMnw/YP0h4JFXh+Hlfi1g2L4BP9a+F92a8W96IqLKcF3FRBZwWy1czjyFU2L4o15T+NS7Fa0aHMfS6FS0fvhu5K7/Et82eBSv3n8rkP0LEtwfxKuDn8TfxLXkzPr/Ybfng7jv9jpAhrjurDuEy/c+g3++9AQ6/rEbn8XswCnPnng17Gk84nUIn605jcC/3g0fsfsLv+1EzPYM+PcdjBHiGtStYTL++8VB3PLXTri9TumKCZvX7jY+OPT1Quxs/hLeG/EknujkCTc3fzSyfkGuMvJNzl+Tj+Lkqaziygn5m8ZUKdH09iYY8cpzxRUWlVGTKiZc3/l1lXFDk7YPoEtzW6/o0jXn5ocOfQcg+KEANKmSdu//BGp7w/+hARj19ruIipyNOW+/hoEPNYMn45OIiIiI/mT++vD9mDz2ddzRtOQ5TtnR9bmc82qqIgqQEHcEdwUPQBetz+w6uKNLa7gdSoLsJNq311PofS4Wy/9vPb672BWDH24sVvFCA9lX00110KB+QzSoW/qmQmZmjhpzjlvbPni8TUO4yU5H0Ri+t+Th7Dm5pA7quhchOy0dF4rEek0D0UJ7A8PWfHNinQZ1xF/NbqgrwljX8qGm33/CDxktMFg2NSWDX6cF2rTQ79rYDI+D4wZSEb8zF20fexJtZFze1BBdBvZA2+SfsD1bX0Nq228A7vUW3xX7vK+DFzIzMtQSIiK69gqQnnQEv6gh/YI+163tkxjYNFFcD9fgu31+ePHJQH1B0+4I6XwH3G4qwuXLt8LfD+Kakasvkxq3Q/CDvuJqJK6vnVqjUb4fevy/QO1NugZ3+cH3fC5KXcVb3Y/HWzXURht07I0et5zA/sPapBn71255s//8qVRk/iEm6geizTVoe1A23/TP117UKiBkRYSskDCvlJDLLJt4ohuqYoKIiIiIiIhqsjp16mBs+HD0eeRhbI7diUnTP0bq7yfUUmjjcp5cduXKlVLLnJOLC+eAw2vnYNy09/VhYSIuNVQdf950B5541Bf7tx9Bi8f7ONWvgq+vD3BVTTjjYhI2LpqNcbM+x/JNicg0qPloiB4vDEDH0+sxefxszF79M85q27U1vxwuiONu3Bi+1u4A2AyPI7k4e74h/M1atcLNMh5zkaF1PG5F7Tra2zBERHS9uBWPDBqEF9XQw1/Nhhe6PNYOhh/34fxf+6CtqcK7KBMJK8U1dMqnWPrtdhzKU/OtEdec8j3XXwfu4jvZ2Wa12xr71+42IaEY6LkX70+agelfxCL1sv6t6mZZOcFKCcdYMUFERERERETXjT37ftGevmzV8k50vb8jmt1R0segHJfz5LKvvlmH2ZFR5XyDwgN1PYE2waMxc9LbJcOrvSGb0cbVVKz9Lg89evjiwNZYqAdH7Wt+B1pkJyH+pJq2KxfbP1+FY+1CMXP8qxj6VA/cZf52Q/1APD4sHB9NG4hu52Px3uok+/OddbM47ot5Vo7HQXjsEtusm4dsswdlcbVI/NcQfrfqk0REdKPKQ/z6JPj3CMRlcT08rCrED8dE4Vv3fpg6ZQTCBj2JLvrLDi5yGZf+AHxva6ymTRxcu+v4osvA0fhoxggM8E7E7KhY7VvXgnnlBCslHGPFBBEREREREV0Xzp3LxZIvV2PDph/Q4s47MHjgk6hdu6Rd09gfdqHbg520ZfLz/wU9ilt8ytPcb0Pce29jHNq6CSfkPXTpagEMajxz0xrEtemDAf8vCE8U7sCiH9VTm/LG/h9FsPoQZv3e+NuDRdiycg0OX1TzijIRv3IFEsrUmWQgPdMDjZqoOzkX05Fu+g6ykXo4E9oLCzffgXvvaYjL+fJRVFvzy6FVO9x7UxK+LW5jqQhnM+W4vfAI9o4bgbivQx3sj/sZF9QNq8wtcdh/W2t0sNcfORERXfcu74tG9B/3ievhkxgQkIpFWoV4LjKzitDIz09/E6IoFemVbZ1PXM9M15DLiTsQV9gC97bSp0s4uHYfTdK3Uach2rT3R4OL1/bNPFkRId/+lAMrJey7gTq/JiIiIiIiomulOjpblH/AN7mtMe7r3B5Zp7OxfuM2tA1spXV0Ld+MWBi1AjAC9et7Im7XXvytX29tmW1lO7++udk9uDMrFvOWbcH2+Hhsid2DFM+7cF+d7ZgbbcSToY/idjcvtGpxCbFLEuDWvRP8b7sJudu2YHXsbmw/ahThuxPmLxY0CvwL7szYhv8s34iNcbuxccNuZN7+IB7r2BT1ahXg94Td2HLiZnTr3BH+xgP4auVmbd/xv3vhzoancPmOnuhU73f8+O0q/GfNTmzfsRMbD9VB0OC/o5XRxnyv0h2D6p2YXkKbxzvoTVCdPoD1R+qhh+z8utataB94FQlff4OvtoljiN2B+Exv3CvCc6et8Mht+lgetzsOmcVno8Dm8PhpDRbEyLD9gG0nm+DZsKcRqPWBYRE+OeeY2E7enejXoeQtGCIiKj/XdX59CNs3/YD1xcMB1L7nZvy4/De0feFZtPeqg9ta3Yy0r7/H7y17469+p7B+1XfYIq+fBy6gpf9VnKr7F/Ro6VX6ulO8fbPrksW0dk04fgbHtmzF2m0/YO3em/DXV55Fr8buYmkd5B7eiS0/XcDdf70bvrau3b55SN6yBpH//UFseye+++kcAp96Bvc2kduomWpS59e1jIIaJyIiIiIiIrIqL/8yvDzL9LpcZWQ/Ev+37nuEjwrV3pCQZJ8Ssjkn+eaE5bJyK8rDhctAXU8vuDnVlkARLl8sQB1768sOpPMLxEYbolRf0XJff9RBA0/15OQf8glRDysdSgtyWaHYRH2xHzVLY2t+ORnyc1FUx6KDbHvhcea45feLzI6PiIiqVHVfk0uxvKZVUObmOZie0QNzn29n/TqjXVOLUMf8umfr2l3ua/qN65qmvYuxYoKIiIiIiIgcuhZ/CMu3JGw11WRvGRERUU1WE25Ol1RMdFRzyBk1qWKihtchERERERER0Y3KXsUDKyWIiIhuXG51PdDA09qbevRnwTcmiIiIiIiIyKGa9IQeERHRjYzX5D8vvjFBRERERERERERERERUAayYICIiIiIiIiIiIrpB3HTTTbhy5aqaoj8LmeYy7WsKVkwQERERERERERER3SDq1KkNQ1GRmqI/C5nmMu1rClZMEBEREREREREREd0g3N3q4OpVIwwGVk78Wci0lmku076mYMUEERERERERERER0Q3E42Z3GIquoOCPQjbrVIPJtJVpLNNapnlNUssoqHEiIiIiIiIiq/LyL8PLs66aIiIioutBoaEIRUVXcPUqKydqItmnhGy+qSa9KWHCigkiIiIiIiJyiBUTREREROQqbMqJiIiIiIiIiIiIiIiqDSsmiIiIiIiIiIiIiIio2rBigoiIiIiIiIiIiIiIqg0rJoiIiIiIiIiIiIiIqNqwYoKIiIiIiIiIiIiIiKoNKyaIiIiIiIiIiIiIiKjasGKCiIiIiIiIiIiIiIiqTS2joMaJiIiIiIiIrMrLvwwvz7pqqnoUGopw+XIB/ig0oKjoippLREREVLPVqVMbN7u7oW5dD7i71VFzaxZWTBAREREREZFD1V0xcf5CHgr+KITHze6ofVMt3CQGIiIioj+Dq1eNuCIG028h7wZeaknNwYoJIiIiIiIicqg6KybO5lyArIe42b0OatXSKyRMn0REREQ1nemWvfz8o7AIV8VkI58G2ryaghUTRERERERE5FB1VUzINyWuXr0Kj5vdtMoI02DCCgoiIiKqqcxv1ctx01DwhwE33XRTjXpzghUTRERERERE5FB1VEzIPiVyci+ggVddrQJC/gFuXjHBSgkiIiKq6Uy3602VEvKBDfl5Ie8yfBo2qDF9TrBigoiIiIiIiByqjooJ+baEJJtwkpUSlhUTEisniIiIqKYyv1Uvx+UgKybkIJt0kmrKWxM3qU8iIiIiIiKia+qPQgPc6tQuUylhPhARERHVVNZ++5h+F8nfSPK3Uk3BNyaIiIiIiIjIoep4Y+JUZjYa+dS3WjFBRERE9GdiemPC/K2JszkXcbtvY7XGjY1vTBAREREREdF1w7wygpUSRERE9GdV038TsWKCiIiIiIiIiIiIiOg6VdMqJSRWTBAREREREdF1oyY+EUhERERUWXxjgoiIiIiIiKiKsXKCiIiIqOb+JmLFBBERERERERERERERVRtWTBARERERERERERERUbVhxQQREREREREREREREVUbVkwQERERERHRn1buL9GI+nA2or5NRa6ad0PJTkLs1qQbM+xSkfq85gqQmRCLfScK1DRdC7nJsYhNdpSbc7Hvv/MQtTWzeDopIVOkIBER3UhYMUFEREREREQ1QAEyd63AvA9nY7YY5v03HpkObnoXJMxAv3YR2NfYD8jLhYeaf0M5Go1HekcjSU2WTyrWF8fXesRutXFjPjceUR9GId7ltR/7MMO/Fvxm7VPTFZObHK+FPd7WDe2CTOwTy2P327t5nYvYDx7B9B03bBVPjZD09SN45Gv7uTk3ZgxGJPqg7tZQPPVRPFI3RyA0+le1lIiIbhSsmCAiIiIiIqIbXCqiX74HfkNWI9XDDy3u8EBqzGD4BQ5F9HG1ihVJO1Yj/s3piHhpEEKf7ehcxUTCDPgNWAHTs9o3tkzse2sMYlOBghNJiP16NgbfVxd3vRyFpDy1ipSXivVvrUeq+TyXCES/DyIwu2+gmi6nvCREvXwXOr0UhfUbViD8bz4i7NEiN5Qo2D8PQS26YcLX6xE9rhtaPL+i1PKaKRPRz9fCjF1qsobJqdMVs98YhEHTVmNCw+UY89+6mP5K7xuzYpGI6E+MFRNERERERER0Q9v30WA8lRSKuH2rEfH6IPR/dgQiVv2KuOd/xVOvRdm8EV2Qtw+oX7d8NzSL5G3fmqXb8+EIfzMc0+evw69JvyI8byh6v7W+GpqH8kDHIeEYdG/FbinnHo9FZlcR5vjFiPhgsUj/OAzaNwJRW03vRaRi+bjpaPjvLVg3PwJz12/B7ILBGLmk5ldNFNTgdo1a/C0UXRvLMZF/XpqL1Z+NR+/m2iIiov/f3p3AR1Hf/x9/QyCEO9wBUQ4RBUGNBwKCIpbDA6toC4JWFLAqaH8ItlZR/ihaW0FaBfFC0SqKRVQQ5aiAggleRAqIIpogARLOQICEQOA/39nZ7OxmN9kNyRLi69nHNHPPd77znRi+n/l+vziJEJgAAAAAAJy8cpfo3X8ka/Sjo9WllrPOFqcud43R0I/HamaQL8dTnr1Co1+3Zl4frSt6X6GpX0sZ88boivs+8gs8mP2ueNbT1ZA9P2q6tHyCBlvHXNF7quwtX0/1zTsKncvs8+BHSv1+psZc1VqV+jtf7melaPrdV6t900pq2vFqjXw1peiAwM5kTbq9q1pXqqTWV43RzB3x6u9sKpCxRJMGtVdTs0+XYda9RRBiiG+nEQ9OVNNpU/XuRmddsbK0/q0xurpjU1Wq1Fpdb5+k5J2eLbnpSzTVub9KTdtr8FPJrvvL0Ef3XaEx87y5lKKpzrMokPGRxvQeo4+CRIPiO4zQQ8Pb+QJLtRLVs1eG1mc4V9i4RDM/Hqyh17fyLKuVrrplhD76ODl0cCk3VUueGqauZ1jpPeNqjXlrvav7J5PeGzT924wi9slSsnebdb9X/3mm1gfLfnNfv5+ulKz1mvnnqwue50eBLXyKepb7PcfaeXtGVw17aoky0k1+DdaE5dL0UaaMevM3VxlLp2rktZ5zNe04WJNWhCoX3vvMssr8YKdsDtbUb627dK7ZulJTtR9klXl3K5qdKZrzmHPvVjmw79293XkHMgruKcg5bDlWWidpsClPpsxY7587zlJ0mQIAnCwITAAAAAAATl7fp+ijjEHq2jHIV/cNE9Xz+gwtWVP4C/nE297V2N9ZM78bq3ffeVdDz7Pm96dqSbp/FWdu1hItyfJUi5pjptyeKHUZrSnWMe++M1TWknQkS0sWZ/mPXxB4LrPP19M15s/fqevTSdr2Yn+12p+sx688X9PjR2j++j1aP2+E4v99la56LNn/XF5m/35d9W7CGM3ftkernrtBOYvf1Bxnsy19jgYnjtWeW+Yr9fAxrZrWRUn9hmpmurM9HOf11A0JHyklaI16oFyl/O0qtX8mV4P/naI9e5I0tVecttmVzblK+vdMqd9ELbHub0/yRDWd2V9j5/nOm5W+xNVFVK6yFi9RlntsECvfUhen+q8LaZtSv5Wa1nLKQob1DK4/X61cRSP+1FZK/E9qyFY0cx6coOQOozXnqz36+cWuWn9fT41d7HsaWVb+jv3diJD7mPEPui5tp0nJx3QsNUkTrAKSVcXe5M/c13+ma8QdU6VB07Vqz3ea0PBNXf3oHF8lezHPMmXaYI3eP1RLUq1rpbyp/g1zldPcSss7o9U/wzrtI6aMWuW8V4JVdpI0/S3pqn8s0fo9e5T0RFO9aZX9j5wAUiBzn9PvGqrpDcdYz+5nTe+XqpG33aCrb3fSu+1NDU4dqaHTfOG41HlvalWboXrTypc9297VVWmDNfQlV7jOvAMfT9Dge5OV+ESS1gc5h9FuzliNWJmoCcvXa9vMwUq9d6imWs/Vo/gyBQA4ORCYAAAAAACcvHJzlaL2aprgLPtpqoQ20pKMIN/H14pXverWz+r1FB8fr7hglceBzDGmVUaV6qpnHRMfH2EXRItzddXTE9T/rAQlNIxT6n8maGztKZr+xFVqZc7X8ipNeHGC6j0yQW8Gaa2QMW+ixuZO1NQn+qtdgtm/i4YOutrZ6pH86gitv2+qJlzZyr6n+POGasyfU/Xu0ki6L2qqVt2lbfuDhkf8pc/RhAdzNXHaFA06L8HKkwQl3jRC/e2udeLU868va8SV7ZTg3N/g30tTvy3ZUN3FyV0xXVPXPKT+veLt5YzN1nWsPDCPuUBD696U4ywU1v/p6XrISW+ryx/ShPuaatJ7S/y+yO/66NSQ+6SmrZLatFOi6WooLt7Ki0EBLXncmmrkP7z51k6D7hgqvbq+YCDzop9llralWiW/o5UOUwxrtdJVt1nlyMrz+Ph69j1Xr2fKqDXZ23vqoRdH6Cqr7Jl1rfoN1g2aqpQiWsU0vXuiptyUaN2nde47Rqr/t3Hq701vQk8Nvbe/Ur5aX9D6pNVtEzXhpi6espyQqBt+N0jJyb7ttm97asI7pusls09PDbrb/xzG+n6T9O5fe9rnSbh8kEZen6Kk9d49olumAABlh8AEAAAAAOAkt0c5QevQs5SRJiVUiTCAUGa6qn0bZ1a5Sl3/kdT9fPkN/dymvbXXR1qfWviGUjfOkfp39bTSCCpV3y3PUNPUJZr01KSC6d0UaU5akOBMSDnKCfMD9Nz1qzRHN6iraXESQtb3SzTz2TEa1vsKjXjFSseaVP/K6tKwP1mT7p+unq+PVc9iH7dfqKJITZu3kpLXh2xhYbj3Sbx+gkZ8dbXaXzVSUz9O9QtoBOUOiFVxp6u4ZxmvnndMVNyjPdV+0OOauTKMHD2SpfVLZ2rqn4fpit4jNN06ZFVqEce50+Oks7o7vUHkpqdozqtjNfL3V2jwo0ukQq1T/PM+6PmqOj9t1v5B9olKmQIAlCkCEwAAAACAk1fLdhqkJUr53ln2k6rU5dINHbxjDJQnucot1Le+T26Q0YtzQn/o78hS1g6pabtEJV7om3reNlGf/M4v/FG0rPVKWZyg81sFbYbiJ1g6fTL00b1ddf4jKYrvNcYefHrOo4VGxDh++9dr+t39Nf+qOZrQyxeVSGh1vnUvOf7tIzJSlWTdVpmFqlpepSnJe/TJPe20/tkrVO+MYZoTOG5EWIp/lnHnjdb8zSma3k+aPzxRTXs+ruRQZSr9I43sfr7Gfh2vnvdN0SeLrLwyXZmVmlylPHu12v/hTe1pN1QTXv9En7w00tlWmqJUpgAAZY7ABAAAAADg5JXQUzfclqI35xQelyF38buakjFUPbt4uvYJyxHTXqAkIj0qXk3PSJRSt/l/Vb9zm1KVqFanFk5zvUZB9vfTSu26WLtUaaqel/f0n84KPw9S/zNVU88bqZ5FtILwssds0CqlBhvD4ts3NfbZnnrzndF2F0JhdZdlyQlrPAmvVM28u6emx0/Xmw938Q84NG+l/ouTleIaRyHjx1XKuN7KX2e5ONvSU6Uu7Yrcv/A+8Wp15QhN+eg7fXL9fI14y38MhfCE+SyrJKjLTQ/pzTVJmhA3VlM+Dt5uIOU/YzW115t69/6r1M7u+6mUZS3R9HvjNOGViRrauZWn+6iyUMIyBQAofwhMAAAAAABOYvHq/+DLavVSf3ugXe8gyVnfTtfQP7ypnjMfUn/T338YEtp1VeJ77yrZ+cI96+tJmvi6f6uBhFPbSctX6Tv3l+lnJWqEPtL8FU5oJG2OJr6U5JkvQuLvxmrQxxM0YZ63MjlLS56eqPm3jNXgIEGBxMsHq8urEzV1hROaOJKqOTPne+Zt8ep5+wTlPDpB09f6whe56RlFBDMcR3KVlbFeHz11g664Y48mTButLuFULp83WGNvSdLoB2cq1RtQyFii5IIWLFna4714xkeaUmS+tFPiXdJHi5wgk7m/p6cr9BGpmvmHrhqtSZr+aFfVy8pSlj05z6H5VRp613xNnOacb3+ypj+TpId+19PKqeBSU1YpwzncPP+xf47ThNv9909dniRvT1uB+6S8NVVLXLGB3NwMNS1RJX1xz9IqK6/OlG988lzlWvlfL85cLEGtrpeSAgd9z9pTUA4yPp6i6cudhVJjPWvve5G1XtNfnO4slLZIyhQAoLwiMAEAAAAAOLm1Gao3l05S07euUr2qlVSpUiXV+90cNX16iabfFEE3TqaS/bYUDW5lztFUN8xN1MRnBjsbHd1u0JR2b+qKxK7qesZIfWQqSON7aug/6ml69+r2tVs/usdanqCeniNCa95f05eOUNaDiap0Rmu1rtROI9MG66Pn+itoJ0rnjdabc7tqye/q2dep1G6MUq8cqhHOZiPuwof00evtNef6emra8Qpd0bGp2t8xRUlFdMA/tot1rqrVVS/xBk1a31VTUpfooc7h1qYnqP9zH2ls7li1rtpUrc9oqkrdpyopy8qY8/prwj2rdHW79rqiS3u1vy9VV98z1DkuGFMZP1H1Xuqq6vb9Pa49d0zUhF7O5gAZ/xmrwf/OUMa/B6t9vXqqVzBNUrK9R7yu+sccXb20v1p17Kr2ZwzWqkFWWi8PdW+JuuqMVI3o6JShfh+p3Zw39dCF/vvXU5LGBN0nV3FK1aTuVp73NHnfSiMzpmj68NCjghSluGdZfed83dCutbr2vsIqiz01p8N8je5nwiOtdNXwEVp/h3XPVr53nZxSMPZFO+s8XTu21+iNV2vEbZ7zlArzDjwdpwkdrfT0tJ71oOmqd9NDKvVOliIuUwCA8qrSMYszDwAAAABAUPsP5KhWzfAHDS6JrRk71ahBXVWuXNmeDFP5G4ncrCy7ejj+OPqSsc9RJV7xtZwVQdj7xFn7uC+zP0tZR0p27XCuWcC0bthv3WV8fJFjJUR0ztIQ4v4jTkeY9xeJoM+rCGZ/1bKu79dVUIZm/r6p3r1+m969KSHEPh6lnfehz2fllWkhEuzecq3nket+Hp5940KkuVQcxzsQidLOXwAor7xV90ePHrWnHbv2qllCmE1ByzkCEwAAAACAYp0sgQmg7PgHJgAAKGsVOTBBV04AAAAAAAAAACBqyiAwkam5I/urc8/+uu+9TGedS8bHus/a1rnnS1rjrAIAAAAAACjfEtT/xT2afj2tJQAAOF60mAAAAAAAAAiDGfeijIdPAADgV4HABAAAAAAAAAAA5dRdd93lzFUc5SYwkffDx5o49BZdanfz1F+9bhynGUvSledsV/5hbU2eqXGufTpffa8mvpfq28crP1NfPzdOA6/27ne7/nDLXQXTEwuynB2lbHPdIQM8+/UcoKv/NENf73A2AgAAAAAAAABwgtx555164YUXnKWKo3wEJnYv1+N/ekmzU/NUu9X5urFLc8XuX6Pn/zFDSbs9u2x97wH1f2i2Flr7NDulidrWryrlpGv2sw/o8cW+QIMZ42Lhffdq5Ow12nVadw25/kpde8oBbdiSqQ27Dzn7eGydO07977Ku+4vU0pwzIVbZa+Zq5C2TlbTf2QkAAAAAAAAAgCjzBiWOHj3qrKk4ykVgIvubT7XQNHvoNlLvTR+rMY8/o/nzn9Hr/xqlHvU9+zS7eojG3DJWcxbM0tv/nqbXZ8/SS9fXtLYc1sIPk7XLs5v03cd6Yc1hqe61mjpllO68Z7genPao7qxrbcvvqHtfnKYH+8bbwZAXnlujbJ2pe6e94jnnzH/r7bvPlPKW69X56Z7zAQAAAACiokqVGOU7//A+duyY/RMAAODX6I9//KNfUML8jWT+VqooykVgolqsCTBY1nytpakHPPMxzdX2TGe9Ub2jbrztfDWLdZZzDqjl2ed75teka6tnzlp/2DN/ShM18D6nmHjVP8X6mbddW/d6Vu369CNPMKTnb3Wj6zrNul2qrtbPNUlrfMEOAAAAAECZqxZbVXl5RwhKAACAXzVvUML7N5EZY8L8jWT+VqooykVgIrbbII2/wMrUvcvtMSS840tk5zs7eGWs0dxJ4/SH6weo89XWfhOWOxtcGjVRR/NzS6pSvd0x7U/Vho1mpqbqVLfXaOumH+yfsd+8pmGu8Sf+cN9MfW02BF4bAAAAAFCmqlePU06ufxe8AAAAvybeoISX6c7p+eeft/9GMn8rVRTRD0xkpHsq/r0tH4yYJurz5Bua8/iN6nNaVWXvXqPnJ9yrq+/7WFudAEHeNy9p4KBxemL+96pzwe80/ulJmj+2u2ej22lX6N5r46W9/9V9d0zQM88+p3F3TNbsPKnl9b9VV9Olk0teXsAfvTG1PONNNKo40ScAAAAAOBnEVq2iuGqxyj6QY38h6J0AAAB+DdxBCfM3kHd5b/YB+28k87dSRVHJusFS/yvv63/018gF1h+Vvf6s//61s18MYtd7f9XVz/4gdRqlxU92V21nvVv2D3M18YEZWrhX6vPXf2t8r3TNuP6ven5vTQ168nnd28npeumbl9T5/o+tmSv10pLhnpYSlq3WNQa+kKcL2x/Uzh3WilqnqO/vhujGns0L0pL277s08NVMqeef9dlY/zQCAAAAAPztP5CjWjWdJuhlbNeefapcuZLq1KqhSpUq2RMAAEBF5h3o2ltd7w1KZO3br6NHj6lBvTr2+oqiTFpMnNO1u13Rn7f4A83+wRkzwshYrldf93Sh1KNHR19QYn+q1rj2q33mterXxTOfvd/0x5SnffbYEI3V8hTfeBBbN/7szLnsXa4Xnv1BeZcN1tNPT9PrZlDraWM1yBWUMFpedqUnkLHkRT3/jSuNBt04AQAAAMAJY/7hXblSJe3cvVcHDubq8GHPuBNl8F0dAABAuWC6azIDXZu/d8zfPpOe/qe279xj/01U0YISRpm0mFB+pubed6+eWHPYWqiqBgn11SDmkLZtyVK22d7oSr00Y7g62h/bHFDShNt13xLrj8+OndWvTS0pL13L5q9RmpprzIxndONp6Zo99F5NTJViE87XjV2aKO+7/2r2D+b8hqvFhBmn4vrJWhjbRH16na+mBdGIemp1YUd1vOBMZwDtw1rz7B81/L0sa76qOna5TBckVFVexhrNS66pe2b+TdcmmP0AAAAAANFsMeGVZ/2jPCcnV4fyDuvIEb4gAwAAvw5VqsTYA12bMSUqUvdNbmUTmDD2p2ruPyfrWTOItbPKBADadvqd7v/rjeroHushY5Vm/G2yXllzQHnOKlVvpTvHPawhneI9y1s+1gN3vKRlOZ7F2qd115hHL1PqHRM0I8+/K6e0mfdq4MvpzlKA2DP14PS/6dpTzMIBpb33oh5/ebnWOOf1BCl+qz/+3yBd2MhZBQAAAAC/ciciMAEAAICKqewCE175h5W93xNuqFarpmJj7Nng8g4o2w4QxKp23SCDT3vPFWNtrxVicOotH+u+oS9pa9+xmnrbmU73Tfu1K3WVZv/tJc3eITUb8DfN+eOZ9havvL0HZIbBLjaNAAAAAPArRGACAAAApaVMxpjwE1NVtevWtKdiK/xjPfsFDUoY3nOFCkpY1vznJSXlNdeN/c9XA+e6tes2UcvzrlSPCzz71KrhG6fCK9bZl6AEAAAAAAAAAABlp+wDE1FWu67p+ildz0x4SUkbM5W994CyM1L19ax/aOICa1P1zrr96ub2vgAAAAAAAAAAILrKviunaMtP18IJj+vxTzN941XYzPgWv9W9oxk7AgAAAAAiRVdOAAAAKC0VLzDhlXdAu375Wak7DqvOKWeqaUJN1fYMOAEAAAAAiBCBCQAAAJSWihuYAAAAAACUGgITAAAAKC0VbowJAAAAAAAAAABQfhGYAAAAAAAAAAAAUUNgAgAAAAAAAAAARA2BCQAAAAAAAAAAEDUEJgAAAAAAAAAAQNQQmAAAAAAAAAAAAFFDYAIAAAAAAAAAAERNpWMWZx4AAAAAgKD2H8hRrZrVnaXoyDt8RDk5uTqUd1hHjuQ7a3E8qlSJUbXYqqpePU6xVas4awEAAKKLwAQAAAAAoFjRDkxk7duvQ7l5iourptjYKoqJiXG24Hjk5+crL++IcnMPqVpcrOLr1HK2AAAARA+BCQAAAABAsaIZmNi1e68qVaqkmlFuofFrc8B6pqZKoEH9us4aAACA6GCMCQAAAABAuZG1dz9BiSgxeWzy2uQ5AABANNFiAgAAAABQrGi0mDBjSuzes0/xdeleKJpMYKJ+vTqMOQEAAKKGFhMAAAAAgHLBDHQdVy3WWUK0mDw3eQ8AABAtBCYAAAAAAOXCobzDqlKlij3ugWnbz8/o/KxSJcbOewAAgGghMAEAAAAAKBeOHMlXTIz5Z2olz4qQ2F60yLabPDd5DwAAEC0EJgAAAAAA5YbnK/6jzs9QE9uDr/dOkW8HAACIJgITAAAAAAAAAAAgaghMAAAAAADKDc8X/PyM9k8AAIBoIjABAAAAAAAAAACihsAEAAAAAKDc8HzB75mOuuZZLttlAACAaCIwAQAAAAAAAAAAoobABAAAAACg3HB/0W/9H8tRWgYAAIimStYfIPwFAgAAAAAo0v4DOapVs7qzVDa2ZuxU7Vo1ZP6RWsmajvdnzpYv9OG8L7TtkLXc4Ez169dHLeuGf/yv6ef+/QfVLKGhNQcAAFD2aDEBAAAAACg3Ar/kL9lyjlZP6a9zzrpdH6RXU0KrJqr2/Qz1u+AmvbOpNM5f1ssZmju8pp76MtT20l8GAACIJlpMAAAAAACKFa0WE75rVNIx63/mi34v849X33Lo7blLH9Q5d2Rowiev6Pen2ZtsWVsyFXdKE8XZSyU/v0dZbs/Uf249XWkj9+v+i+wVtrK8vnm+tJgAAADRUqaBifyjR3X0qPWnDrEPAAAAwE+lSpVUuXIlxVSmETNODtEKTNSsEVdQgV6yn6ZSv42ePX+FPv3TuUXun7b4KU36+2v691dSp5tv1Zi/3K/ep/nOs+jB+5R503M6J+k+3THpHWU1+L3GvDhVw1pv0uy/P6QJ//pWcTf+WS8+c4fOrek5bs0L1+iD1lP1+70vauykWVq8K143jnhOk/7USXUKzjtUn3WfrseubOKkZ7Vevu4hadyHGt5socb+8Vkt/u5T5Z52mVrUks7543RNsPY9pr3aMPsfGvv4M1p84Ez1GviIJj5yrU6rEvz+Ivl58GAugQkAABA1ZfKvIBOIOHwkX/n5RwlKAAAAAEGYv5PN38vm72b+ZgbcTFW5+6dX4PoQ23N/0Or3m+jaS8/zLBfwP27T7KHqM+J7dZr8idJ++UQTu2zS/b8Zqv/84ttv75a5+veou/XvBvdq7ldr9WzfNN1/1836/d0vSr97Tp9umK7fbRqte15ebe9v5O79VG+MGKGXc3+rpxZ8ox/e/bPi512h4a9tsrd7zvupNh3wXsc4pL1LP9XeI9Zskx4a89o96pcp3fiXN/Xv197UmMub2Pv87+n+unbxmRr73x3K+t9HGh7zL93y9JfWFsP//nw/vYrbDgAAED1lEpg4QkACAAAACIv5u9n8/QzAw7wT5p+Tnp/eefdyMdt3ZWiTLlaLxiG2mynnU73+4DvqN2WKbu7QRHXqNFHHwRP1rwGfauyry5Tr3d9KT5OhT+gfN5yrxnVa6DdD/qh+a6qp36OTdGOHxqrT+FLd8sdr9b9VPyjTObc5KHPoI/rH4E46rU4dNe7wez30pz9o0UsfaLX3+p4b9czb1zIrvGmsZqWnnt3dVFzdOtZ8XdWpZm3b8oEmjj9LTz3+B3WsH6dj1RrrN3/6szo9vsA6r/dY9znd88VvBwAAiKZSD0yY7pvMHzcAAAAAwmP+fjZ/RwMIFOqrf69Qy3uVk2t+hti+dZO+yrxWnc52d00Vp7POuViZKZuU4ayxVfGMSGGr4vkR5/wMNz11m7SU1mxS5t7w9vfxLR/6YbXmdczV6jef0dRnntEUa5r62iJt0g/atNXZKYLzeQQuAwAAREepBybMmBIAAAAAIsPf0YDHUfsrfu90tGDZ89O3HHJ707Y6p8mn+t8PWcG3m5/7s5RlXavQdpOAndY2Z51ZNv/vO95Z5503x5tjLAXnt5dc2+1jPO+3b9le8i0XrAu9fDA3V6p5mtqed446Fkz9NGLu/epeP4L8KdjmvwwAABBNpR6Y4A8aAAAAIHL8HQ3487wRob/wD739XP3m7nP18izTmiDE8aedqYusrZm7/LdnbNkkXXSmWljzwd9I3/6RpG9vhnXeji3UpK5r+xHTpCP08R6+5bqntNA5K/ep7vmXqXt393SuGldzdgpxfZ/itgMAAERHmYwxAQAAAABAiXi/4D+Onx1vn6iH0ofqj48u1PZcZ/3O1fr3yIv0p4+zdKxOd938cDU9MulFbcjybD+04TVNmVpNDw3urjrOeezae+un3/mdNPrWB1n+cqW+2uksb5qrx/+xUDfe9zt1tLc3VtuLztGHH3+hNHs5S/977hm90dicwiyb4xrrtGukL9alOcvW+g6/030DPtCkSQuVedjZ73CWNmXmeLZ79yvpTwAAgCgiMAEAAAAAKLeKqzIPur1mJ9331mL1+2WsLmtaVw3r11WDM27Wf9tO0aN961o7xOmcUbP1XvtFGtiqrS64sK2a3TRPTf75su5LdI0pEYbg19+kebe39Vz3vIeUOXi2/vHbJs5GqeNv/6yb1wzTBWb7WTdrXrsJ+vsAZ6OthXr9Ybh+/L9e6tK7k66c9j9rXRNdM3Gebt41Vj0an6O+/Xvpgg699PiCTZ5DQihR/gEAAJSxSsdK+dOIvMNHnDkAAAAAkYitWjCiLlDu7D+Qo1o13YNFl76tGTsVG1vVWSolh/Zqb64UV7OuqgV7xbzb61rbnVXH46uJ8bpKi7RjTCfr1HuVG1dXdYOeOFd79x4KnS7DTls11a0bECwp5TQbeXmH1SyhobMEAABQtmgxAQAAAACouKrVVV1TgR+q8t+73VksTdWs8wYPShhxRafLsNMWpAVHGaYZAAAgGghMAAAAAADKDdOo3z32wcm2bPeNZE/Bt5fbZQAAgCiiKycAAACgnKArJ5Rn0erKqerJ/h4c2Ku9qqu6NZ3lk8Rh69/ydOUEAACihcAEAAAAUE4QmEB5Fq3ARJUqMc4SounIkXwCEwAAIGroygkAAAAAAAAAAEQNgQkAAAAAQLlh2vSbhv38jO5PAACAaCIwAQAAAAAoF0w3Tp5K8kqeFQVY9le6yybL6UILAABEE2NMAAAAAOUEY0ygPIvGGBN79+3XwZxDqlTJW3HuDVIE/vRie2lsN9UCNapXU906tTyrAQAAyhgtJgAAAAAA5UL16nHOnJe3Ej3wpxfbg//0Cnd7sLwHAAAoO7SYAAAAAMoJWkygPItGiwkja2+2cnPz7G/5UfZM45S4arGKr1vbWQMAAFD2aDEBAAAAACg3TAW5Ge+goDcnlBmTxVViYghKAACAqCv3gYkd732gdzvMKpjmv5fpbEGpSJmitud2802T1zobfu0y9eVdVpm7a6V2OGtwMlmraVZ5npbiLEbFbs0bYb1DIz6kzJwUPM8rojLC70sAAKKmYYN4+yt+wzTyZyr9yYiLi7XzGgAAINrKeWAiU6mLctXg9QG6Ya1nuvr6Js62cshUWp1klZIpy95W7/FztWH1Cs80qoOz5ddulw4ut34s32/NlXeeIMqyVc7icUiZ7KlwPZ4K/R3v31/iClvv9UNO5boieKvSV1g/VqQp3bPipGc/SyvfR76/21lTAsf5e9FTJu7XPFdM2puu6AaeLIkjC35XzhrirAMAAGXGfMXfoH5d1awRZ7egQOkweWny1OQtLSUAAMCJUs7HmDAVrst0cPgA9TjfWVWemQq4l1vq86nXqJGzqrwzlX7TW83VlOvqO2tw8imt98S0MnhNGiJN1q0lDlKZSuNLUkt+fIHMDzWy96fqs+gp9Ys4Hmnu5U5pxgrdleisQoRMi4Jrld5moCZvPI7fa8f5e9H8jhoww5oZ8rxTpjzpGr1CGnVcz9e5v2ElO4edLnnTBAClhzEmUJ5Fa4wJAAAAVHzlMjBhum/67OFcZ8lf3GM9dPX1sitiN5sv2o3bOuqGy7fq3T94vm03LSwKKmhX/bdgvVFo20u1dGqbTdr8qmdbwtJZWmfN2+cc3d6zX5E8FaCTnaVA3oozu7J2XLKzdqBmre6hld7jglS4eXTRpIBKWW8gYWjqtZ7KOkuwyrmCyjyHaRVREHwwFYVD3vbMBypIixFwb37bAtJqtvVYVnBeO03NTMVymvqM36TR1r2bNIzT3zz50O0Bv4pK//wJuCe/9Jo8+av0qHNt93nsiuwntcjM20w+j1REdY4B5cVT3lwPIKwy852WdfhRNT45QwevWFPQ4sKv7Nk8AYWCcty9hS6d1tmXJ37vQQOdvbaZMjo457OudWnrH0O+J4HnCou3AvkRabz13Ia6887O2yLWFcp7t4ByHFD+QlYuFxOY8C8zge9KkMCE97pFlfGAcllwj4taarr3/gL3Cbgfv3fNEfg+egXee6m8B6Wl4Pma31Wvqblf/gar1HevC+/3okdRv2c8eTfdepdl5Z9d1uxyap1DVl64r19sufK/zqgZc9X85eD34PsdHPp3CIEJAGWFwATKMwITAAAAKC0nfYsJu/J2kRTX5gxdHRhIsCuZpbPX/kZn2StMhfEayVtB7FRC2xXGMhXOB3Tq8N+q0ykrNf+K/Tq94Lgw2RVmxXwZ7FS2qlsLDZ3qX+FVqKLLrmiTX8WYXUm3sYvOHvaUpzItSOVtsAoz+7ggLSNCrQ9WsRvsvIZdmbpY6t3mVk1xb7PT9qRkKmq7JGnko5/q7F5/1V3XbbXO7avo9Bx/mSvfCl/bw6x/Teu6SX0eCaisDpIPvorV4BWLxfl+0iz91DpIYKLYMuMpZ9ZevrJnH2ft+4m1r306T9ne0dt3fk9ZblI4oJBpzp0pda+p06cFK5Ol02LCVxbM8wnI/2B5GSJ/7ecZqsVEoTId6llbgj1TR6EyU2jfgPPa191UbPAi1Hk15DKNG+VZF+o9MEK/TwGCpKdU3oNS5HuOzezK+oW93PdVXGDCWWUU+Xux8D0G5q83T00w1vtzZY+AoEKx5coJOLTxP68JFvkCGJ59/O6z0Hl9iioHAHA8CEygPCMwAQAAgNJS7ge/Dk8TdSrUuiFTX75kKpDdFbnt1eP1Btr1kmtA4+4tdLapzD2lluKs87Q6jordSPR5JLCia7eaDwoY4yGxh0Zpk9IDxvte1OZWX8Vfk67q0y1ZC5P9+4Dv3aqZM+eROGpF8ZWlLjvef02Thzzvu44lcdTzGjXjNb++3n1MxW2wCrqBGmqu26Slzl7RQp0LpWGtZo+TJj3irrTsoBvHd9HkZcHGE0i2gzLBK2NbqLl7fZNrNCVIheJxC6vMxOnUT1xl7/yOOrV7rnYkOZm3ao02W+nt5Ap6NLq+s061nve6EGNFNPp/wYISpWWtVs6Qzm5hnk8HdTbdOQXN/+OxW/NeftsqQ+5n0kF3zRioyS9HMgZBkDJjPetx46XRM4OkOWhQIngZb3TdrRq14lOtDCjjfQb5rpXYw3y9v0wlHt7ABDuGmHzwD5KU3ntQGnZr5eJk5/dIfXXu1UWLFieV+vg5kfyeSRz0gDTuWg3Y+IBu9HupwyhXmUlauKKLJg3y/Y5KHDVXk7o5C0bKTI3WAxrn/h2VOMja522tjPZYFgAAAAAAABVcxQhMtKkT5EtcZ/DiYE74gMYBFei2+mrUxHzl6x7sN3hXKP5Bh/pq3saZdZiK00XjrnXO4T9obLjSU33dyfhLVvpWZ9atTcsgzyAMmWlaZ51zdG/3fXfzdGezMS1IRWgXNfePuXjYAZq3NcB7jnI3SHIT1bGeU+7PnpK3Y9MB+2cwBzYFe2A1VafMKqEtKcussjZQnZ2a3eOufA/KGRw6mEgGjLbLTAiBZWaZCUq8LXW7TJ0D8s8u4zPu9Ct3nncusIwHvK/NWqq3Mxs56x3v/aTODmwFUVrvQWlxKvL7dPFU0jfqcpl6BwnYHK+Ifs/Y77j1+69X14DfNWGUq61pWhT0967Pjk2brP2f1CWu/G97rqdbp3WbjmPwbwAAAAAAABRSQVpMVASmG5E7tW78XG1YvcKZntcoZ2tEEkf6zjGjRUFl57Ry+9Wv6S/fe8+uKWjXL6HUV7+p3mPnatJGp8J5RCRf4v962ZWycgV27L76T/4vxe1Bm817tOJJjX8/SOWyGc8gsNxZk1/QoNT43vHg5y+N96CU2BX5rkCJPb5G4ZZZ0WW948Oe97TAKitmrI7A/LemSFqbAQAAAAAAoHgVODDRQDW6O7OButeytpY3nq9+PV3plCInSPF5yC5hgmveqoszF6iUv9Q2XTwF+Tra9G9f8kCKN0hhKqRL/yvvksnUvo1SXGtPyWvUoqb9M5iaLcqyaUQwnm57TF/77srYWUMCvxQv3K1YZJqpubvrHLduLdXcmS2WXWZCCGi5M2qYqdTvoLsWeboBcpcpu4wXao2wVtPKKJiVMtkzxkHQSu4yeQ9KLmXZ2/Yg3u7yYH6HLEr1T+DxtiSI+PdMYocgXbOFUa7sVi5Fl99GLVoEabljgklTSrnlEAAAAAAAACpwYKKJOg1voF1/+K++d9bYg1+bgYuHBwwuXC54KtfcFX0pkz0D3EbE9F9/bjeN9Ps63N1ffHjsvvZn3OlXKZoy+U5NHnJrKfdr7/SjP8RV+Wfdw/hxZib8Sk8zEG3bcwMqEO3uiYruvqXs5GrzG9858xYzpsTyODXq6iTGjDmhTfryPV9N6Y73VtrjTtjjV0ST3W2PrxsnL7tLMO+4AkHGMkmZab6ij4T54n2g/7M2gQAz3oIdQAiXKTPS6EddAQSnzLjHEPBjj0HhX84840n4t6Swy7gzX5pMgMGMjfB5yIGSS+c98DEV6uadKElXbma8EV83Tl52d04F3XsFGXfCjNEQqkulEErn90wY5copv35jkASm1xlPYoCrG7gd7/9No81MuQhuAgAAAAAAVByVjlmc+VKRd/iIM1dyO977QJ89nOssuZkBhX+rTk0y9eVdy7Q52BgSt3XUDe6BsFf9V+/+wTeiRIPXB6iHt+LXbHupli6d1lmNMldq/v+TOnnnr9iv09dGOtiwqQz09EnuZb5CN922mIpJu7/4QgZqVsEAzWaMCV/FqDn2xk2e47znMRXw01vN9fvquvC6wumwu6zxVoragwGbrnoK817Hwz89fucIdg0v734mSNI7TUPt+zPnWqbOBfOvqblrMGL//DFd2rgG9g2Z3uL2C9gejoDy4uOUvS3hlJnvtKzDj6rxWE1tfth7Lm/ZdRZtAeW4ewvPeZ3F0O9BA50dWDYD0x1wrqKY8jNA7mfrsJ+fezyEgPI5/gGtG+d9vm4B5aaY5+Rf5lzs63+qPiGeYZFlxkmDAs5t3+sM974BafUr4xa/MuwIXFds+Qz9rphWCe53uVTeA8N5dgo4fzjsNCy+TJ8X6kLKk1emKyrvOT35ac9aefeAJm18UunDAp9n6N+LHkU/g2C/87zn9LtWseUqIB1B0xuwj+nayZ0PIZ9BEeUYACIUW7WKMweUP/sP5KhWzerOEgAAAFBy5TIwAZzcnMBEoUAEECV2BbpcQU8AwMmCwATKMwITAAAAKC0Mfg0AFYwZI0JDehCUAAAAAAAAQLlEYAIAKpjEUSsKd80FAABwktv61ef6dpOz4Jafre1bs52FaNqrDcu/1IY9zmIIIdNdqrbq28X/s/6/JI7n2EDh5YmfTf/Toq9K5+oh7dmo5cs3qkxLSf5ufbf8cy1a/LV+2uesQxhKUGbKTHlKCwBUfAQmgFLXXj3W0o0TAAAAEJkd+ubD+fr3O4FTsn6ytu7ftUPbgtUsp63Vws/WarOzGD152rV9t3YFGxbOJWS6S1W2tmVmab+zFJnjOTZQeHniJztLm3eVdgblavv6dF8gIjdL27ZnWamLXNaXn+j9L3c4S6Flr/paX+6vrwsubK+WdZyV5czmTxfo3/PXKstZNn5a4n7XFunjlZuUnW+2/KxlzrtXtkpQZspMeUoLAFR8BCYAAAAAAOVAI11wzdW65fdX66rmMarWvJM9f8vvu+h0Z4+gTu+iWwZ20anOImBagaz59mdtc5aOR/6Rw8oLYyjNvMNHVaNuQzWoV0Mxzrry5Wdt2FlbzY5t1U+7nFWW/LzDatje897dct3Far7nf1q0aq+15bByrG12jAIAgDLA4NcAAABAOcHg1yjPojn49a6kBfpEF+j3XRs5a6QNC97XDzVbSNvTtSu3suLP6qTrLrC2Z/5P738l9bjmHMVn/6xli9dp85HK1gsVr649LtHp8c4JLD8t+UTb4+tqZ+o2bbfO0fLcTmq5PUVJmQeVX6OFrromUY1jpJyfvtZ/V21TVr4UU7uFftP3HHu98jP1zYKvtWbfUcVUr6EaeYfVrHtfdWlqbcvepOTP1mvjAeug2PrqekUXnV7bk+6fml+nK/162sxX1pqVWrRutw5ZS9WanqMbutXWD5+m6Nuduco/elQ1WnTSDV1MM2zrnj7cq8YNs/Rt2n7lVK6hC7pfofPMNQv8oI/fSFdss3xt3XnIOnstdex6qS5obifavtYn67N0UDGKb5Wofhe5m3ebYzN1+s2Xqq21FOrec35K0bI1W7Uz76h1Ruv+rrxEba37K0me5PyQrHmrdupgTFU1iLMeaWwrDe17pkmMj33sWm3MPmolpJbad3HuxzzvtZXVsdJWJW0/qLyqTXTFlV3UsoZznN3yZqW+tW4gJraq4lta5eTUTXon6bBa1svWD4HHhEijl19ZDHXtzcn696pM5Vn5G9vkbN3Ss0XQPDetL76Nba68Deu1tcE5GnJF6P2+qdJCMb/8oLQDh1XjlHN0XY/WijUJcvLlBytfYqx8Oe/Sy9Wx4W59t+RrfbPnsJVXNdT+Yu+zd9nwuWZubqp+dTZqUf7FuqFzXc/qwPK5Zqmmb2lmPQ/5lQsf/7Jbo/HZuqpna5nfDOb92tWovjI3BLyjgYooM3b5+zbTLn81GrZzzm3egd1qUD9ba37Za70DjdT9sibamrzeyh+pdmvnXTHdaUX6DhVVfgEAZYoWEwAAAACAk0J2bm31uK6fhvRtpvwNG5RmVh7NU96hPOVbs1lrN2hrY6elRY9z1MwVlDDy87K1eV8j/eaGfhp6Ybw2f/uNtp9xuW656XJ1PJauNabfml3/00dfZev0XlfploFX6Td1t2rhsp/N0Upb9qV+qNnB2r+fbrmqjRrYZzX26psl63XorCs81253VF98aY4JYcNKzfu+srr0t84zsK+u7NBIMTFxanJWJw0yx//ubMWnrdY3dl/3h5WTtVXb6l6oQQP76YbT8vXtd8HOfVix5l5+b52zY4zWfJEi+8N4c61NddX7BvNVfBc12+I9bxAh712qXreZOl1lztFP1512QEn2/ZUgT8w1vj6otldepSG/76UeTas6+7uZY/+nrOaXWumwztultn5asVJp5iGb5719q3aZe7W29aizU9+sM1/4e5mWN23VzARPrOte18mpGLeevQodE+FzC3XtM7voqhZxqt2is27p2TpknpvWFz/9nK0O112nIVcUvd/mzdlqa+X3kIHnqMG2jVpjPzOT3hTtTLjUWm/lS6/z1bKheQbJ+ql+F8899IhX2jfrCo2nkbY5S02at1Dt1lZ+ZPzs151Tgbwd+nbTfjVolOCsCMKkeUNVdbPL7hVqd2idVWY8+W/er40ZQd5RP0WUGVM2vj2s8/qZ/Oir8/LXK2mD2WDegZ3a1eRi+x3oUW+3ln+eZeWPuU5z6+Y2eq4T8TtUVPkFAJQ1AhMAAAAAgJNCvaZtVNt8CN6ghmrk5xcaMyC+aX1pc4oWfZOu7Bq17a+4A9Vu2MKzvk411ajeUG1PNRXjdVU7zjqfdcK8TTuUVf9UtY83F4pR47Obqcaundqqbdq8q6ratGthrbXE1lA170fpBzdra451vv0b9d3q9fout7KqZe32BAaC2LotS9Wat9Gp9ifwVVXbuh+phho0PKrN3/1Py5dsso49qryCvu5r69R2ns/442vFKf/wYXveXw01se/FSnW7JmqSc9C+vrlWjRox2rzWStfqrVK1w9q+xd6tkND3bmnYULV3/qxvk5L15fbDThoiz5MMc41GLXSec43a1YMEJsyx2XXV9lyn6ULzM3R69Sxt9g4kEltfp9v3GqP4mlWttIQxekSwYyJ8brYwrl1UntdOaKFm9nMver8ajZp79ouprRqxTlmw86W+2l/g5Eu8VW5jPM+gdky65x7SrWMPZfl3Y5X/s37abpWvBvuVXbmuGhze4ded09a1zhgT76doW8Nz1OcCT2uKYOyy26yVcw811P70+srO3FzwLgZ7R7N/Nvdnpo3afjB0mTHl72CNOGWvN/tu0KGqVbVrp3d8jxpqdrp5Tzz5XpCPfr8LIn2Hiii/AIAyR2ACAAAAAFAxtOykQdclquWhn/XxnEX6pgSDDBzKz1dMjOufytUqKzb/sPLM//IrK8apVPZz6GhBxaxHvNq1P1WuHoH85B056sy5ZP+gj+d9rfQqTXXhZR2coMXxC7xW9Wat1SFENzWh7z1f25M+0ftrD6lZh0T1bu29s8jzJDbwGsGYY2NiPJXFtmqKjbHW+Z/w+EX43MIVbp5H8mxshdJrmGfgzNri1OLM1vI7zcZt2lrlqLanrFXy19uUU/WQ0n70tTJp1sG0UDBTb13Z2QnchWDSHFPF9cBjqyom/6jdrVN4QpcZU/781DtVF7SM4GlE/A4VUX4BAGWOwAQAAAAAoELIy8pWfvUmatv1Ul1x2lH9lOb92jp8tRvHK3b3Tm116khzvs/U9jr11cz6X+M6B7U19aBnQ/5BHfLWo9ZrqMYx1nLdtmp/bjtrsn62beIZEyCIZg1qKXv7toLudMwAxNqUqcz4VurStpGqm3MF1NEWL19HvGles1WZtWqrsTVvrpV1MF+t7HRZU4e2OjVEfzWh7323ftomnX5BOysP4pRzyNtiI/I8qR94jYJzuZhjq2Rps913kyV7o9L21lLj5p7F8PjyI6QIn1u4ws3zSJ6NzaS32l6lbXBuLP+w8vM9zyD7aAvnHsx5mrqCK/n66Zfdij/jEvXu5ZmuTGyiQ6G6cyqGnebMzcqxl/K1ddMOxdRvWGQwp3ZrJ13ntlHjGqHLjCl/MfsPK76D9z7a6vRmcZ6N4Yj4HSqi/FpyNv+s7YF9YgEASg2BCQAAAABABXBYmas/18z/fKKPP/5EC7fU0Hkdggy8W5wWF+g3LbO17D8L9P7c+ZqVWkM9Lm2nWMWp47mtlb/xE818f5E1bVJ2NecYNVP3Lqdq15cf6Z35n2ve+ws0b9Vue0v12BjtTFvrVwkce97F6lF7q95/5xPNs64xc8F6ZbVooia71uvdj5fq3Q/TlVNw7jDFHtZPH5o0L9Cs9UfV8cJzZIbYsK9VI12zrGuZfJn5wZdK8/u8PU7Vq+zVd6t2FHHv9XV606Nas2ypPv5wkZbtss7rHBtxnrTooIvr79Ci/yzSu+/P18Lt3nO5uY6da517frpqX3ixOhYMcF2cFmrb+KC++XCp5q3Y5KwLJvRzOx7F57lHuPv5mPS2UPa3Jr1L9Y6Vh8s3xqjjpeeodqp1/Fzr+VjP/53lm1RQv56/SWk7a6hlW1cFf4tmOjXPvzuncLnT/P6cj7Qs+1T9pmszZ2s4iigzrvI3b7H1Hrz7mb7d6WwLR8TvUFHld4fWfPU/LVsbeXATABCeSscsznypyDt8xJkDAAAAEInYqlWcOaD82X8gR7VqFtXJSzmRn6ucA1L1OhF8aR2MOU9OjKrXChwD4bBy9uWHOH++8vYdlGrWVmxBP0TW/nsOK7ZeDVfXRI68g8rOq6ra3mscd9rN9Q8ppk4Y13ILlo4g956/f6/yYuuqeqFIQqR5YsnJVk5M7SDncivifooV4rpBRbJvBIrKc7dw9ysQPL2hn08ZsNKck19N1auXNMOKKDPH8x6U6NgQack7rHzTVZWzCAAoXQQmAAAAgHKCwATKs5MmMAEAAIByj66cAAAAAAAAAABA1BCYAAAAAAAAAAAAUUNgAgAAAAAAAAAARA2BCQAAAAAAAAAAEDUEJgAAAAAAAAAAQNQQmAAAAAAAAAAAAFFDYAIAAAAAAAAAAEQNgQkAAAAAAAAAABA1BCYAAAAAAAAAAEDUEJgAAAAAAAAAAABRQ2ACAAAAAAAAAABEDYEJAAAAAAAAAAAQNQQmAAAAAAAAAABA1BCYAAAAAAAAAAAAUUNgAgAAAAAAAAAARA2BCQAAAAAAAAAAEDUEJgAAAAAAAAAAQNQQmAAAAAAAAAAAAFFDYAIAAAAAAAAAAEQNgQkAAAAAAAAAABA1BCYAAAAAAAAAAEDUVDpmceZLRd7hI84cAAAAgEjEVq3izAHlz/4DOapVs7qzBAAAcGLl5ORq6fIvnKXgLu9+sapXj3OWytDRLGVslxIS4p0VYchOV4aaK6G2s/wrQ4sJAAAAAEC5tmNXlvbu2+8shWfvlk36fotzTP4+/fLTz/rf+p+0xpq+S9ul/fmeTTq8V5tc29b9lKFdh51t2qWN3/+sjZl5zrJle7rWWMcXlq9d6b9o3fqNWvO9da4fftGmPd6LFOHQPmXsOugslFSedm/PUrazBADAr8HSz1aqelw1nXF6i6CT2Wb2CWbXihf04D8/UrqzbNvykZ589AV9ttNZjsSmJZr03BKlOovhSF30piYt+tFZ+vUhMAEAAAAAKFdycg/Zk9e2zJ12a43A9UU5djRf+Uc9HQRkbd2p7Cr1dXa709WxXUs1qRmjyjFmy0H9krZDB6o2UHtnW0LVHG3ZtN3aYhyz/icd2rtDO7wxhmPWOue8btlb0rXlYBUltGmjjmedrnaNq+hARrrSc5wdQtm3Tzv2Hm9g4oB278pWZKEbAABOfs1PSdAZp7csmD5auMyeXnzlbXtbKIdzclX1wI/69HtnhSU9ZbP2KVc5R50VkWjVX0892l+tnMVwtLrhL3rqhjOcpV+fmP9nceZLRf7Rkjw5AAAAADExfDeE8st02xsbW9VZKjsm8LA1Y6ca1KurypUr2esyd+xW0yYNVblSZW3eut3+ArJqlaK7Psvdt0fZqqnGdaspO2u3DqiGGsbHqbL1vxo142Tfyd4dSt9XRY1PbyRPLwrWtrqVdGD7Xh2oWk/14g5q9/ajqlbzsPZmV1Ej61w6sE+Zh6uqSb0a9hEe2dq6LVuxDVvolFqeNZWrW2c8uEu7c6qqcaUsfb/5gKrWryXTmYRpzZFmna+h9uj7zIPKzz+k7buydSg2XnUPZer7rft0YPcObd6+W9t3H9SxGnVUq+p+/bJxm/ZWsfaxkqF91n72OaXtG3cqO/+Icnbt0Z5DsWpYJ9ZOAwAAFdmPP6WpQf14e/LqfNF59rT+h406o01L7d6dZf8MtP/nL7RO9bRvV2V169DEWpOqTxZsVVyNXNU9u7Pa1JR2pczRtNfn6sP/fqoF/8vVORedrlp7lmvaS+vU8KIzVK9Shj6ZMkvpbc5XiwNL9My/U9XmwlaqsdOan5+umLUfasrMj/XhuqPq0DxVb06bqZnzvtKuhHN0TpNYu9XGy7+01MWnHdRnLzyrFz76XJ98aqYfVLWjdc5qO/X1O69qypyl+mSltc5cx/k7oyLgXz4AAAAAgHLBG5RoeWrTgkDd/gMH1bhhPXverDPbzD7htpwwGjWOV7XcnVq34RelZmarYGTE3Hzlx1ZTI2fRo46qVT2qI7nOoiWuWbxiD+wuovXDIR3Jj1X1Bs6io361qso/bKXzmHWd/Hy79YVR0JqjThOdVb+aVK2uOp7VQqfVMRutbblHVCWhpbWulU6rfljbt+2UOdqcI7/gJN5z1tJpbeqquqqp4Vmn6yxvZAQAABTpyCkdlbglRd+a7+w3fKUfWp+hUw94thk1Tu2k4ff/RU/8v4c0pMlXejMpy/qPe3dd3/ZHvflJhnK+nK/PTu2pS+tbOx/N1b6sXNm9QZr51Rt0uNcIPfHECF1zdLn+9UltDb7/IU2+7VR9++mX2mftZlpt7Msxf5U01KV/tK7zyF/0QE/rv+Mtz9dF1jk3vDtdX7UYbK9/4s5WSpq9xD6uoqjQgYkd79+vtiM+1A5nORrsa557v+ZlOitwUjkRZUYpU6wy003TUpzl8s5Jb8E0ea2zAVET9TKzW/NGFH294L/7tmvhezfqle+s2e9e1oD3FlhrTrQ1euWtGzVg8Rpn+VcmY4EefutBLcxwliPieZ7l4zlWNKZcep7L9uQHC5fPk+2/EwBQyjyDbrtbJ5RA9QZqc2YrtaoXq7ysTH33Q7q2hx/XkGLqqVl8Je3N2KMwRo04fpWrqGZN88/1yqpbp5piDucxfgQAACH867kZzpzPn+4e4swVpam6XJit5JT9WpeyQ4md/Dtiqt4wQdqcok8+nKnPtngG2zYSet+gc9e8pseW1tbgfiE6b6rdVK1MwEIN1cD6eWbiRapj/tNev5bqHsh1uowMsHeJXvpvPQ0ekKjqStW69bXUoOqP+jrlK339s3Wm3emyflQY5TowYVd0nWSVnumpydb/Jyt9q2f518BTIdlNI9/f7awpibWaVtKATmBFeaFpispzXc6OTZvsn+s2HU/+RU/KsrfVe/xcbVi9wjON6uBs+TUrvuK+NJW3MmN+B1ySeqtVHp5SP9P6MUJBK2LLSsYWz0BU+7f8KivXt6d+JrX8P/XxdrNpAkYmUBNksgNKfjK1xfwNlptegrxzghqB1ynD515UuVq7OEha3nrZ+i+RESKtrunhZCsH7CBP4W1++RZiH/v4SCSOtN6vuWr+MsEJABWf6aKpWUJDpW3epvx8TzfB23fusceXMMw6s83sY/aNTIxqN0rQmWc2V/2YXO3enSfFxSgm71DAh0n7dOhwZVUxfS651LCuWftIln6xzmMPT+GnmqrE5CknYEzs3YcOK6ZqpOkEAADRUiexnQ5b/95KzmqnLo2dlbb9+vb1qZqxIU7nXfF7Xd/R3SIxW/tM04ijTteQpSJDC6d/pQa/66+z7T8dcnXQ+lPFp7bO69dFrZ2liqBCt5g4ERJHeSpr70p0VlR4u7VycbJGDRmoRYuTotvSwMuusHEqya1fJJO6yb/ifPVIlefH0ei6p+x0TrnODqMCxSpXZSbzQ40f10KzTpYAVUJfPXbTbM26vq/8/t4oKW/F/knRimCNPkyTurUKvPO+etjkScB0e3tnc4GOut3eNkwlfdp9znVfY5z67BwfeSV9aWk4zpWW2Xq25c96zH6OjdXnelc6z+1r7eyfR48V/LUakHfWvgtXB7ZIaavbL3ftY913q7S7gwR+ilNf/R55QOuGlO9gOwCUBm9wIu/wYR3J92+fYNaFDkoc1f6dO7XD7m7pqA4fPaaYymYcilxlbMl01vvY2+rGq7YJUmzLcVpCHNXeLXu1P6amGta1V7jU0Cn1Y3UwK9faK1BtNaxVRQeydmi/k+T87EztOlhFteNrS7Wqqop1Lzn2tlwdyAsYPPvYsUItMTzXOKrde63rxVazrlBTsVVMF1OeLQdzjgSk45iOBp4EAIBfgfQtGfrXc6/ZU8Rqd9VF+T9qZ7tzZHpU9PlRX3/fVH17tVOD6lWUs9/Xx2PqvI+07/IRurdTqmbMsz9/PG4Zn8zSp6deqyFne7+MaKUzW+/Urvx2ujDxIs907hkBaTy5lb/AROaHGul86X7JuGRpxp2uL98DvqgP+FK++K8IPV81B57H+8V/8PN4v+Q3P737BFYKuLdZU7CugFz35TcF7htwT/6tEPyvY7b50l7C1gbHKzNJC1cMVOdRPTRqxadaGZCGlMmFW1K415l5T/rv1GQla3Rv3/35t5bxPjtnKnF3SwHPqtgWOWVVZgLuJ1irjvJUZlzXGDBDWjTu2oJlbx7654m5H9e13flc1Htr3/MUzXPO5ZfeiJ55sGfgf62w0xuQh+50+M5xrUavkCYPCbaf//Ehn0FAvhQum+GWGWu9u+wEy7ciy4wROt8C7Uj+VBo/KPLgn+tL8nvSNkg7x7u+KHdV7AbrAspvXcDX7eYLeVcrAG/lr/31vHcf13ofb1c6TldP9uT9gt4t4Hqrf/ZUOkcQ6DBf6wdWxodaV3Adawp1jN9+RbVA+O4LLYy7VIne1hLhCmhVESyQ4G2d4M7nYPv566hODaUN+92/iAJbK/g/A//naLa5npe593DLVRCNW12qtrmfKaVE3Vw52l+sPtqgLYGvlB/PfS/cUoLWIk2u0dAhb2tlEe8kAFQUJvBgpgMHcuxBr72864OrrMr5OcpI+0lrvk/VtpxY1W1oWlrEqnpMnranbbTWW9vWb9HeynWV0MT8c7iGTmser5h9W7TObPv+Z23aH6PGzZs4g2H7i2nQVI1ijxWMFeFW+5QmahSTrZ83mPP8pHXpB1SlYROdZk4UU1d1qudph70tU4fcA3fHV1f1w/v0w0+/KHWns+5orjI2pOr7H9O0xbqPRgkNFGPdX8Na1ZS7O9U+/y+HYlxfadZRreqHtfvnX/TD5j3OOgAAKr4tWzN1x+036ao+Pezpx582FUxmW/Hi1OUPozW6m+/vDY8zdOFZqZrxzOua9sxUJWU7LSYyPtKb37fT9Z1qKeHyG3Th93M173j+HWlkL9c7C7KUs26uHnz07/b0zvdxuvCm/mqw9F96cMrrennKJE34YL1nDIuK4lgpO5R3uNSm9Hf+71iLv6cE3Xboi8nHWrSbfGxlwbqUY/9sd/Gxf37h28c+fvh7x9Lt5cxjs4dfXOh8/vuYKfA8Zvn/jg0f7rtW4WNck0lXqG1+U5D0FLonzz7D38n07eNMK/9urR9upSvItuImO/3WPQabIj2f7xkFT6udzjDWefN59mb3Ou9U+Nyhn0HoPAtWRkxa3M/A/7xBnlGhfcx0nGVm83vHhvs991BTkPREqcy4p+DPzzXZ9+N//wVTce+tfaxzfjNvpfef9rWKKh/BJs95/a5lXzvIOYpKb6FnG+pZevLdvV+wKeQzcNLgS1tR5dia7P2DpNd7L3/3pS+wjBdfZgqXM/scAfng2zeS5xJ82vzp/ceum78q6LZD3047dt2secc2F7fOmuzzzLr/2J9DncuethybO+u3x6Z9G7h+1bFpr1nHzpp27Btnned87ut4jnWn9Zv5/svhTOaYP3+6pch1wc4bdJ/X3Pdi7qHwub2T2b/QfZu8fM13z8VNgWnwTt68n1awzZMW3/WC5XvwffzOHyp9v8w79ueA5xU4FVWuguWv95xzf3GtM1ORaQhYH7hviHMGvX64k3mHA/67xFSxJqA8y95/0Jkr544cOnbgwKFjR5xFn/xjuQcOHjuY5ywGOJKbc+xAbr6zdByKvH7OsdzCG/yPydpybO33W47tsZYOBjlP6HQWcX4AACqgnbv2HJu/YGmR08GDOc7eJZO3P/tYXin8eXA88g7uOXawAv5T4STtymm35r38tkbNcHfR00F3zRioyS8H+6rafGl8rUa3eT6gP/y1mj1OmvTINWrkrDHnuXF8F01e5v5GM1lnD/Ndq1GXy9Q7SOuASKRMttKjB/R5QXqC3VN99RsWuoukRW1uLVFXLt5uYIJNkZ3P041T71bNrPn66tyrS9l055Qy086rca60Nbrur5qkJzU7gq9Gd7z/miYPed6vm63EUc9bef5akJYDlJnj1ecRd7qMcN/bgRpq0tikpc5e0UKdS5zeLpq0yHWtxEGa1C1ZC5ODf8pcOL3By0yj624N2jooXMGfQVeN8xufwXmfUks2WE2fQb7ymdhjoDRjmdO6IowyY7eCsvJukK/cJ47ydJFW2FalW8+oeQnGlSg7l+qeXh2d+UhtUKszfd0UFf6C3oyx0Fa3d/Sdv8MpfaWdXwRpWXH82tbyz9gOvdxdCHm0bfmcq8uljrqmZVttyFjl38LEyFigWTv7qlOh7pmMBXqsoFWBM5Woa6pLdU1B+oK3Cli42n2dt3TK5a4uo76bq1c0TPe477H9tbo9boG+DNHtUbcuJe9WKpAZf2NDxC1KAvLuh+Z6ttiurtboy53We3pKCctps5bqvTGt9P9bCwAVSUysatSIDTIORGVVq1Fd1UN0Bh1TLU41qpXCP5GLvH6cqhXeEOKYGFUPcp7Q6Szi/AAAVEAN6scXtJQINVWvHjBoVISq1qylqie4Br1q9XhVdzW2rChO0sCEqQxzZgOtSFO6M+uRptmmgtnaf1SPgKqCzDStC+w+yJrsLqT8/tHfRc1N3buXqTB1ZkvCdOMyYOMD+nyqu3Lbc09+XcGYacjbQe7JwxMQOIGcCsw+XTyVrKVR+R6Md6DfYCIZ/NczMHkwgYOVU2aOX7DK6kje27JQX83bKERlf/DKdbvM+HUnZyZPt2MlHeA+6DNoYr1Dfl1LOWWqRALuxVRiOrNhlZmtaVoUIj8Ksd+HcqbWKccxdkRbneKOGSWcolbObEQCuj4K3iVU0UzAY0Pa3c7xRXdB5Na4buugg1N7Br2+NkSFeZAxJkoyBkdA3jeu1daZ8/EfY+L/rF+/1v053U9t3/uzlfaXdY9f3t2tV3Kl1L3BwiStdUqk3VK5+XXzZLp+aq2HI77vgLzrIj1rncu/q7ANemWp+57GK9UvoFQCUfmdCQA4YeJqqUG9WvIM9w0AAFAxnaSBiQiseFsatkKfmy/agw4Yab6qDtJ6wK8CuBSlTNElZqDYEOcfNSNIWkp58Gb/vvX9p8J9zRfBrsB0VdL3ftJeDvVF+kmDMgO3Ic8Hyd9SHuDe+4xd5zflr6yUWpk5zoDbyaejbj+3tV5Z42sFsHbLAqnhxf4V/u2HuSrfzVSCr/rd5zDXdCq2Ix8w2Qg16PWJ1lh9zgxocRI3TM/65Z1nCmwpUioCBr8+nkG9CyT01YBCLUW8g18/p9vjPK1cjvt+urVUc2cWAFABVaujhMZ1FGokDQAAgIrgJA1MNFPzoN2KWAL/sd7tAd2Y6Om+aNaQtzXAPRCsXalW+MtnU3Ff1GCvJWYGpB2yyb97mQKeeyrUAiBlSmTBgjCUVldOKcveVu/xc/2ON5WpgV+kl7Q7Gq9GLVo4c4Wd3SL89DZvFaqiN6B1A2WmjETw3paJ3UrfGFmrEbvMFOoyZa2mBRtQ+jjYrYKikgdhlBm7hcUmpYfV8smcL9x9j0OQFgAniv1Vv+tL+8c0TrNK0HWU/4DPxXCCFM+2bFvsgMl2+uKa+3/1bwa9bniT+hxP64IoCN7awwyGHXmLk/LJE4jZkPbPsFvABGU+CmjTsmwC4QAAAAAARMlJGpjw9Inu/zX7Wk0b8rZGDQv91bo9nsCKJzW+oNLWGRvAfZ7MDzV+nJkp7YpdK329n9TZM9z9yLs5/byP+5trvAPPPZVPa7Vyhq8bJy+7O6eC/uwD+7e3WPk7fYYzHy4zNoDcz80EAv5mj7dgAgjhsscGmHGnXwAhZfKd1vO/NcQz+fWVmZTJntYvZRJkKeF7W3LJGj3TVZ1pxipxdT0WDs94Ev5lzy4zznxpsYNv7q5ZrDI1e7EzX6rCKDNNuqpPt2B558z7MWNhqGxbSbW/WH3kHmNguxb+sMCZjzZPywPP1+/OVIKgRKFxKezxH5x5w1p++K0b9XCyu4p+u1IyNhQad2JD2lzfeez0WfsknO8KTHjyq8TjGZQp51l6W5w440k85nTtZGxP/qdeMTPHU5EfTc6zDJnf7Yfp4YYb/FrdRMp8FFCom0EAAAAAAE4ylcwI2M58qcg7fMSZKw1rNc3uz93LdKHjqqRNmeLpG91huidxd69ivmK/ZPFl/v3ymy/QTZdDpnsWZxBhe7+C/twDrmGn4TU1L3JdYDp9TIsCuxVCQFp9BmqWuwuVIu8pjOtESdC8tXnSuM6VHr/87faAJrV5UgtbFU6v/3OwuJ6RPWivM+6DzTpP4Wsbnv0W9gqVHwF56HeNaJaZgPtx814n6mXGl6ZC20KmxXe9Qs+vQATptfM6TUPt/U3al6lzwXxgnhbF2X98C40e572W/3MKO72BeRhQZgoE5lFBGQ3vGfilxz62pWab4wrOE0aZ8cs/R7B1RZYZI+BaQ6z3duOTSh8WuJ8l2PkjtkavvDVeC50lT9c3T/i+8DcV9Utf1gZ7wdrWsrVeyWiuZ+3xAMwX9Z5xCAoxXfU4gYPtyQ/qnjTPGfyZMQJMFz4mDWYwZtd1g63zS4tXQHrD4JeeuGG6vdbLWlHL3cVPkPty3Y+xdvGNmlVrmFqlvVyQd4W6CbLTm64Bobop+u5lDVgtJw9CsPcJFgzy3bd9P/tv8kuf/7oQzyngngrtZ7p2co37UPxzdAtdrkzehd3aJVQeBS0LnnE0CsaPsPf5TN0KlSsrXYXuPQyl8r6hvIutWgFHtUOFsf9AjmrVZOQDAAAAHL9yHpgAgJKINJCB42EHVVJvDR6wqUhMBfUP3oCIS6j1ZcwTmCh6vAJTkf+s/q9sxmhAlHkChkEDhKhQCEygPCMwAQAAgNJS8Qe/BlCxmK/9XQO2+0/BBitHWTPjsXze6jUr/+93dRFV8djjNwRhry9H42AUyFigZ8vloNeImP17j6AEAAAAAKDioMUEgAqIFhMoG3YXQO7xIIyA7oaiJZwWEwBOPrSYQHlGiwkAAACUFgITAAAAQDlBYALlGYEJAAAAlBa6cgIAAAAAAAAAAFFDYAIAAAAAAAAAAEQNgQkAAAAAAAAAABA1BCYAAAAAAAAAAEDUEJgAAAAAAAAAAABRQ2ACAAAAAAAAAABEDYEJAAAAAAAAAAAQNQQmAAAAAAAAAABA1BCYAAAAAAAAAAAAUUNgAgAAAAAAAAAARA2BCQAAAAAAAAAAEDW/usBEyuRuGvn+bmcpDClT1Pbcbr5p8lpnA8rObs0b0U3TUpzFMOx4/36/5xTRMw7KkwbfOe/XvExnE6LEeQYjPtQOZ02ZM+97kddbq2mmPAT+HvjuZQ14b4G2W/9b+N6NeuU7Z/0JtD35QQ1460EtzHBW/MqsXXyjBixe4yxFyDzPt8rHc6xo7HJpP5c1eqVQ+TwB7zwAAAAAADghaDFRnMSR2rB6hT3NGuKsKwdMgMVUmEdSeV9IsZWwRXEqaP2O91bmT9HxJKskGl33lPOc5mpSN2fl8chM0sIVAzXLefYbVj+lfk2cbb9mx1VmIrVV6SusHyvSlO5ZcYKZMv+ami+yysOoDs66SASriC072/dvsP5/g7Ycb4zupLRGX+7sq4d7dXSWPQEjE2woNNkBJX/b9/5s/0zdG7glDE5Qw38qy+deRLnKWKCHC6XlRj2c7NxX0LS6p5etUu8EeQK3BeRb0H2c48NXX/2mWu/XsDRdQnACAAAAAIAKjcDESWmtVs7oolFDumjyshPcgmPFk5rtjULYlfnOPHDcOuguOyg0UonOmhMpZfKdWjf+rydNgKpDr9maddNs3d7eWXFcTOW3qWg+OVpgbE9+SwsbXmyVIH9tWz5n54nfdH1fNXa2ezXu8oS97bEugVvCFDdMz7qu8WxL6ZWlkVbSl5a2uv1y1/3eNE6t0u72tAZpP8y1/jndHheYR8MK8tB/vbWvXtY9gS1SGo5z7WPu+2c9FiTwU6zEkZrV5kmNP+6WbwAAAAAAoLwqh4EJpxuf9z/USO8X+ZnOfGB3OgHdLBVuPeDfHU+o7n0CuwE6rlYI0ZCyTJO7XaYbB12m3jOW+bdOsPMqoMWC3zqnpYOZhrxtBxYuCXnvrn3NVKgbK//gSMrMJ6UhA9XbXnIp9jn5Xyd4/vs/y7JpleG6Ru8ntUhva0DB9bxlzz+tpkz5yo+7fAakN+DrX0+XYh865zL34jtvJOXPvrb1XPzKsN+1wk1vUe+B6xxFlBn/4/3vyVd2Ap9jkC6yAspLsPfW2yWbt+WQmQrnW/FlJnS+BTLBwIEael19Zzl8vi/Jx2uhNuiVpd5la/JW7NpftgdUXAeu8/u63QQIXK0ACip/vQGEwPU+3q50PF09efYr+ILexb3dpD3Vrph+Qn0SnB2KE849GYW+6vffHiy9we7LZ7tSMjaozyne1hLhCmxVEZBOm7d1gjufg+3nr3GrS9VWP2uLO6gT0FrB/xn4P0ezzXf/nuBQWOUqqI7q1FBauKWE3VzZGisxoa20f0sRz8G579zPrOfhrIhA4qAHpMVJtJoAAAAAAKCCKrctJiYvlsaZbnn0qcbPNPOmK6VkLUx2KilN5eUQubraeV4a4l85mTL5Wo3WA/rc2Wec/qYBM5yNDlMxecniywr2CXae0uCuQA2cIr1WyrK31btXVzVq0lJn622tjOh471fo1jRjoNTNlz9muqvg03RTqXynNMO3bZbuLBScaD7oVo2a8ZrmZToVt4NaOlscxT4nU3l8pyYPeb7gOp2XWc/Nr+WF2edaLew1t2CfDdZzHFDqwQmnGxFz/kUPqLeCdeXkyz+7a6/Ff9N4/TVgn8Lp/bzXp4W6Jlk0Lk2d7fO8rekjPPOfjy9BK5gZd7rSYN6ZJ3VJwXMKJ73FvQfhlZmC7rTsvNtk3dMy+57sdU7XR/Y72cb3rDfMaKHRvQOeY7jdp1n3srKHcx7rmuuGBAaGiikzVtm8ZJw0yXTNZLY/Io03gZdgTDBwSI/QLTfMl+f2l/eN1ed6/1YK3pYL5kv1PoFfrxd0NRSGgq/bzXmkFcn/lLo45yn46r+jbvee+9y+9pqg9r+lD/V/Becr+ILeYSrB70lrrYdd59qQNrfYCviImaDE0s/UzZ0nlzfXrMDK/p3j9WxBekN8re+VsUorNEzXRNxSxPPsPGkYZj2p0FYkf6FOTnrDaRWwPfUzbYi7VIneoI4JSqyWL3+te+qWcbcrOOF7jg83tBYz/um6f09wqNTKVYl4gj9tE853yl347NYodvrMPRYR6GrS1bqvT7UyMHAJAAAAAAAqhHIbmBg17Bo1Un01b5Oss3uYebfdmvfy2xo1w93FSwfdNWOgJr/srfw1FeXe83iYilP/is61mm0qJh9xn7+DbixJ5XAxEkc5lZ9BJl8wIBye+zq7hflyu4M6W/dTFt057Xj/NTtY4E5b4qjnnSCEs8Jm8ksa3dt0czMooOI2jOdkd//URZMG+TpdSRwVME5Eykw7wDTO/bV64iBrn0iDMqVvUZtbNSXwK/og6W103V/tgEFBt1eW3k5+NW/VRerVNXSld3Gs5+RLQ331GzZQCmxJ4wia3jJ6D/o8EtgF0241H2SVeff4DIk9NEqblF6CykdzLwXl01RidnMHLosvMybApyG3+rpmanKNppjASxA7Nm1S71bNnKXyYINanRlB64VCLtU1Bd0UFf6C3oxP0bbltVYpcLS/WH20QF+WyWDQrXWK+z4S+uoxVxdCtobjXN0qNVafM/tKO7/wD1441q552TpH8ArzDWl3+1oVOFPkA1ybvPelL2irgNyXdY/rGvfsv8kVPNquhT8sUJ9z3ffouacNGauCBjg21Lqp5N1KFWLG37DezwhblPjn3d3acmbxXV0VCshExPPf//StziIAAAAAAKhQTtIxJpxBcYPxDpSbmaZ16qLmRdUl2vska3Rv/xYMl4xLljamlc8uJMyX2xqozk6FbGKP0JXQxyM91cqDoApXFDXqcpl6W3ndp0tghXcYz2lrmhaphZoX0W+/qRQO7D6o7bmeVhXrNp3YPsiDVVbb6Q0hKult1tJusRCssj9o5XqZvAfBnml9NWri37VU23PvtMpzyfjfi6nEdGYtxZeZ3UrfGCI/ggj9PpwobXVK4OsWiVqn+FXcN65VVPuAUAoPKB2sS6giJZyvbnEL9Jj3HEV2QeRSv3nhrpFsnkGvB4SoMA82xkTkY3AE5H3CKWrlzBYIGGNi1ilfWPfnHZ8jU1typYWr/fNuwOoFUm560MBE21pF/IIsVkA3T063XJHed2DeddpinSuwpcjO8a7r3OhpdRNkDI9InOjf8QCAwvYfyGFiYmJiYmJiYjqBU0XB4Nfq4uvKxT1NDWylcXxKqysnT6W3a+wDu+uZE9xyoMk1GjrD9eV5WQjoPsg7Ff76HyUTjffAdK9kWta4ulda/bxGOVtLXSmWGbtVy69Ih16meydX103ffaGF6qtOfpXZrq6PnCnyr/rd53hOt+93KraL6RoplFCDXp9w7a/V7XEbtCLVd1d9zvXPO88U0FKkVAQOfn0cg3q7dOg4rHBLEe/g13Y3Yn31cCncj6d1IACgPKlVszoTExMTExMTE9MJnCqKkzQw0UzN3V39uHVrqebmpz3+QjHdQITYx/S3X9pjTJROV067tXJxska5xn0wk+meyv+r0pJ1jeMWuiI2eCuUxMRg1U9hPKcivu73atSiha+FRQFTyV3aY0yUDju9IUSlki2MVih+ovYeeFrQRCMPii8znhYWi1LD6yfGnC/cfUsuWAuAEyRji1Llaslgj4dQkkrmSO7JG6QYpz7FDZi8O10bAruAkhn3QLq9Y1mPr3C8muiUOCl1b0Do5buXI29xUl7ZgRir/ITbAiYo06qpmFaPAAAAAADgpHWSBiY8/ehPHuKumF6raUPedo0p4Yy/UDDmhCXzQ033G/za6UfffR5rn/HjzEw57D7CHo/B142Tl+nOadHiJM99Bva1b0mZ+aQWOfPhanSdGdT6Tr+K6ZTJZpDqSFpGhPGcnPSOnunqLd6MD+DuAsoZG2CAa+DtHe//TaPNTEkCMNYzHmlamwQMRl1qTHr1pMa/73sGnvQ+oBvDDkJFwG/cD8+4HipqoOZCovUeeAJV7iBayuTXtC5U8Op4hFFmPN2gBcm7YMxYGGXQZVoBu0sj/y/qzVgJG5z5aLPHafDruqcEQYkw7mntYhP4CBjo2m6dERB02PmW0w2S4RmjQYEtI76bq1dU0vEMyphJW25bdWtlWio440mk/dN1T2v0iunK6SRiP8uQ40dY99hlmNr6PbcImf/e6TJ1LsuWeAAAAAAA4ISpdMzizJeKvMNHnLmSMl81X6v0YZ6WBKYLpJU9fPPTW831dcWSMsXpysjDtCQIbH1gjhngDUZ0e0CT2jyphe5zWMyX4XZ/+jbTpc1Tvsr3gGu4BbteWbLvRc/7Dx5smIr23k/q7IL0mH78fX33jxr/gNaNS9PQ1YUHIzZ57Q4C+N+T/3nMIMu+a5ttr6m5O68MOy0B1yr2OQWkY4j1nDY+WVAGPAL2Md30uLoZ8n+GbgHP0yhIz0DN8suTwvlRoOB6AXni0nu8u1wVnV53WTZpH6+/Fsxfknpr4Wccgmf/y+z88uVf4HMKJ73FvAcFQpeZ0M/Anc8BZdM69sZNnuMKykXId86XpkK/CyyF1xX9DGx+17LOP76FRi9uWXg/S7BrRmp78oO6J81VNW+6vunl/cJ/jV55a7wWOkt9Wg5Talq6BniDAt+97BmHoBDTVY93IGz/c7iZMQJMFz52GsxgzAXXddLlt86MH3G3Xsl1Fh3ec4SvmHsyCt2X+368abtUt+9/2Zcev3zzMEGOWbVCpc9zPysSikp/8Hu2FVzP3M9bOsWVvkLrCt2P4X9PtoD9TNdOvnEfin+ObiHLVcYCPbz0M3ULvHZQofPI5O1jO50FLzOOhmv8CHsf+T8XT7pU+N7DUBrvG3Cyiq1axZkDyh/Tp3FF6j4AAAAAJ045DEwACFekgQwcjxDBuAonWOW7EWp92QoWSCnMpO0LdSqFMQ1QDpiA4cvBA4TArwGBCZRnBCYAAABQWhj8GiiXzNf+vgHSA6eRrm6iEC0ddNfqW5Xe23oGri6iKhx7fIkg7PUbtKUcFr21i8eXz0GvESHn9x5BCQAAAAAAKjxaTAAnMVpMoEwEdDPkEaQ7oigIr8UEAFQctJhAeUaLCQAAAJQWAhMAAABAOUFgAuUZgQkAAACUFrpyAgAAAAAAAAAAUUNgAgAAAAAAAAAARA2BCQAAAAAAAAAAEDUEJgAAAAAAAAAAQNQQmAAAAAAAAAAAAFFDYAIAAAAAAAAAAEQNgQkAAAAAAAAAABA1BCYAAAAAAAAAAEDUEJgAAAAAAAAAAABRQ2ACAAAAAAAAAABETakHJipVquTMAQAAAAgXf0cDAAAA+LUo9cBE5cr8gwoAAACIFH9HAwAAAPi1KPXAREzlynztBQAAAETA/P1s/o4GAAAAgF+DMvnXT5UYghMAAABAOMzfzebvZwAAAAD4tSiTfwGZf1xVrRKjGAIUAAAAQFB2Kwnr72XzdzN/MwMAAAD4Nal0zOLMAwAAAAAQ1P4DOapVs7qzBAAAAJQcbcYBAAAAAAAAAEDUEJgAAAAAAOAkdOjHhXr9lYXaeNBZgZPIGk1pf58+yHAWAQD4lSEwAQAAAAAoV+Lj4+2xV9xTYmKirr/++oLlyy+/XFlZWc4RIRxM0wePDtdvLuyslu0v1W9unqgPvs92Np78Ni54XI9MfFwLfnRWlJEd792nlhPXOEtlZZc++KP1nP44VzucNRXZjvde1cTbb9NvE5wVq56xyqgppwFTkPxYNdFse0arnOXwOPkbcP4pkZ0kPBlzdWeI9HnSHjB5y1aoPHAmO63B9vHLozK6z5zdSluZrEVfbXVWAACOF4EJAAAAAEC5snfvXtWoVVftL7zMnmrVrqtvv/1W77//vnp0PUU3Xd9Wy5YtswMVoe3Sgvv/oD+9na0LfjdED911o7rmL9SfxryrdYecXU5yZ9/9nua/855GnuuswElil5IWSP+6uaOz7Oj+oL76bqXS3NML16qRs7k09H18vu/cSx7U2puj32rDLw3fvaQxrwz3BA7Ov9d/vbrqX0u8yys18nzP8dIgzSnYb6XmnPGELgoInI15w7f9uO9z7Wea/u5n+mRjpjbvqjiBTQA40QhMAAAAAADKnZZnnafUq5bZU9uzz7PXXXBucy2dvk0zn9hYEJwIKeNzvb80T7p1jP7+lzs1/J579ehb8/W/t4bo7GpmhzztWP211m2x9tmTpqVvP6/X3/tamwPrHa1tSe/N1EvPztaCtbuclS7ZaVo1f3bQ7Ye2rNEHr4Q4r2Pfj18rKWmNdniDJYe2al2Ste5H1wHWNXxp2KpD+Z7VhzK2au++rc6xrvvJ36VVZv9X5mpVYGWsOb9Jr7VtqbmOPaVpn7P5xGmg376wslQq4u0WHuZL+TJv5VFCVtn8WD3U1dtaIkLnjzEV7veqoJ6+pBJaqYOStPmENgLoqK63SxOXlPxZnXp6V+nH1NAtbRIu0ZXdk/RxcpD3NxwdLtXQm69T94bOMgCgVBCYAAAAAACcFA7kxjhz0rbMA85cCPWaqU0N6+fyZVpqKuttsapT25lVtpKeG6mr/zhMg3r9QY+/MU/PPjRS3S8fp6V7PHvsmHufLrpkoP4yfYGWvveM7vz91er/4gbPRsuhVc9r0OUD1f/+F/Tx0lf18O9H6KXVnmttnvuAftNruCbOSdKCZ++zznufPthib/Kz8YORGjTsVSU519Ser/XsMGvdB2me5YNrNOWmgRo0ca6WLp+riUP667bpG2RiEfu+fNV1rHM/jz6iv1xqpfOhZ/T4xCfU/5qJSvIGPTIW6k+X9NeQ6Wu0N32RHjHXuX+ipvwzSZudXXzMGAiebnAueihJemW4r2ucgq5zPN3m+HWTY7rxCdjuPc7sV9CVj3cfu9sf3z53vhdQeeztFsi9X6GAg/91LnqopeeL+jEBLRJCMd0DBXSZZNLpd1+BXQgF6T5oyipfnrUsYvyIHcnLpL6XRBiAcZ/bmkLkwZRV7rwoprunjFSt1SB1dUc4Ap5HyDww9+/a1+/Z9nxCCzRT/b37lvFYGpt/SlLfiPMTAHCiEZgAAAAAAJQ7mzesVvvFl9vTj9+tttd9/8MmNbu8ti4adIqWJW3Rrbfeaq8PqtqFGvBID53682zd1utSdb9pnF5P8rU2KHDoHA3/8DP998P5WvHqIJ19cKEm/scTfGjU/V7NWPyZln/4umYuma/n+0irXlyidfZxX+vZO2YoKWGQ5nyxWHPmWMd/8ZKGnxsr/TJbjzywTGc/Msdz7OK39a8LkjRhxtd2QCEi3y/VxJ8b6KEX3tbMd17Xf5cu1vND28pu9BHMN3k6f/piuwub5Q91lA7O1io7wdK6uS/og4PX6h9vjNeYR6bo1b+0lWr01UPvWPft2cWlo0Y6XeF89XhX6faXfF3jhN2qwWkF8d18/au7tPaF+5TUM+AcCdfqefd1gkrTi29Ij9n7Wef6cbhfAGPVxKv1pzN86Ztz+0z1L9XWEms05eY0v26F0v6YVqj7oIk3L1VX7/Y3WupPPYMFBjzdOF3ZpYGz7LL8CV1UUJnvmXyBAd/zSHtjkLOusLUvvCmN9+z31eNp6h8QcFnw0NW+8/dM0x3ulhcm0NBzma4suM+XpJtdafB2tWRff5keHud9Jp5uljwtOaxpyYPq69fd0tO+sTQKWaOkV6QxPcMMItncQY/OevF06928Pkh+epkWKsu7Bs9zAMAJQ2ACAAAAAFDuZO/L0jfJy+zJzHtty9irr1M83/evXu0JWIRy6rVPavmSl/Sv2y+0dl6oR4b112/GLNRmd3CidVt1cCpNq118ua60fq5b7XQLU6+lzk44pI2rFmrWs69qqRlk+uAGbTRff3//tWYdlPoOHazznVYY1Wp7ZnZ8m6Slaqs2tbd6ukr6Yqv21rDW/7I18i6Tmp2p39bYpRcfGafXl6ZpX43aquNrOFLYBT3U8yxPOk5tF6yyt5bqOlGNajXqSFv2RR4sKam+D7nGCYjMlTd7gyEN1LVvVy34ydv/0C5ttp6Lu2L7/J6DArr28W9REfEX/HbLggCmkj6gRcaYN1yV/OcP1r+6z1RSYGRi1Zv60xmuQa/dgowxEXF+9R1ccO5GXXqo7/I0v9Yw/uM7XK4kKz+8gYdVbzwhPf6QK20dNfKNQcG7WVreUneUsNstv+BI++GaePtLEd6n/xgTj+nxQi1eJt7set49n1CHN4oKjgAATgQCEwAAAACAcqdurdq67MLO9mTmjdq16qrLBZfZk5k3A2KbqUgJHfXbMVO0PGWOXh3cUpsXmpYT3q6dQjjiqaq3u2q6uJdueypJ+5pfqLPPsFd75OfZFaFtmgX5CtsOfKRpwfRnNOWfnmnBlrbqmlDH3hyRhD7614dTdEfTr/XsiIE65+LhemltMekP4eyrh+i3NWZqwiOztXT+83rk71/r/LsuD9Jaomx0aFHSL9Zb6tSQlcqeQIW78nzVkpnSGa1clebelhveKcJKatOqw24B4arsLmH3RCZtkbUOiExkeVx4fAf/oIE13WzlZbDxG7pbz8SZjZR/cMSawu1yKwRPAGaZklzPwzP4taeljpkvaUAMAFB2CEwAAAAAAMqd81q31bKjne3pvLM8VecdzjxP/XYus6ezWnoGxM7K8rWmCLQvwzVeQbVmuvxKT1dBm3eGGIl6z1b76/JGdqV2mt5/coaSuo/XnDfGa/j1XdXhFM9uthp17Ar9pat8Y054VathAikNNeDR1+3ulwqm8T2K/8I8sKspI+FCDZ86X199/rRG1lujx6ctLVxRHI6Yaoqr1lUXnL5TG3+W+j71tmbc3TF0t1AniUbXP62vTn+1oDK9/48P6qvjrOwuxNuNkXcygYpx/l/pF890WxQwpkM5UyhoYKZSGJD8xGig3/5xkCbeXMxYGwCAE4LABAAAAACgwjm0+nkN6Xm9Bt0/UwtMd0pJCzXl6dnWlo66/ALXV+XfzNOspWna8csavT72cc1SS91xjanUztM+M6h0xjZt3pGtzatmatZ79hEeZ/XTHd2ldc8+oonzreMz0rR02vP2wNl1etyoMa236vEHntAHa3dZ59mljfPn+ga4djn1dBMs+VpL5iZ50viXiVrg2WQ79MXz+su0JG3MyNY+b59LNaqVKJiwI3mhZtVoqcuvGqwBNw/Wlec1OM6gRAOdeob/F/dmYGd3+qPBDLr8sB4qeUV6s5YBX9x7xj0oEGRw7B2bnMHJXfy6PDJdNi0PCEKsWqqJt1/u6+7phPMf3+H8mx+UHnrTrxLfHtC6VMfrKH12meveQ12DtYI5/94yGHMEAFAaCEwAAAAAAMqd1T9v0OVHVtjT6h++s9et27Ba79e53J6+Ty16fIlqHQbrH49fq2pJz+jOYSM1aNg4TUw9R4++9bQGnObsZLSurc3P/kEX9R2uR75oqeGTn9bws8yGtrruL9fq/NXPq3/PXuo/IU2X33OjfYhHA/128ut6tOsuTbl/oC7qOVC3vbFWG3/Jti7eUSNfeFLDay/Vn35/tc655Gr95olFWrXe1YLD0ajPbRpjXe+Df96nQfe+qb23PK2/X+xstBxSnHL/84B+Y6XhnJ73aVbta/Xq//VQCTqFUqMufTTg0EwNMue6xDOd2bGXbpu2pshxJuyucl4Z7uvex1VJf/6YlzTGte3hn1qqr7PNN7bD1frTcne//65ukMyAy86xFz2U5OpKKPyv3E1wp1AXRBEcb7pqeuxxubpqWird7myz7Gg2WF/1XeY3MPVFD7XUnIAAyBgtLdje0h4s2zXmhMmLF6x1N5e0JccaTSk490ypIM8j61IqcHyHtY/P93VzZLqsWtJSLxZs76z+esnX1ZIJ0Jj15vrugboDK/0TLtGV3d0DVJes26vQ/Ae/DvYs3Lxl1D1gevh2KPnd9zX9jfe1fKe1uHO9PT99wQ+ezQCAEqt0zOLMAwAAAAAQ1P4DOapVs7qzVLbi4+O1d+9eZym0unXrFtmVk9ehPdk6pGqqUy/WWWOYSvOr9Sc9qK9euFZ1rH1Up7aqBQ4sfShb+/KsY2u7jw1w0LRmCDy/x6Fs69pHgm8rkJ+nffusFAa7viOs8xRj3YsDNSTjTn10zwVOS4lsJf19oO6ce7le/WK8LncG8T65mAr7per6nTsIIO147z5d9NNtxz1+QXg8ZWnzH4sYy8AEYMZJj0XamgMAgAqKFhMAAAAAgHLFBBuWLl1a7BROUMKoVq92sRX6Zp+gQYFq1rFFBSWMGqHPX6128ddWTKy1T+ighBHWeYq0Sxu/SVPjarXsAIi5Xp06dtxFan2mTj0pgxKWjFStdWbdNv+U5MyVD6veeELqewlBCQAAHLSYAAAAAAAUK5otJqLDv8XEr6HCeJ/p1uremUpSA3U1XVitTZO63ql/PTlE5zd0djoJ2a0jHgoIRHSP5nMNo8UEAADwQ2ACAAAAAFCsiheY+JVyuo2ymdYgNTyzAAAA0URgAgAAAABQLAITAAAAKC2MMQEAAAAAAAAAAKKGwAQAAAAAAAAAAIgaAhMAAAAAAAAAACBqCEwAAAAAAAAAAICoITABAAAAAAAAAACihsAEAAAAAAAAAACIGgITAAAAAAAAAAAgaghMAAAAAAAAAACAqCEwAQAAAAAAAAAAoobABAAAAAAAAAAAiBoCEwAAAAAAAAAAIGoITAAAAAAAAAAAgKghMAEAAAAAAAAAAKKGwAQAAAAAAAAAAIgaAhMAAAAAAAAAACBqCEwAAAAAAAAAAICoITABAAAAAAAAAACihsAEAAAAAAAAAACIGgITAAAAAAAAAAAgaghMAAAAAAAAAACAqCEwAQAAAAAAAAAAoqbSMYszDwAAAABAUPsP5KhWzerOUnTxz1YgfJUqVXLmAAAovwhMAAAAAACKFe3AhPmn6tGjR3X4SL798+hR/ukKFKdy5UrWVFlVq8TYPwlSAADKJ+n/Az8Pa+JllO25AAAAAElFTkSuQmCC)"
      ],
      "metadata": {
        "id": "dZHCaFFkE9T9"
      }
    },
    {
      "cell_type": "markdown",
      "source": [
        "# **Conceitos Chave**\n",
        "\n",
        "\n",
        "\n"
      ],
      "metadata": {
        "id": "w_UZfoxOj0I_"
      }
    },
    {
      "cell_type": "markdown",
      "source": [
        "## 1. **Analise de sentimento**\n",
        "A análise de sentimentos é uma mineração contextual de um texto que identifica e extrai informações subjetivas no material de origem. Ela ajuda as empresas a entenderem o sentimento social de sua marca, produto ou serviço.\n",
        "\n"
      ],
      "metadata": {
        "id": "58DAirRAAlS4"
      }
    },
    {
      "cell_type": "markdown",
      "source": [
        "## 2. **Transformers**\n",
        "São modelos de linguagem com redes neurais treinadas em muitos dados. Eles têm a capacidade de gerar texto muito mais fluente e coerente do que os modelos de linguagem anteriores e também podem ser usados como uma base sólida para outras tarefas de Processamento de Linguagem Natural.\n",
        "\n",
        "\n"
      ],
      "metadata": {
        "id": "aK17w71wAm35"
      }
    },
    {
      "cell_type": "markdown",
      "source": [
        "## 3. **FinBERT**\n",
        "E um LLM adaptado ao domínio financeiro baseado no algoritmo BERT do Google"
      ],
      "metadata": {
        "id": "j-JLKGXqAodO"
      }
    },
    {
      "cell_type": "markdown",
      "source": [
        "# **Exemplo de Aplicação**\n"
      ],
      "metadata": {
        "id": "wVjY8oQZkGwe"
      }
    },
    {
      "cell_type": "markdown",
      "source": [
        "Realizar analise de sentimentos de tweets financeiros relacionados a \"petrobras\" com o FinBERT."
      ],
      "metadata": {
        "id": "jdN6Lw_1sLc3"
      }
    },
    {
      "cell_type": "markdown",
      "source": [
        "# **Exemplo de Código**"
      ],
      "metadata": {
        "id": "TCHlEDhSkLPE"
      }
    },
    {
      "cell_type": "markdown",
      "source": [
        "## Instalacao de dependencias"
      ],
      "metadata": {
        "id": "JEpW8ZXKuVo0"
      }
    },
    {
      "cell_type": "code",
      "source": [
        "!pip install transformers"
      ],
      "metadata": {
        "id": "L-3SjGNNuOe5"
      },
      "execution_count": null,
      "outputs": []
    },
    {
      "cell_type": "markdown",
      "source": [
        "## Configuracao do pytorch para apresentacao de resultados deterministicos"
      ],
      "metadata": {
        "id": "RBwG2mU43eCR"
      }
    },
    {
      "cell_type": "code",
      "source": [
        "import random\n",
        "import os\n",
        "import numpy as np\n",
        "import torch\n",
        "\n",
        "master_seed = 1984\n",
        "\n",
        "random.seed(master_seed)\n",
        "os.environ['PYTHONHASHSEED'] = str(master_seed)\n",
        "np.random.seed(master_seed)\n",
        "torch.manual_seed(master_seed)\n",
        "torch.cuda.manual_seed(master_seed)\n",
        "torch.backends.cudnn.deterministic = True"
      ],
      "metadata": {
        "id": "nYvKfeYV3KgA"
      },
      "execution_count": null,
      "outputs": []
    },
    {
      "cell_type": "markdown",
      "source": [
        "## Configuracao do uso da GPU (⚠️ Habilite a GPU no COLAB )"
      ],
      "metadata": {
        "id": "U4PktBI73noI"
      }
    },
    {
      "cell_type": "code",
      "source": [
        "import torch\n",
        "\n",
        "device = torch.device('cuda' if torch.cuda.is_available() else 'cpu')\n",
        "pipeline_device = (0 if str(device) == 'cuda' else 'cpu')\n",
        "print(f'Dispositivo Utilizado: {device}\\n'\n",
        "      f'Dispositivo Pipeline: {pipeline_device}\\n')\n",
        "\n",
        "if device.type == 'cuda':\n",
        "    print(f'{torch.cuda.get_device_name(0)} \\n'\n",
        "          f'Memoria Alocada: {round(torch.cuda.memory_allocated(0)/1024**2, 1)} MB \\n'\n",
        "          f'Memoria em Cache: {round(torch.cuda.memory_reserved(0)/1024**2, 1)} MB')"
      ],
      "metadata": {
        "id": "3N3H0nfS3mvF"
      },
      "execution_count": null,
      "outputs": []
    },
    {
      "cell_type": "markdown",
      "source": [
        "## Download Inilicilizacao do modelo pre treinado\n",
        "- Modelo pode ser encontrado no HuggingFaces: https://huggingface.co/turing-usp/FinBertPTBR"
      ],
      "metadata": {
        "id": "hklqJH3pus8m"
      }
    },
    {
      "cell_type": "code",
      "source": [
        "import pandas as pd\n",
        "import numpy as np\n",
        "from transformers import BertTokenizer, BertForSequenceClassification\n",
        "from transformers import pipeline\n",
        "\n",
        "finbert_model = BertForSequenceClassification.from_pretrained('turing-usp/FinBertPTBR').to(device)\n",
        "tokenizer = BertTokenizer.from_pretrained('turing-usp/FinBertPTBR')"
      ],
      "metadata": {
        "id": "pWd8dBRRuqn_"
      },
      "execution_count": null,
      "outputs": []
    },
    {
      "cell_type": "markdown",
      "source": [
        "## Leitura do dataset com tweets sobre a Petrobras\n",
        "Esse dataset nao existia previamente entao criamos ele com tweets entre 2018 e 2022 com uma amostra de 10 tweets por dia. Publicamos no Kaggle para uso publico, mais informacoes em: https://www.kaggle.com/datasets/brenojesusfernandes/petrobras-tweets"
      ],
      "metadata": {
        "id": "Jq8ofc9NzC1m"
      }
    },
    {
      "cell_type": "code",
      "source": [
        "petro_tweets_link = 'https://raw.githubusercontent.com/BrenoJesusFernandes/petrobras-tweets-analysis/main/petrobras-tweets.csv'\n",
        "petro_tweets_df = pd.read_csv(petro_tweets_link, parse_dates=['posted_time'])\n",
        "petro_tweets_df.info()"
      ],
      "metadata": {
        "id": "CMBBIu-LxFle"
      },
      "execution_count": null,
      "outputs": []
    },
    {
      "cell_type": "markdown",
      "source": [
        "## Tratamento do dataframe\n",
        "\n",
        "- A analise de sentimento sera mensal, logo criamos um campo que identifica apenas o ano e mes do tweet.\n",
        "- Como o modelo foi treinado na lingua portugues, pegamos apenas tweets dessa lingua e que nao eh retweet, retirando assim as duplicacoes de tweets.\n",
        "- Unicos campos que serao utilizados serao o de conteudo do tweet e sua data (apenas ano e mes)"
      ],
      "metadata": {
        "id": "XVjQDH9U2Tn0"
      }
    },
    {
      "cell_type": "code",
      "source": [
        "petro_tweets_df['year_month'] = pd.to_datetime(petro_tweets_df['posted_time'].dt.strftime('%Y%m'), format='%Y%m')\n",
        "petro_tweets_df = petro_tweets_df[petro_tweets_df['content original language'].str.contains('pt') & ~petro_tweets_df['is_retweet']]\n",
        "petro_tweets_df =  petro_tweets_df[['content', 'year_month']]\n",
        "petro_tweets_df.head()"
      ],
      "metadata": {
        "id": "mkbbOW8DbW0q"
      },
      "execution_count": null,
      "outputs": []
    },
    {
      "cell_type": "markdown",
      "source": [
        "## Fluxo do processo de analise de sentimentos\n",
        "- Instanciamos a pipeline com modelo FinBERT e aceleracao de GPU\n",
        "- Transforma os tweets em lista para realizar a classificacao de sentimento de cada um"
      ],
      "metadata": {
        "id": "z1IRLXuS3m_b"
      }
    },
    {
      "cell_type": "code",
      "source": [
        "classifier = pipeline(\"sentiment-analysis\", model=finbert_model,\n",
        "                      tokenizer=tokenizer, device=pipeline_device)\n",
        "\n",
        "\"\"\" Tempo medio de execucao com GPU 4min e CPU 1H 30min.\n",
        "    Utilize o arquivo pre-processado (duas celulas abaixo)\n",
        "    para pular esta etapa.\n",
        "\"\"\"\n",
        "tweets = petro_tweets_df['content'].tolist()\n",
        "classified_tweets = classifier(tweets)"
      ],
      "metadata": {
        "id": "yHN6TOUk7_tF"
      },
      "execution_count": null,
      "outputs": []
    },
    {
      "cell_type": "markdown",
      "source": [
        "## Organiza resultados obtidos em um dataframe\n",
        "\n",
        "- Transforma resultados em um dataframe\n",
        "- Adiciona colunas de tweets e data no novo dataframe"
      ],
      "metadata": {
        "id": "jkrzMZPZ3vxl"
      }
    },
    {
      "cell_type": "code",
      "source": [
        "classified_tweets_df = pd.DataFrame(classified_tweets)\n",
        "\n",
        "classified_tweets_df['sentence'] = petro_tweets_df['content'].tolist()\n",
        "classified_tweets_df['year_month'] = petro_tweets_df['year_month'].tolist()\n",
        "classified_tweets_df.head()"
      ],
      "metadata": {
        "id": "tAHkOAFe3whQ"
      },
      "execution_count": null,
      "outputs": []
    },
    {
      "cell_type": "markdown",
      "source": [
        "## Se nao tiver acesso a gpu utilize o arquivo previamente processado"
      ],
      "metadata": {
        "id": "xol58B2mJVaF"
      }
    },
    {
      "cell_type": "code",
      "source": [
        "# classified_tweets_link = 'https://raw.githubusercontent.com/BrenoJesusFernandes/petrobras-tweets-analysis/main/classified_tweets.csv'\n",
        "# classified_tweets_df = pd.read_csv(classified_tweets_link, parse_dates=['year_month'], index_col=0)\n",
        "# classified_tweets_df"
      ],
      "metadata": {
        "id": "bgvTQcT1JaI5"
      },
      "execution_count": null,
      "outputs": []
    },
    {
      "cell_type": "markdown",
      "source": [
        "## Analise da distribuicao dos sentimento\n",
        "  - Concluimos que existe muito mais neutros do que positivo e negativo"
      ],
      "metadata": {
        "id": "rRreVL4_9nnu"
      }
    },
    {
      "cell_type": "code",
      "source": [
        "sent_dist_df = classified_tweets_df['label'].value_counts()\n",
        "sent_dist = sent_dist_df.plot.bar(xlabel='sentimento', ylabel='quantidade', rot=0, legend=False)"
      ],
      "metadata": {
        "id": "PYNhnosL6b1y"
      },
      "execution_count": null,
      "outputs": []
    },
    {
      "cell_type": "markdown",
      "source": [
        "## Transformacao do sentimento de categorico para continuo\n",
        "  - Primeiro transformar sentimentos para numeros: 0 Negativo, 1 Neutro e 2 Positivo\n",
        "  - Conseguir a media do sentimentos do dia, logo se existir mais tweets falando positivo o numero chega mais perto de 2 e quanto menos chega perto de 0\n",
        "  - Colocamos na escala entre 0 e 1 para melhor visualizacao"
      ],
      "metadata": {
        "id": "15ei6Qqw95R8"
      }
    },
    {
      "cell_type": "code",
      "source": [
        "def label_to_num(label: str) -> int:\n",
        "  if label == 'NEGATIVE':\n",
        "    return 0\n",
        "  elif label == 'NEUTRAL':\n",
        "    return 1\n",
        "  return 2\n",
        "\n",
        "classified_tweets_df['num sentiment'] =  classified_tweets_df['label'].apply(lambda label: label_to_num(label))\n",
        "monthly_tweets_df = classified_tweets_df.groupby(by='year_month', as_index=False)['num sentiment'].mean()\n",
        "monthly_tweets_df['num sentiment'] = monthly_tweets_df['num sentiment'] / 2\n",
        "monthly_tweets_df.tail(12)"
      ],
      "metadata": {
        "id": "3rbNkW-m6Fb5"
      },
      "execution_count": null,
      "outputs": []
    },
    {
      "cell_type": "markdown",
      "source": [
        "## Sentimento dos ultimos 12 meses"
      ],
      "metadata": {
        "id": "-5-altgjBVjI"
      }
    },
    {
      "cell_type": "code",
      "source": [
        "monthly_tweets_df.tail(12).plot(x='year_month')"
      ],
      "metadata": {
        "id": "ONQ8FPmhBNtV"
      },
      "execution_count": null,
      "outputs": []
    },
    {
      "cell_type": "markdown",
      "source": [
        "# **Uma ideia de Projeto de Aplicação**\n"
      ],
      "metadata": {
        "id": "airejnWXkOUn"
      }
    },
    {
      "cell_type": "markdown",
      "source": [
        "Exploracao da relacao do sentimento com preco da acao da petrobras \"PETR4\", para avaliar se é possivel conduzir futuros estudos de predicao de preco de acoes utilizando essa feature."
      ],
      "metadata": {
        "id": "dA0i9J4m5gyF"
      }
    },
    {
      "cell_type": "markdown",
      "source": [
        "## Leitura do dataset com precos da acao da PETR4\n",
        "Esse dataset nao existia previamente entao construimos com o preco das acoes desde 1992. Publicamos no Kaggle para uso publico, mais informacoes em: https://www.kaggle.com/datasets/brenojesusfernandes/petr4-historical-data"
      ],
      "metadata": {
        "id": "vCS-iRHdxFiq"
      }
    },
    {
      "cell_type": "code",
      "source": [
        "petr4_link = 'https://raw.githubusercontent.com/BrenoJesusFernandes/petrobras-tweets-analysis/main/PETR4%20Historical%20Data%20-%20Monthly.csv'\n",
        "petr4_df = pd.read_csv(petr4_link, parse_dates=['Date'])\n",
        "petr4_df.info()"
      ],
      "metadata": {
        "id": "WJztsU-z34dr"
      },
      "execution_count": null,
      "outputs": []
    },
    {
      "cell_type": "markdown",
      "source": [
        "## Tratamento do dataframe\n",
        "\n",
        "- A analise de sentimento sera mensal, logo criamos um campo que identifica apenas o ano e mes da acao.\n",
        "- Normalizamos a escala (valores ficam entre 0 e 1) das acoes para melhor visualizacao"
      ],
      "metadata": {
        "id": "6N4R0jn5Gxly"
      }
    },
    {
      "cell_type": "code",
      "source": [
        "petr4_df['year_month'] = pd.to_datetime(petr4_df['Date'].dt.strftime('%Y%m'),\n",
        "                                        format='%Y%m')\n",
        "petr4_df['norm close'] = petr4_df['Close (R$)'] / petr4_df['Close (R$)'].max() \n",
        "petr4_df = petr4_df[['year_month', 'norm close']]"
      ],
      "metadata": {
        "id": "IYkQ_7EWGm1X"
      },
      "execution_count": null,
      "outputs": []
    },
    {
      "cell_type": "markdown",
      "source": [
        "## Visualizacao dos preco das acoes dos ultimos 12 meses"
      ],
      "metadata": {
        "id": "k3QWUgb3ha0g"
      }
    },
    {
      "cell_type": "code",
      "source": [
        "petr4_df.tail(12).plot(x='year_month')"
      ],
      "metadata": {
        "id": "HJN-1dkq51b5"
      },
      "execution_count": null,
      "outputs": []
    },
    {
      "cell_type": "markdown",
      "source": [
        "## Organiza preco de acao e sentimento em um dataframe"
      ],
      "metadata": {
        "id": "GLPCV-nihjDC"
      }
    },
    {
      "cell_type": "code",
      "source": [
        "stock_sentiment_df = pd.merge(monthly_tweets_df, petr4_df, left_on='year_month', right_on='year_month')\n",
        "stock_sentiment_df.tail()"
      ],
      "metadata": {
        "id": "p0eThj8nGWSu"
      },
      "execution_count": null,
      "outputs": []
    },
    {
      "cell_type": "markdown",
      "source": [
        "## Correlacao entre sentimento e preco da acao\n",
        "- Fraca correlacao entre variaveis detectada"
      ],
      "metadata": {
        "id": "bnv4SfnBnUOU"
      }
    },
    {
      "cell_type": "code",
      "source": [
        "stock_sentiment_df.corr()"
      ],
      "metadata": {
        "id": "JZRMG_fEnFsu"
      },
      "execution_count": null,
      "outputs": []
    },
    {
      "cell_type": "markdown",
      "source": [
        "## Correlacao dos ultimos 3 meses entre acao e sentimento na serie historica\n",
        "   - Fortes correlacoes encontradas na serie historica"
      ],
      "metadata": {
        "id": "Vp8UomEGhvi2"
      }
    },
    {
      "cell_type": "code",
      "source": [
        "stock_sentiment_df['3 month rolling corr'] = stock_sentiment_df['num sentiment'].rolling(3).corr(stock_sentiment_df['norm close'])\n",
        "stock_sentiment_df.tail(12)"
      ],
      "metadata": {
        "id": "rToXmfe9HexI"
      },
      "execution_count": null,
      "outputs": []
    },
    {
      "cell_type": "markdown",
      "source": [
        "## Correlacao de 3 meses plotada desde 2018"
      ],
      "metadata": {
        "id": "vDQet0lgh9L2"
      }
    },
    {
      "cell_type": "code",
      "source": [
        "stock_sentiment_df['3 month rolling corr'].plot()"
      ],
      "metadata": {
        "id": "Ngn40UXG6T7y"
      },
      "execution_count": null,
      "outputs": []
    },
    {
      "cell_type": "markdown",
      "source": [
        "## Mede quantos meses obeteve correlacao forte ( maior que 75% ou -75% )"
      ],
      "metadata": {
        "id": "GMvvMeh1iBlY"
      }
    },
    {
      "cell_type": "code",
      "source": [
        "num_strong_corr = stock_sentiment_df[(stock_sentiment_df['3 month rolling corr'] >= 0.75) | (stock_sentiment_df['3 month rolling corr'] <= -0.75)].shape[0]\n",
        "num_tot_corr = stock_sentiment_df.shape[0]\n",
        "f'% Strong correlation -> {round(num_strong_corr/num_tot_corr, 4) * 100}%'"
      ],
      "metadata": {
        "id": "1citLSpQJSGL"
      },
      "execution_count": null,
      "outputs": []
    },
    {
      "cell_type": "markdown",
      "source": [
        "# **Referências**\n",
        "\n"
      ],
      "metadata": {
        "id": "k8prd3UIka4O"
      }
    },
    {
      "cell_type": "markdown",
      "source": [
        "[1] HUANG, A. H.; WANG, H.; YANG, Y. FinBERT : A large language model for extracting information from financial text. Contemporary accounting research, 2022.\n"
      ],
      "metadata": {
        "id": "tEeYTbLjrMzc"
      }
    },
    {
      "cell_type": "markdown",
      "source": [
        "[2] MALINOWSKI, M.; FRITZ, M. Tutorial on answering questions about images with Deep Learning. arXiv [cs.CV], 2016."
      ],
      "metadata": {
        "id": "YDYUgvDkWPh0"
      }
    },
    {
      "cell_type": "markdown",
      "source": [
        "[3] STRUBELL, E.; GANESH, A.; MCCALLUM, A. Energy and policy considerations for deep learning in NLP. arXiv [cs.CL], 2019."
      ],
      "metadata": {
        "id": "12jzuFD0fjkI"
      }
    },
    {
      "cell_type": "markdown",
      "source": [
        "[4] ZHANG, M.; LI, J. A commentary of GPT-3 in MIT Technology Review 2021. Fundamental Research, v. 1, n. 6, p. 831–833, 2021.\n",
        "\n",
        "\n",
        "\n"
      ],
      "metadata": {
        "id": "EQrqVweHh5Lz"
      }
    },
    {
      "cell_type": "markdown",
      "source": [
        "[5] NARAYANAN, Deepak; SHOEYBI, Mohammad; CASPER, Jared; et al. Efficient Large-Scale Language Model Training on GPU Clusters Using Megatron-LM. 2021. Disponível em: <http://arxiv.org/abs/2104.04473>. Acesso em: 23 ago. 2022."
      ],
      "metadata": {
        "id": "YS4TXuthjlwR"
      }
    },
    {
      "cell_type": "markdown",
      "source": [
        "[6] DEVLIN, J. et al. BERT: Pre-training of deep bidirectional Transformers for language understanding. arXiv [cs.CL], 2018.\n",
        "\n"
      ],
      "metadata": {
        "id": "o5lcInodcxOX"
      }
    },
    {
      "cell_type": "markdown",
      "source": [
        "[7] Turing-usp/FinBertPTBR · hugging face. Disponível em: <https://huggingface.co/turing-usp/FinBertPTBR>. Acesso em: 27 nov. 2022.\n",
        "\n"
      ],
      "metadata": {
        "id": "CoN00EMTf0jJ"
      }
    },
    {
      "cell_type": "markdown",
      "source": [
        "# **Conclusão** \n",
        "\n",
        "\n"
      ],
      "metadata": {
        "id": "ZhJ9zy-8k4ij"
      }
    },
    {
      "cell_type": "markdown",
      "source": [
        "Encontramos correlações interessantes entre o preço e sentimento dos tweets, embora tenham uma correlação direta na série histórica bem fraca, na visualização de três meses obtemos mais de 57% de ocorrências de correlações fortes durante a série, talvez se analise se concentrasse em tweets com nome da ação “PETR4” em vez do termo geral “Petrobras” obtivéssemos resultados mais correlacionados. Como obtivemos uma pequena amostra de tweets talvez com aumento da quantidade de dados retiradas e analisadas do Twitter poderíamos obter melhores resultados futuramente. Entretanto é possível afirmar, que com apenas nossa amostra de 25 mil tweets durante 2018 e 2022 foi exigido um grande consumo computacional com GPU levando 4 minutos para processar os tweets e bem pior com processador com mais de uma hora, deve se levar bem em conta o custo e benefício da utilização desse recurso."
      ],
      "metadata": {
        "id": "zmGn_WDnrS7I"
      }
    },
    {
      "cell_type": "markdown",
      "source": [
        "# **Avaliacao**"
      ],
      "metadata": {
        "id": "v6_qdHTIN4Eb"
      }
    },
    {
      "cell_type": "code",
      "metadata": {
        "id": "BluFtfHuCGzm",
        "cellView": "form"
      },
      "source": [
        "\n",
        "Referencial_Teorico = 10 #@param {type:\"slider\", min:0, max:10, step:1}\n",
        "\n",
        "Conceitos_Chave = 10 #@param {type:\"slider\", min:0, max:10, step:1}\n",
        "\n",
        "Exemplo_Aplicacao = 10 #@param {type:\"slider\", min:0, max:10, step:1}\n",
        "\n",
        "Ideia_Projeto = 10 #@param {type:\"slider\", min:0, max:10, step:1}\n",
        "\n",
        "Conclusao = 10 #@param {type:\"slider\", min:0, max:10, step:1}\n",
        "\n",
        "\n",
        "\n",
        "\n",
        "\n",
        "\n"
      ],
      "execution_count": null,
      "outputs": []
    },
    {
      "cell_type": "markdown",
      "source": [
        "# **Nota**"
      ],
      "metadata": {
        "id": "PE7zp12CPyiu"
      }
    },
    {
      "cell_type": "code",
      "metadata": {
        "id": "2Gqw7hUZHyle",
        "cellView": "form"
      },
      "source": [
        " #@title \n",
        "nota = Referencial_Teorico + Conceitos_Chave + 2*Exemplo_Aplicacao + 2*Ideia_Projeto + Conclusao\n",
        "\n",
        "nota = nota / 7\n",
        "\n",
        "print(f'Nota final do trabalho {nota :.1f}')\n",
        "\n",
        "import numpy as np\n",
        "import pandas as pd\n",
        "\n",
        "alunos = pd.DataFrame()\n",
        "lista_tia = []\n",
        "lista_nome = []\n",
        "\n",
        "for i in range(1,6):\n",
        "  exec(\"if Aluno\" + str(i) + \" !='None':  lista = Aluno\" + str(i) + \".split(','); lista_tia.append(lista[0]); lista_nome.append(lista[1].upper())\")\n",
        "\n",
        "alunos['tia'] = lista_tia\n",
        "alunos['nome'] = lista_nome\n",
        "alunos['nota'] = np.round(nota,1)\n",
        "print()\n",
        "display(alunos)"
      ],
      "execution_count": null,
      "outputs": []
    }
  ]
}