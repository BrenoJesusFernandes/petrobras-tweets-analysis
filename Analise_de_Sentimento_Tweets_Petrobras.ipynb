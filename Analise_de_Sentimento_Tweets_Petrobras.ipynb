{
  "nbformat": 4,
  "nbformat_minor": 0,
  "metadata": {
    "colab": {
      "provenance": [],
      "toc_visible": true,
      "authorship_tag": "ABX9TyOwrdsgKkJFIIwdFETI45ul",
      "include_colab_link": true
    },
    "kernelspec": {
      "name": "python3",
      "display_name": "Python 3"
    },
    "language_info": {
      "name": "python"
    }
  },
  "cells": [
    {
      "cell_type": "markdown",
      "metadata": {
        "id": "view-in-github",
        "colab_type": "text"
      },
      "source": [
        "<a href=\"https://colab.research.google.com/github/BrenoJesusFernandes/petrobras-tweets-analysis/blob/main/Analise_de_Sentimento_Tweets_Petrobras.ipynb\" target=\"_parent\"><img src=\"https://colab.research.google.com/assets/colab-badge.svg\" alt=\"Open In Colab\"/></a>"
      ]
    },
    {
      "cell_type": "markdown",
      "source": [
        "## Contextualizacao"
      ],
      "metadata": {
        "id": "hzzCHtl4zGRK"
      }
    },
    {
      "cell_type": "markdown",
      "source": [
        "Explicacao e motivacoes do trabalho"
      ],
      "metadata": {
        "id": "EWn1znR8zNos"
      }
    },
    {
      "cell_type": "markdown",
      "source": [
        "## Instalacao de dependencias"
      ],
      "metadata": {
        "id": "pts2DWjvyfri"
      }
    },
    {
      "cell_type": "code",
      "source": [
        "!pip install transformers"
      ],
      "metadata": {
        "id": "4Pw2iwT2WLWz"
      },
      "execution_count": null,
      "outputs": []
    },
    {
      "cell_type": "markdown",
      "source": [
        "## Download e Inicializacao do modelo FinBERT"
      ],
      "metadata": {
        "id": "X4Kz1p0Eyoi8"
      }
    },
    {
      "cell_type": "code",
      "execution_count": null,
      "metadata": {
        "id": "65yWcCiiVq9m"
      },
      "outputs": [],
      "source": [
        "import pandas as pd\n",
        "from transformers import BertTokenizer, BertForSequenceClassification\n",
        "from transformers import pipeline\n",
        "\n",
        "finbert_model = BertForSequenceClassification.from_pretrained('ProsusAI/finbert')\n",
        "tokenizer = BertTokenizer.from_pretrained('ProsusAI/finbert', do_lower_case=True)"
      ]
    },
    {
      "cell_type": "markdown",
      "source": [
        "## Exemplo rapido"
      ],
      "metadata": {
        "id": "sBiBbZVbyxXk"
      }
    },
    {
      "cell_type": "code",
      "source": [
        "classifier = pipeline(\"sentiment-analysis\", model=finbert_model, tokenizer=tokenizer)\n",
        "\n",
        "sentences = [\"there is a shortage of capital, and we need extra financing\",  \n",
        "             \"growth is strong and we have plenty of liquidity\", \n",
        "             \"there are doubts about our finances\", \n",
        "             \"profits are flat\"]\n",
        "results = classifier(sentences)\n"
      ],
      "metadata": {
        "id": "Y36R641LV2Qn"
      },
      "execution_count": null,
      "outputs": []
    },
    {
      "cell_type": "markdown",
      "source": [
        "## Adquire Datasets utilizados"
      ],
      "metadata": {
        "id": "p6gWxYZHzbMW"
      }
    },
    {
      "cell_type": "markdown",
      "source": [
        "Datasets utilizados para o estudo"
      ],
      "metadata": {
        "id": "Hut5ww3tzpaH"
      }
    },
    {
      "cell_type": "markdown",
      "source": [
        "### Tweets da Petrobras\n",
        "Mais informacoes do dataset: https://www.kaggle.com/datasets/brenojesusfernandes/petrobras-tweets"
      ],
      "metadata": {
        "id": "og6EhNjjrO2u"
      }
    },
    {
      "cell_type": "code",
      "source": [
        "link_dataset = 'https://raw.githubusercontent.com/BrenoJesusFernandes/petrobras-tweets-analysis/main/petrobras-tweets.csv'\n",
        "petro_tweets_df = pd.read_csv(link_dataset)"
      ],
      "metadata": {
        "id": "1lplGW7GqvTK"
      },
      "execution_count": 36,
      "outputs": []
    },
    {
      "cell_type": "markdown",
      "source": [
        "### PETR4 serie historica mensal\n",
        "Mais informacoes do dataset: https://www.kaggle.com/datasets/brenojesusfernandes/petr4-historical-data"
      ],
      "metadata": {
        "id": "BoaGHL1nxgOv"
      }
    },
    {
      "cell_type": "code",
      "source": [
        "link_petr4 = 'https://raw.githubusercontent.com/BrenoJesusFernandes/petrobras-tweets-analysis/main/PETR4%20Historical%20Data%20-%20Monthly.csv'\n",
        "petr4_df = pd.read_csv(link_petr4)"
      ],
      "metadata": {
        "id": "Y4Fmvc61wYyq"
      },
      "execution_count": 35,
      "outputs": []
    },
    {
      "cell_type": "markdown",
      "source": [
        "### Indice IPCA Mensal\n",
        "Mais informacoes do dataset: https://www.kaggle.com/datasets/brenojesusfernandes/ipca-index"
      ],
      "metadata": {
        "id": "fU_nSaKQyB6U"
      }
    },
    {
      "cell_type": "code",
      "source": [
        "ipca_df = pd.read_csv('https://raw.githubusercontent.com/BrenoJesusFernandes/petrobras-tweets-analysis/main/IPCA%20Index.csv')"
      ],
      "metadata": {
        "id": "p-rRNaKVxGl8"
      },
      "execution_count": null,
      "outputs": []
    }
  ]
}